{
 "cells": [
  {
   "cell_type": "code",
   "execution_count": 32,
   "id": "separate-pearl",
   "metadata": {},
   "outputs": [],
   "source": [
    "import numpy as np\n"
   ]
  },
  {
   "cell_type": "code",
   "execution_count": 59,
   "id": "stretch-canadian",
   "metadata": {},
   "outputs": [],
   "source": [
    "A = [[2, 3], [4, 6]]"
   ]
  },
  {
   "cell_type": "code",
   "execution_count": 60,
   "id": "alternate-stewart",
   "metadata": {},
   "outputs": [
    {
     "data": {
      "text/plain": [
       "0.0"
      ]
     },
     "execution_count": 60,
     "metadata": {},
     "output_type": "execute_result"
    }
   ],
   "source": [
    "np.linalg.det(A)"
   ]
  },
  {
   "cell_type": "code",
   "execution_count": 61,
   "id": "personal-observation",
   "metadata": {},
   "outputs": [],
   "source": [
    "A = A + np.diag([2,2])"
   ]
  },
  {
   "cell_type": "code",
   "execution_count": 62,
   "id": "velvet-cherry",
   "metadata": {},
   "outputs": [
    {
     "data": {
      "text/plain": [
       "array([[4, 3],\n",
       "       [4, 8]])"
      ]
     },
     "execution_count": 62,
     "metadata": {},
     "output_type": "execute_result"
    }
   ],
   "source": [
    "A"
   ]
  },
  {
   "cell_type": "code",
   "execution_count": 63,
   "id": "suffering-holocaust",
   "metadata": {},
   "outputs": [
    {
     "data": {
      "text/plain": [
       "19.999999999999996"
      ]
     },
     "execution_count": 63,
     "metadata": {},
     "output_type": "execute_result"
    }
   ],
   "source": [
    "np.linalg.det(A)"
   ]
  },
  {
   "cell_type": "code",
   "execution_count": 47,
   "id": "modified-lafayette",
   "metadata": {},
   "outputs": [
    {
     "data": {
      "text/plain": [
       "array([-4.99999997e-08,  8.00000005e+00])"
      ]
     },
     "execution_count": 47,
     "metadata": {},
     "output_type": "execute_result"
    }
   ],
   "source": [
    "np.linalg.eig(A)[0]"
   ]
  },
  {
   "cell_type": "code",
   "execution_count": 48,
   "id": "passing-worth",
   "metadata": {},
   "outputs": [],
   "source": [
    "A_hat = np.linalg.inv(A)"
   ]
  },
  {
   "cell_type": "code",
   "execution_count": 49,
   "id": "legislative-smooth",
   "metadata": {},
   "outputs": [
    {
     "data": {
      "text/plain": [
       "array([[-15000000.02454868,   7500000.26227434],\n",
       "       [ 10000000.01636579,  -5000000.00818289]])"
      ]
     },
     "execution_count": 49,
     "metadata": {},
     "output_type": "execute_result"
    }
   ],
   "source": [
    "A_hat"
   ]
  },
  {
   "cell_type": "code",
   "execution_count": 29,
   "id": "fluid-relations",
   "metadata": {},
   "outputs": [
    {
     "data": {
      "text/plain": [
       "array([1.99874922e+02, 1.25078223e-01])"
      ]
     },
     "execution_count": 29,
     "metadata": {},
     "output_type": "execute_result"
    }
   ],
   "source": [
    "np.linalg.eig(A_hat)[0]"
   ]
  },
  {
   "cell_type": "code",
   "execution_count": 1,
   "id": "competent-bruce",
   "metadata": {},
   "outputs": [],
   "source": [
    "from math import comb"
   ]
  },
  {
   "cell_type": "code",
   "execution_count": 6,
   "id": "shaped-terminology",
   "metadata": {},
   "outputs": [
    {
     "data": {
      "text/plain": [
       "5"
      ]
     },
     "execution_count": 6,
     "metadata": {},
     "output_type": "execute_result"
    }
   ],
   "source": [
    "comb(5, 4)"
   ]
  },
  {
   "cell_type": "code",
   "execution_count": 27,
   "id": "packed-learning",
   "metadata": {},
   "outputs": [],
   "source": [
    "def get_p(p, N):\n",
    "    ans = 0\n",
    "    m = int(N/2) + 1\n",
    "    for i in range(m, N+1):\n",
    "        ans += comb(N, i) * p**i * (1-p)**(N-i)\n",
    "    return ans"
   ]
  },
  {
   "cell_type": "code",
   "execution_count": 30,
   "id": "homeless-diana",
   "metadata": {},
   "outputs": [
    {
     "data": {
      "text/plain": [
       "0.5187450006"
      ]
     },
     "execution_count": 30,
     "metadata": {},
     "output_type": "execute_result"
    }
   ],
   "source": [
    "get_p(0.5, 5)"
   ]
  },
  {
   "cell_type": "code",
   "execution_count": 22,
   "id": "herbal-symphony",
   "metadata": {},
   "outputs": [
    {
     "data": {
      "text/plain": [
       "5"
      ]
     },
     "execution_count": 22,
     "metadata": {},
     "output_type": "execute_result"
    }
   ],
   "source": [
    "int(5.9)"
   ]
  },
  {
   "cell_type": "code",
   "execution_count": 45,
   "id": "exclusive-practice",
   "metadata": {},
   "outputs": [],
   "source": [
    "A = np.array([[1,2, 3], [1, 2, 4]])"
   ]
  },
  {
   "cell_type": "code",
   "execution_count": 46,
   "id": "interested-reliance",
   "metadata": {},
   "outputs": [
    {
     "data": {
      "text/plain": [
       "array([[1, 2, 3],\n",
       "       [1, 2, 4]])"
      ]
     },
     "execution_count": 46,
     "metadata": {},
     "output_type": "execute_result"
    }
   ],
   "source": [
    "A"
   ]
  },
  {
   "cell_type": "code",
   "execution_count": 50,
   "id": "balanced-sunrise",
   "metadata": {},
   "outputs": [],
   "source": [
    "B = np.diag((2, 3, 1))"
   ]
  },
  {
   "cell_type": "code",
   "execution_count": 51,
   "id": "medieval-contemporary",
   "metadata": {},
   "outputs": [
    {
     "data": {
      "text/plain": [
       "array([[2, 0, 0],\n",
       "       [0, 3, 0],\n",
       "       [0, 0, 1]])"
      ]
     },
     "execution_count": 51,
     "metadata": {},
     "output_type": "execute_result"
    }
   ],
   "source": [
    "B"
   ]
  },
  {
   "cell_type": "code",
   "execution_count": 52,
   "id": "laden-tolerance",
   "metadata": {},
   "outputs": [
    {
     "data": {
      "text/plain": [
       "array([[2, 6, 3],\n",
       "       [2, 6, 4]])"
      ]
     },
     "execution_count": 52,
     "metadata": {},
     "output_type": "execute_result"
    }
   ],
   "source": [
    "A @ B"
   ]
  },
  {
   "cell_type": "code",
   "execution_count": null,
   "id": "narrow-castle",
   "metadata": {},
   "outputs": [],
   "source": []
  }
 ],
 "metadata": {
  "kernelspec": {
   "display_name": "Python 3",
   "language": "python",
   "name": "python3"
  },
  "language_info": {
   "codemirror_mode": {
    "name": "ipython",
    "version": 3
   },
   "file_extension": ".py",
   "mimetype": "text/x-python",
   "name": "python",
   "nbconvert_exporter": "python",
   "pygments_lexer": "ipython3",
   "version": "3.9.2"
  }
 },
 "nbformat": 4,
 "nbformat_minor": 5
}
