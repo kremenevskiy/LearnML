{
 "cells": [
  {
   "cell_type": "code",
   "execution_count": 24,
   "id": "de3985ad",
   "metadata": {},
   "outputs": [],
   "source": [
    "import numpy as np\n",
    "import pandas as pd\n",
    "%matplotlib inline\n",
    "from matplotlib import pyplot as plt\n",
    "plt.rcParams['figure.figsize'] = (12, 8)\n",
    "import seaborn as sns\n",
    "\n",
    "from sklearn.linear_model import LinearRegression, Lasso, Ridge\n",
    "from sklearn.linear_model import LassoCV, RidgeCV\n",
    "from sklearn.preprocessing import StandardScaler\n",
    "from sklearn.metrics import mean_squared_error\n",
    "\n",
    "from sklearn.ensemble import RandomForestRegressor"
   ]
  },
  {
   "cell_type": "code",
   "execution_count": 2,
   "id": "0a310e1a",
   "metadata": {},
   "outputs": [],
   "source": [
    "data = pd.read_csv('../data/bikes_rent.csv')"
   ]
  },
  {
   "cell_type": "code",
   "execution_count": 3,
   "id": "d2ce5c6c",
   "metadata": {},
   "outputs": [
    {
     "data": {
      "text/plain": [
       "(731, 13)"
      ]
     },
     "execution_count": 3,
     "metadata": {},
     "output_type": "execute_result"
    }
   ],
   "source": [
    "data.shape"
   ]
  },
  {
   "cell_type": "code",
   "execution_count": 6,
   "id": "e86d7619",
   "metadata": {},
   "outputs": [
    {
     "data": {
      "text/html": [
       "<div>\n",
       "<style scoped>\n",
       "    .dataframe tbody tr th:only-of-type {\n",
       "        vertical-align: middle;\n",
       "    }\n",
       "\n",
       "    .dataframe tbody tr th {\n",
       "        vertical-align: top;\n",
       "    }\n",
       "\n",
       "    .dataframe thead th {\n",
       "        text-align: right;\n",
       "    }\n",
       "</style>\n",
       "<table border=\"1\" class=\"dataframe\">\n",
       "  <thead>\n",
       "    <tr style=\"text-align: right;\">\n",
       "      <th></th>\n",
       "      <th>season</th>\n",
       "      <th>yr</th>\n",
       "      <th>mnth</th>\n",
       "      <th>holiday</th>\n",
       "      <th>weekday</th>\n",
       "      <th>workingday</th>\n",
       "      <th>weathersit</th>\n",
       "      <th>temp</th>\n",
       "      <th>atemp</th>\n",
       "      <th>hum</th>\n",
       "      <th>windspeed(mph)</th>\n",
       "      <th>windspeed(ms)</th>\n",
       "      <th>cnt</th>\n",
       "    </tr>\n",
       "  </thead>\n",
       "  <tbody>\n",
       "    <tr>\n",
       "      <th>0</th>\n",
       "      <td>1</td>\n",
       "      <td>0</td>\n",
       "      <td>1</td>\n",
       "      <td>0</td>\n",
       "      <td>6</td>\n",
       "      <td>0</td>\n",
       "      <td>2</td>\n",
       "      <td>14.110847</td>\n",
       "      <td>18.18125</td>\n",
       "      <td>80.5833</td>\n",
       "      <td>10.749882</td>\n",
       "      <td>4.805490</td>\n",
       "      <td>985</td>\n",
       "    </tr>\n",
       "    <tr>\n",
       "      <th>1</th>\n",
       "      <td>1</td>\n",
       "      <td>0</td>\n",
       "      <td>1</td>\n",
       "      <td>0</td>\n",
       "      <td>0</td>\n",
       "      <td>0</td>\n",
       "      <td>2</td>\n",
       "      <td>14.902598</td>\n",
       "      <td>17.68695</td>\n",
       "      <td>69.6087</td>\n",
       "      <td>16.652113</td>\n",
       "      <td>7.443949</td>\n",
       "      <td>801</td>\n",
       "    </tr>\n",
       "    <tr>\n",
       "      <th>2</th>\n",
       "      <td>1</td>\n",
       "      <td>0</td>\n",
       "      <td>1</td>\n",
       "      <td>0</td>\n",
       "      <td>1</td>\n",
       "      <td>1</td>\n",
       "      <td>1</td>\n",
       "      <td>8.050924</td>\n",
       "      <td>9.47025</td>\n",
       "      <td>43.7273</td>\n",
       "      <td>16.636703</td>\n",
       "      <td>7.437060</td>\n",
       "      <td>1349</td>\n",
       "    </tr>\n",
       "    <tr>\n",
       "      <th>3</th>\n",
       "      <td>1</td>\n",
       "      <td>0</td>\n",
       "      <td>1</td>\n",
       "      <td>0</td>\n",
       "      <td>2</td>\n",
       "      <td>1</td>\n",
       "      <td>1</td>\n",
       "      <td>8.200000</td>\n",
       "      <td>10.60610</td>\n",
       "      <td>59.0435</td>\n",
       "      <td>10.739832</td>\n",
       "      <td>4.800998</td>\n",
       "      <td>1562</td>\n",
       "    </tr>\n",
       "    <tr>\n",
       "      <th>4</th>\n",
       "      <td>1</td>\n",
       "      <td>0</td>\n",
       "      <td>1</td>\n",
       "      <td>0</td>\n",
       "      <td>3</td>\n",
       "      <td>1</td>\n",
       "      <td>1</td>\n",
       "      <td>9.305237</td>\n",
       "      <td>11.46350</td>\n",
       "      <td>43.6957</td>\n",
       "      <td>12.522300</td>\n",
       "      <td>5.597810</td>\n",
       "      <td>1600</td>\n",
       "    </tr>\n",
       "  </tbody>\n",
       "</table>\n",
       "</div>"
      ],
      "text/plain": [
       "   season  yr  mnth  holiday  weekday  workingday  weathersit       temp  \\\n",
       "0       1   0     1        0        6           0           2  14.110847   \n",
       "1       1   0     1        0        0           0           2  14.902598   \n",
       "2       1   0     1        0        1           1           1   8.050924   \n",
       "3       1   0     1        0        2           1           1   8.200000   \n",
       "4       1   0     1        0        3           1           1   9.305237   \n",
       "\n",
       "      atemp      hum  windspeed(mph)  windspeed(ms)   cnt  \n",
       "0  18.18125  80.5833       10.749882       4.805490   985  \n",
       "1  17.68695  69.6087       16.652113       7.443949   801  \n",
       "2   9.47025  43.7273       16.636703       7.437060  1349  \n",
       "3  10.60610  59.0435       10.739832       4.800998  1562  \n",
       "4  11.46350  43.6957       12.522300       5.597810  1600  "
      ]
     },
     "execution_count": 6,
     "metadata": {},
     "output_type": "execute_result"
    }
   ],
   "source": [
    "data.head()"
   ]
  },
  {
   "cell_type": "code",
   "execution_count": 8,
   "id": "4b2d06e3",
   "metadata": {},
   "outputs": [
    {
     "name": "stdout",
     "output_type": "stream",
     "text": [
      "<class 'pandas.core.frame.DataFrame'>\n",
      "RangeIndex: 731 entries, 0 to 730\n",
      "Data columns (total 13 columns):\n",
      " #   Column          Non-Null Count  Dtype  \n",
      "---  ------          --------------  -----  \n",
      " 0   season          731 non-null    int64  \n",
      " 1   yr              731 non-null    int64  \n",
      " 2   mnth            731 non-null    int64  \n",
      " 3   holiday         731 non-null    int64  \n",
      " 4   weekday         731 non-null    int64  \n",
      " 5   workingday      731 non-null    int64  \n",
      " 6   weathersit      731 non-null    int64  \n",
      " 7   temp            731 non-null    float64\n",
      " 8   atemp           731 non-null    float64\n",
      " 9   hum             731 non-null    float64\n",
      " 10  windspeed(mph)  731 non-null    float64\n",
      " 11  windspeed(ms)   731 non-null    float64\n",
      " 12  cnt             731 non-null    int64  \n",
      "dtypes: float64(5), int64(8)\n",
      "memory usage: 74.4 KB\n"
     ]
    }
   ],
   "source": [
    "data.info()"
   ]
  },
  {
   "cell_type": "code",
   "execution_count": 10,
   "id": "48bbda4d",
   "metadata": {},
   "outputs": [
    {
     "data": {
      "text/html": [
       "<div>\n",
       "<style scoped>\n",
       "    .dataframe tbody tr th:only-of-type {\n",
       "        vertical-align: middle;\n",
       "    }\n",
       "\n",
       "    .dataframe tbody tr th {\n",
       "        vertical-align: top;\n",
       "    }\n",
       "\n",
       "    .dataframe thead th {\n",
       "        text-align: right;\n",
       "    }\n",
       "</style>\n",
       "<table border=\"1\" class=\"dataframe\">\n",
       "  <thead>\n",
       "    <tr style=\"text-align: right;\">\n",
       "      <th></th>\n",
       "      <th>season</th>\n",
       "      <th>yr</th>\n",
       "      <th>mnth</th>\n",
       "      <th>holiday</th>\n",
       "      <th>weekday</th>\n",
       "      <th>workingday</th>\n",
       "      <th>weathersit</th>\n",
       "      <th>temp</th>\n",
       "      <th>atemp</th>\n",
       "      <th>hum</th>\n",
       "      <th>windspeed(mph)</th>\n",
       "      <th>windspeed(ms)</th>\n",
       "      <th>cnt</th>\n",
       "    </tr>\n",
       "  </thead>\n",
       "  <tbody>\n",
       "    <tr>\n",
       "      <th>count</th>\n",
       "      <td>731.000000</td>\n",
       "      <td>731.000000</td>\n",
       "      <td>731.000000</td>\n",
       "      <td>731.000000</td>\n",
       "      <td>731.000000</td>\n",
       "      <td>731.000000</td>\n",
       "      <td>731.000000</td>\n",
       "      <td>731.000000</td>\n",
       "      <td>731.000000</td>\n",
       "      <td>731.000000</td>\n",
       "      <td>731.000000</td>\n",
       "      <td>731.000000</td>\n",
       "      <td>731.000000</td>\n",
       "    </tr>\n",
       "    <tr>\n",
       "      <th>mean</th>\n",
       "      <td>2.496580</td>\n",
       "      <td>0.500684</td>\n",
       "      <td>6.519836</td>\n",
       "      <td>0.028728</td>\n",
       "      <td>2.997264</td>\n",
       "      <td>0.683995</td>\n",
       "      <td>1.395349</td>\n",
       "      <td>20.310776</td>\n",
       "      <td>23.717699</td>\n",
       "      <td>62.789406</td>\n",
       "      <td>12.762576</td>\n",
       "      <td>5.705220</td>\n",
       "      <td>4504.348837</td>\n",
       "    </tr>\n",
       "    <tr>\n",
       "      <th>std</th>\n",
       "      <td>1.110807</td>\n",
       "      <td>0.500342</td>\n",
       "      <td>3.451913</td>\n",
       "      <td>0.167155</td>\n",
       "      <td>2.004787</td>\n",
       "      <td>0.465233</td>\n",
       "      <td>0.544894</td>\n",
       "      <td>7.505091</td>\n",
       "      <td>8.148059</td>\n",
       "      <td>14.242910</td>\n",
       "      <td>5.192357</td>\n",
       "      <td>2.321125</td>\n",
       "      <td>1937.211452</td>\n",
       "    </tr>\n",
       "    <tr>\n",
       "      <th>min</th>\n",
       "      <td>1.000000</td>\n",
       "      <td>0.000000</td>\n",
       "      <td>1.000000</td>\n",
       "      <td>0.000000</td>\n",
       "      <td>0.000000</td>\n",
       "      <td>0.000000</td>\n",
       "      <td>1.000000</td>\n",
       "      <td>2.424346</td>\n",
       "      <td>3.953480</td>\n",
       "      <td>0.000000</td>\n",
       "      <td>1.500244</td>\n",
       "      <td>0.670650</td>\n",
       "      <td>22.000000</td>\n",
       "    </tr>\n",
       "    <tr>\n",
       "      <th>25%</th>\n",
       "      <td>2.000000</td>\n",
       "      <td>0.000000</td>\n",
       "      <td>4.000000</td>\n",
       "      <td>0.000000</td>\n",
       "      <td>1.000000</td>\n",
       "      <td>0.000000</td>\n",
       "      <td>1.000000</td>\n",
       "      <td>13.820424</td>\n",
       "      <td>16.892125</td>\n",
       "      <td>52.000000</td>\n",
       "      <td>9.041650</td>\n",
       "      <td>4.041864</td>\n",
       "      <td>3152.000000</td>\n",
       "    </tr>\n",
       "    <tr>\n",
       "      <th>50%</th>\n",
       "      <td>3.000000</td>\n",
       "      <td>1.000000</td>\n",
       "      <td>7.000000</td>\n",
       "      <td>0.000000</td>\n",
       "      <td>3.000000</td>\n",
       "      <td>1.000000</td>\n",
       "      <td>1.000000</td>\n",
       "      <td>20.431653</td>\n",
       "      <td>24.336650</td>\n",
       "      <td>62.666700</td>\n",
       "      <td>12.125325</td>\n",
       "      <td>5.420351</td>\n",
       "      <td>4548.000000</td>\n",
       "    </tr>\n",
       "    <tr>\n",
       "      <th>75%</th>\n",
       "      <td>3.000000</td>\n",
       "      <td>1.000000</td>\n",
       "      <td>10.000000</td>\n",
       "      <td>0.000000</td>\n",
       "      <td>5.000000</td>\n",
       "      <td>1.000000</td>\n",
       "      <td>2.000000</td>\n",
       "      <td>26.872076</td>\n",
       "      <td>30.430100</td>\n",
       "      <td>73.020850</td>\n",
       "      <td>15.625371</td>\n",
       "      <td>6.984967</td>\n",
       "      <td>5956.000000</td>\n",
       "    </tr>\n",
       "    <tr>\n",
       "      <th>max</th>\n",
       "      <td>4.000000</td>\n",
       "      <td>1.000000</td>\n",
       "      <td>12.000000</td>\n",
       "      <td>1.000000</td>\n",
       "      <td>6.000000</td>\n",
       "      <td>1.000000</td>\n",
       "      <td>3.000000</td>\n",
       "      <td>35.328347</td>\n",
       "      <td>42.044800</td>\n",
       "      <td>97.250000</td>\n",
       "      <td>34.000021</td>\n",
       "      <td>15.198937</td>\n",
       "      <td>8714.000000</td>\n",
       "    </tr>\n",
       "  </tbody>\n",
       "</table>\n",
       "</div>"
      ],
      "text/plain": [
       "           season          yr        mnth     holiday     weekday  workingday  \\\n",
       "count  731.000000  731.000000  731.000000  731.000000  731.000000  731.000000   \n",
       "mean     2.496580    0.500684    6.519836    0.028728    2.997264    0.683995   \n",
       "std      1.110807    0.500342    3.451913    0.167155    2.004787    0.465233   \n",
       "min      1.000000    0.000000    1.000000    0.000000    0.000000    0.000000   \n",
       "25%      2.000000    0.000000    4.000000    0.000000    1.000000    0.000000   \n",
       "50%      3.000000    1.000000    7.000000    0.000000    3.000000    1.000000   \n",
       "75%      3.000000    1.000000   10.000000    0.000000    5.000000    1.000000   \n",
       "max      4.000000    1.000000   12.000000    1.000000    6.000000    1.000000   \n",
       "\n",
       "       weathersit        temp       atemp         hum  windspeed(mph)  \\\n",
       "count  731.000000  731.000000  731.000000  731.000000      731.000000   \n",
       "mean     1.395349   20.310776   23.717699   62.789406       12.762576   \n",
       "std      0.544894    7.505091    8.148059   14.242910        5.192357   \n",
       "min      1.000000    2.424346    3.953480    0.000000        1.500244   \n",
       "25%      1.000000   13.820424   16.892125   52.000000        9.041650   \n",
       "50%      1.000000   20.431653   24.336650   62.666700       12.125325   \n",
       "75%      2.000000   26.872076   30.430100   73.020850       15.625371   \n",
       "max      3.000000   35.328347   42.044800   97.250000       34.000021   \n",
       "\n",
       "       windspeed(ms)          cnt  \n",
       "count     731.000000   731.000000  \n",
       "mean        5.705220  4504.348837  \n",
       "std         2.321125  1937.211452  \n",
       "min         0.670650    22.000000  \n",
       "25%         4.041864  3152.000000  \n",
       "50%         5.420351  4548.000000  \n",
       "75%         6.984967  5956.000000  \n",
       "max        15.198937  8714.000000  "
      ]
     },
     "execution_count": 10,
     "metadata": {},
     "output_type": "execute_result"
    }
   ],
   "source": [
    "data.describe()"
   ]
  },
  {
   "cell_type": "code",
   "execution_count": 13,
   "id": "d57392ad",
   "metadata": {},
   "outputs": [
    {
     "name": "stderr",
     "output_type": "stream",
     "text": [
      "/Users/kremenevskiy/opt/anaconda3/envs/ML/lib/python3.8/site-packages/seaborn/_decorators.py:36: FutureWarning: Pass the following variables as keyword args: x, y. From version 0.12, the only valid positional argument will be `data`, and passing other arguments without an explicit keyword will result in an error or misinterpretation.\n",
      "  warnings.warn(\n"
     ]
    },
    {
     "data": {
      "text/plain": [
       "<AxesSubplot:xlabel='season', ylabel='cnt'>"
      ]
     },
     "execution_count": 13,
     "metadata": {},
     "output_type": "execute_result"
    },
    {
     "data": {
      "image/png": "[encoded data removed]",
      "text/plain": [
       "<Figure size 864x576 with 1 Axes>"
      ]
     },
     "metadata": {
      "needs_background": "light"
     },
     "output_type": "display_data"
    }
   ],
   "source": [
    "sns.violinplot(data['season'], data['cnt'])"
   ]
  },
  {
   "cell_type": "code",
   "execution_count": null,
   "id": "38fd65d2",
   "metadata": {},
   "outputs": [],
   "source": []
  },
  {
   "cell_type": "code",
   "execution_count": 14,
   "id": "a6a4c07c",
   "metadata": {},
   "outputs": [
    {
     "data": {
      "text/plain": [
       "<AxesSubplot:>"
      ]
     },
     "execution_count": 14,
     "metadata": {},
     "output_type": "execute_result"
    },
    {
     "data": {
      "image/png": "[encoded data removed]",
      "text/plain": [
       "<Figure size 864x576 with 2 Axes>"
      ]
     },
     "metadata": {
      "needs_background": "light"
     },
     "output_type": "display_data"
    }
   ],
   "source": [
    "sns.heatmap(data.corr())"
   ]
  },
  {
   "cell_type": "code",
   "execution_count": null,
   "id": "f7389c44",
   "metadata": {},
   "outputs": [],
   "source": []
  },
  {
   "cell_type": "code",
   "execution_count": 18,
   "id": "9790bfa6",
   "metadata": {},
   "outputs": [
    {
     "data": {
      "image/png": "[encoded data removed]",
      "text/plain": [
       "<Figure size 864x576 with 12 Axes>"
      ]
     },
     "metadata": {
      "needs_background": "light"
     },
     "output_type": "display_data"
    }
   ],
   "source": [
    "for i, col in enumerate(data.columns[:-1]):\n",
    "    plt.subplot(4, 3, i+1)\n",
    "    plt.scatter(data[col], data['cnt'])\n",
    "    plt.title(col)"
   ]
  },
  {
   "cell_type": "code",
   "execution_count": 20,
   "id": "c4a9e407",
   "metadata": {},
   "outputs": [
    {
     "data": {
      "text/plain": [
       "<matplotlib.collections.PathCollection at 0x7fb528e3fd60>"
      ]
     },
     "execution_count": 20,
     "metadata": {},
     "output_type": "execute_result"
    },
    {
     "data": {
      "image/png": "[encoded data removed]",
      "text/plain": [
       "<Figure size 864x576 with 1 Axes>"
      ]
     },
     "metadata": {
      "needs_background": "light"
     },
     "output_type": "display_data"
    }
   ],
   "source": [
    "plt.scatter(data.mnth, data.cnt)"
   ]
  },
  {
   "cell_type": "code",
   "execution_count": 21,
   "id": "869dad64",
   "metadata": {},
   "outputs": [
    {
     "data": {
      "text/plain": [
       "<matplotlib.collections.PathCollection at 0x7fb529aea370>"
      ]
     },
     "execution_count": 21,
     "metadata": {},
     "output_type": "execute_result"
    },
    {
     "data": {
      "image/png": "[encoded data removed]",
      "text/plain": [
       "<Figure size 864x576 with 1 Axes>"
      ]
     },
     "metadata": {
      "needs_background": "light"
     },
     "output_type": "display_data"
    }
   ],
   "source": [
    "plt.scatter(data.temp, data.cnt)"
   ]
  },
  {
   "cell_type": "code",
   "execution_count": 28,
   "id": "c441d4ab",
   "metadata": {},
   "outputs": [],
   "source": [
    "linreg = LinearRegression()\n",
    "lasso = Lasso(random_state=17)\n",
    "ridge = Ridge(random_state=17)\n",
    "lasso_cv = LassoCV(random_state=17)\n",
    "ridge_cv = RidgeCV()"
   ]
  },
  {
   "cell_type": "code",
   "execution_count": null,
   "id": "2ee662a6",
   "metadata": {},
   "outputs": [],
   "source": []
  },
  {
   "cell_type": "code",
   "execution_count": 32,
   "id": "55715ea9",
   "metadata": {},
   "outputs": [],
   "source": [
    "X, y = data.drop('cnt', axis=1).values, data['cnt'].values"
   ]
  },
  {
   "cell_type": "code",
   "execution_count": 35,
   "id": "a9c3d013",
   "metadata": {},
   "outputs": [],
   "source": [
    "train_part_size = int(.7 * X.shape[0])\n",
    "\n",
    "X_train, X_valid = X[:train_part_size, :], X[:train_part_size, :]\n",
    "y_train, y_valid = y[:train_part_size], y[:train_part_size]"
   ]
  },
  {
   "cell_type": "code",
   "execution_count": null,
   "id": "f13a8bd7",
   "metadata": {},
   "outputs": [],
   "source": []
  },
  {
   "cell_type": "code",
   "execution_count": 36,
   "id": "92aa3b0a",
   "metadata": {},
   "outputs": [],
   "source": [
    "scaler = StandardScaler()\n",
    "X_train_scaled = scaler.fit_transform(X_train)\n",
    "X_valid_scaled = scaler.transform(X_valid)"
   ]
  },
  {
   "cell_type": "code",
   "execution_count": 114,
   "id": "efbdde03",
   "metadata": {},
   "outputs": [],
   "source": [
    "X_train_scaled_ext = pd.DataFrame(X_train_scaled, columns=data.columns[:-1])\n",
    "X_valid_scaled_ext = pd.DataFrame(X_valid_scaled, columns=data.columns[:-1])"
   ]
  },
  {
   "cell_type": "code",
   "execution_count": 154,
   "id": "d1f4d8ab",
   "metadata": {},
   "outputs": [],
   "source": [
    "new_feat = data.columns.drop(['windspeed(ms)', 'atemp', 'cnt'])"
   ]
  },
  {
   "cell_type": "code",
   "execution_count": 163,
   "id": "b0b1bf54",
   "metadata": {},
   "outputs": [],
   "source": [
    "new_feat = new_feat.insert(new_feat.shape[0], 'temp_2')"
   ]
  },
  {
   "cell_type": "code",
   "execution_count": 159,
   "id": "b75baae0",
   "metadata": {},
   "outputs": [
    {
     "data": {
      "text/plain": [
       "Index(['season', 'yr', 'mnth', 'holiday', 'weekday', 'workingday',\n",
       "       'weathersit', 'temp', 'hum', 'windspeed(mph)', 'month_2'],\n",
       "      dtype='object')"
      ]
     },
     "execution_count": 159,
     "metadata": {},
     "output_type": "execute_result"
    }
   ],
   "source": [
    "new_feat"
   ]
  },
  {
   "cell_type": "code",
   "execution_count": 115,
   "id": "cf728886",
   "metadata": {},
   "outputs": [],
   "source": [
    "X_valid_scaled_ext.drop(['windspeed(ms)', 'atemp'], inplace=True, axis=1)\n",
    "X_train_scaled_ext.drop(['windspeed(ms)', 'atemp'], inplace=True, axis=1)"
   ]
  },
  {
   "cell_type": "code",
   "execution_count": 143,
   "id": "1ebb93e4",
   "metadata": {},
   "outputs": [],
   "source": [
    "X_train_scaled_ext['month_2'] = X_train_scaled_ext.mnth ** 2\n",
    "X_valid_scaled_ext['month_2'] = X_valid_scaled_ext.mnth ** 2"
   ]
  },
  {
   "cell_type": "code",
   "execution_count": 164,
   "id": "8cb34488",
   "metadata": {},
   "outputs": [],
   "source": [
    "X_train_scaled_ext['temp_2'] = X_train_scaled_ext.temp ** 2\n",
    "X_valid_scaled_ext['temp_2'] = X_valid_scaled_ext.temp ** 2"
   ]
  },
  {
   "cell_type": "code",
   "execution_count": 165,
   "id": "c0b4b78a",
   "metadata": {},
   "outputs": [
    {
     "data": {
      "text/html": [
       "<div>\n",
       "<style scoped>\n",
       "    .dataframe tbody tr th:only-of-type {\n",
       "        vertical-align: middle;\n",
       "    }\n",
       "\n",
       "    .dataframe tbody tr th {\n",
       "        vertical-align: top;\n",
       "    }\n",
       "\n",
       "    .dataframe thead th {\n",
       "        text-align: right;\n",
       "    }\n",
       "</style>\n",
       "<table border=\"1\" class=\"dataframe\">\n",
       "  <thead>\n",
       "    <tr style=\"text-align: right;\">\n",
       "      <th></th>\n",
       "      <th>season</th>\n",
       "      <th>yr</th>\n",
       "      <th>mnth</th>\n",
       "      <th>holiday</th>\n",
       "      <th>weekday</th>\n",
       "      <th>workingday</th>\n",
       "      <th>weathersit</th>\n",
       "      <th>temp</th>\n",
       "      <th>hum</th>\n",
       "      <th>windspeed(mph)</th>\n",
       "      <th>month_2</th>\n",
       "      <th>temp_2</th>\n",
       "    </tr>\n",
       "  </thead>\n",
       "  <tbody>\n",
       "    <tr>\n",
       "      <th>0</th>\n",
       "      <td>-1.107401</td>\n",
       "      <td>-0.632456</td>\n",
       "      <td>-1.315274</td>\n",
       "      <td>-0.167836</td>\n",
       "      <td>1.5</td>\n",
       "      <td>-1.481131</td>\n",
       "      <td>1.064463</td>\n",
       "      <td>-0.682435</td>\n",
       "      <td>1.172487</td>\n",
       "      <td>-0.457752</td>\n",
       "      <td>1.729946</td>\n",
       "      <td>0.465717</td>\n",
       "    </tr>\n",
       "    <tr>\n",
       "      <th>1</th>\n",
       "      <td>-1.107401</td>\n",
       "      <td>-0.632456</td>\n",
       "      <td>-1.315274</td>\n",
       "      <td>-0.167836</td>\n",
       "      <td>-1.5</td>\n",
       "      <td>-1.481131</td>\n",
       "      <td>1.064463</td>\n",
       "      <td>-0.574279</td>\n",
       "      <td>0.451962</td>\n",
       "      <td>0.666032</td>\n",
       "      <td>1.729946</td>\n",
       "      <td>0.329796</td>\n",
       "    </tr>\n",
       "    <tr>\n",
       "      <th>2</th>\n",
       "      <td>-1.107401</td>\n",
       "      <td>-0.632456</td>\n",
       "      <td>-1.315274</td>\n",
       "      <td>-0.167836</td>\n",
       "      <td>-1.0</td>\n",
       "      <td>0.675160</td>\n",
       "      <td>-0.736665</td>\n",
       "      <td>-1.510240</td>\n",
       "      <td>-1.247254</td>\n",
       "      <td>0.663098</td>\n",
       "      <td>1.729946</td>\n",
       "      <td>2.280826</td>\n",
       "    </tr>\n",
       "    <tr>\n",
       "      <th>3</th>\n",
       "      <td>-1.107401</td>\n",
       "      <td>-0.632456</td>\n",
       "      <td>-1.315274</td>\n",
       "      <td>-0.167836</td>\n",
       "      <td>-0.5</td>\n",
       "      <td>0.675160</td>\n",
       "      <td>-0.736665</td>\n",
       "      <td>-1.489876</td>\n",
       "      <td>-0.241685</td>\n",
       "      <td>-0.459665</td>\n",
       "      <td>1.729946</td>\n",
       "      <td>2.219730</td>\n",
       "    </tr>\n",
       "    <tr>\n",
       "      <th>4</th>\n",
       "      <td>-1.107401</td>\n",
       "      <td>-0.632456</td>\n",
       "      <td>-1.315274</td>\n",
       "      <td>-0.167836</td>\n",
       "      <td>0.0</td>\n",
       "      <td>0.675160</td>\n",
       "      <td>-0.736665</td>\n",
       "      <td>-1.338897</td>\n",
       "      <td>-1.249329</td>\n",
       "      <td>-0.120284</td>\n",
       "      <td>1.729946</td>\n",
       "      <td>1.792645</td>\n",
       "    </tr>\n",
       "    <tr>\n",
       "      <th>...</th>\n",
       "      <td>...</td>\n",
       "      <td>...</td>\n",
       "      <td>...</td>\n",
       "      <td>...</td>\n",
       "      <td>...</td>\n",
       "      <td>...</td>\n",
       "      <td>...</td>\n",
       "      <td>...</td>\n",
       "      <td>...</td>\n",
       "      <td>...</td>\n",
       "      <td>...</td>\n",
       "      <td>...</td>\n",
       "    </tr>\n",
       "    <tr>\n",
       "      <th>506</th>\n",
       "      <td>-0.184266</td>\n",
       "      <td>1.581139</td>\n",
       "      <td>-0.145378</td>\n",
       "      <td>-0.167836</td>\n",
       "      <td>-1.0</td>\n",
       "      <td>0.675160</td>\n",
       "      <td>1.064463</td>\n",
       "      <td>0.741082</td>\n",
       "      <td>1.208052</td>\n",
       "      <td>0.470407</td>\n",
       "      <td>0.021135</td>\n",
       "      <td>0.549203</td>\n",
       "    </tr>\n",
       "    <tr>\n",
       "      <th>507</th>\n",
       "      <td>-0.184266</td>\n",
       "      <td>1.581139</td>\n",
       "      <td>-0.145378</td>\n",
       "      <td>-0.167836</td>\n",
       "      <td>-0.5</td>\n",
       "      <td>0.675160</td>\n",
       "      <td>1.064463</td>\n",
       "      <td>0.834430</td>\n",
       "      <td>0.909872</td>\n",
       "      <td>-0.997096</td>\n",
       "      <td>0.021135</td>\n",
       "      <td>0.696273</td>\n",
       "    </tr>\n",
       "    <tr>\n",
       "      <th>508</th>\n",
       "      <td>-0.184266</td>\n",
       "      <td>1.581139</td>\n",
       "      <td>-0.145378</td>\n",
       "      <td>-0.167836</td>\n",
       "      <td>0.0</td>\n",
       "      <td>0.675160</td>\n",
       "      <td>1.064463</td>\n",
       "      <td>0.871770</td>\n",
       "      <td>0.967319</td>\n",
       "      <td>-1.203335</td>\n",
       "      <td>0.021135</td>\n",
       "      <td>0.759983</td>\n",
       "    </tr>\n",
       "    <tr>\n",
       "      <th>509</th>\n",
       "      <td>-0.184266</td>\n",
       "      <td>1.581139</td>\n",
       "      <td>-0.145378</td>\n",
       "      <td>-0.167836</td>\n",
       "      <td>0.5</td>\n",
       "      <td>0.675160</td>\n",
       "      <td>-0.736665</td>\n",
       "      <td>1.058459</td>\n",
       "      <td>0.587077</td>\n",
       "      <td>-0.298930</td>\n",
       "      <td>0.021135</td>\n",
       "      <td>1.120336</td>\n",
       "    </tr>\n",
       "    <tr>\n",
       "      <th>510</th>\n",
       "      <td>-0.184266</td>\n",
       "      <td>1.581139</td>\n",
       "      <td>-0.145378</td>\n",
       "      <td>-0.167836</td>\n",
       "      <td>1.0</td>\n",
       "      <td>0.675160</td>\n",
       "      <td>-0.736665</td>\n",
       "      <td>1.198478</td>\n",
       "      <td>0.786770</td>\n",
       "      <td>-0.711561</td>\n",
       "      <td>0.021135</td>\n",
       "      <td>1.436349</td>\n",
       "    </tr>\n",
       "  </tbody>\n",
       "</table>\n",
       "<p>511 rows × 12 columns</p>\n",
       "</div>"
      ],
      "text/plain": [
       "       season        yr      mnth   holiday  weekday  workingday  weathersit  \\\n",
       "0   -1.107401 -0.632456 -1.315274 -0.167836      1.5   -1.481131    1.064463   \n",
       "1   -1.107401 -0.632456 -1.315274 -0.167836     -1.5   -1.481131    1.064463   \n",
       "2   -1.107401 -0.632456 -1.315274 -0.167836     -1.0    0.675160   -0.736665   \n",
       "3   -1.107401 -0.632456 -1.315274 -0.167836     -0.5    0.675160   -0.736665   \n",
       "4   -1.107401 -0.632456 -1.315274 -0.167836      0.0    0.675160   -0.736665   \n",
       "..        ...       ...       ...       ...      ...         ...         ...   \n",
       "506 -0.184266  1.581139 -0.145378 -0.167836     -1.0    0.675160    1.064463   \n",
       "507 -0.184266  1.581139 -0.145378 -0.167836     -0.5    0.675160    1.064463   \n",
       "508 -0.184266  1.581139 -0.145378 -0.167836      0.0    0.675160    1.064463   \n",
       "509 -0.184266  1.581139 -0.145378 -0.167836      0.5    0.675160   -0.736665   \n",
       "510 -0.184266  1.581139 -0.145378 -0.167836      1.0    0.675160   -0.736665   \n",
       "\n",
       "         temp       hum  windspeed(mph)   month_2    temp_2  \n",
       "0   -0.682435  1.172487       -0.457752  1.729946  0.465717  \n",
       "1   -0.574279  0.451962        0.666032  1.729946  0.329796  \n",
       "2   -1.510240 -1.247254        0.663098  1.729946  2.280826  \n",
       "3   -1.489876 -0.241685       -0.459665  1.729946  2.219730  \n",
       "4   -1.338897 -1.249329       -0.120284  1.729946  1.792645  \n",
       "..        ...       ...             ...       ...       ...  \n",
       "506  0.741082  1.208052        0.470407  0.021135  0.549203  \n",
       "507  0.834430  0.909872       -0.997096  0.021135  0.696273  \n",
       "508  0.871770  0.967319       -1.203335  0.021135  0.759983  \n",
       "509  1.058459  0.587077       -0.298930  0.021135  1.120336  \n",
       "510  1.198478  0.786770       -0.711561  0.021135  1.436349  \n",
       "\n",
       "[511 rows x 12 columns]"
      ]
     },
     "execution_count": 165,
     "metadata": {},
     "output_type": "execute_result"
    }
   ],
   "source": [
    "X_train_scaled_ext"
   ]
  },
  {
   "cell_type": "code",
   "execution_count": null,
   "id": "2941525e",
   "metadata": {},
   "outputs": [],
   "source": []
  },
  {
   "cell_type": "code",
   "execution_count": 38,
   "id": "d4e4545e",
   "metadata": {},
   "outputs": [
    {
     "data": {
      "text/plain": [
       "LinearRegression()"
      ]
     },
     "execution_count": 38,
     "metadata": {},
     "output_type": "execute_result"
    }
   ],
   "source": [
    "linreg.fit(X_train_scaled, y_train)"
   ]
  },
  {
   "cell_type": "code",
   "execution_count": 40,
   "id": "81ff0f8f",
   "metadata": {},
   "outputs": [
    {
     "data": {
      "text/plain": [
       "745.4706403873738"
      ]
     },
     "execution_count": 40,
     "metadata": {},
     "output_type": "execute_result"
    }
   ],
   "source": [
    "np.sqrt(mean_squared_error(y_valid, linreg.predict(X_valid_scaled)))"
   ]
  },
  {
   "cell_type": "code",
   "execution_count": 41,
   "id": "6f252f52",
   "metadata": {},
   "outputs": [
    {
     "data": {
      "image/png": "[encoded data removed]",
      "text/plain": [
       "<Figure size 864x576 with 1 Axes>"
      ]
     },
     "metadata": {
      "needs_background": "light"
     },
     "output_type": "display_data"
    }
   ],
   "source": [
    "data['cnt'].hist();"
   ]
  },
  {
   "cell_type": "code",
   "execution_count": 47,
   "id": "09d9f871",
   "metadata": {},
   "outputs": [
    {
     "data": {
      "text/html": [
       "<div>\n",
       "<style scoped>\n",
       "    .dataframe tbody tr th:only-of-type {\n",
       "        vertical-align: middle;\n",
       "    }\n",
       "\n",
       "    .dataframe tbody tr th {\n",
       "        vertical-align: top;\n",
       "    }\n",
       "\n",
       "    .dataframe thead th {\n",
       "        text-align: right;\n",
       "    }\n",
       "</style>\n",
       "<table border=\"1\" class=\"dataframe\">\n",
       "  <thead>\n",
       "    <tr style=\"text-align: right;\">\n",
       "      <th></th>\n",
       "      <th>coef</th>\n",
       "    </tr>\n",
       "  </thead>\n",
       "  <tbody>\n",
       "    <tr>\n",
       "      <th>windspeed(ms)</th>\n",
       "      <td>3.051193e+12</td>\n",
       "    </tr>\n",
       "    <tr>\n",
       "      <th>yr</th>\n",
       "      <td>9.540706e+02</td>\n",
       "    </tr>\n",
       "    <tr>\n",
       "      <th>atemp</th>\n",
       "      <td>8.911709e+02</td>\n",
       "    </tr>\n",
       "    <tr>\n",
       "      <th>season</th>\n",
       "      <td>4.048576e+02</td>\n",
       "    </tr>\n",
       "    <tr>\n",
       "      <th>weekday</th>\n",
       "      <td>1.037114e+02</td>\n",
       "    </tr>\n",
       "    <tr>\n",
       "      <th>temp</th>\n",
       "      <td>6.248634e+01</td>\n",
       "    </tr>\n",
       "    <tr>\n",
       "      <th>mnth</th>\n",
       "      <td>3.081084e+01</td>\n",
       "    </tr>\n",
       "    <tr>\n",
       "      <th>workingday</th>\n",
       "      <td>1.470224e+01</td>\n",
       "    </tr>\n",
       "    <tr>\n",
       "      <th>holiday</th>\n",
       "      <td>-6.757366e+01</td>\n",
       "    </tr>\n",
       "    <tr>\n",
       "      <th>hum</th>\n",
       "      <td>-1.589777e+02</td>\n",
       "    </tr>\n",
       "    <tr>\n",
       "      <th>weathersit</th>\n",
       "      <td>-2.938161e+02</td>\n",
       "    </tr>\n",
       "    <tr>\n",
       "      <th>windspeed(mph)</th>\n",
       "      <td>-3.051193e+12</td>\n",
       "    </tr>\n",
       "  </tbody>\n",
       "</table>\n",
       "</div>"
      ],
      "text/plain": [
       "                        coef\n",
       "windspeed(ms)   3.051193e+12\n",
       "yr              9.540706e+02\n",
       "atemp           8.911709e+02\n",
       "season          4.048576e+02\n",
       "weekday         1.037114e+02\n",
       "temp            6.248634e+01\n",
       "mnth            3.081084e+01\n",
       "workingday      1.470224e+01\n",
       "holiday        -6.757366e+01\n",
       "hum            -1.589777e+02\n",
       "weathersit     -2.938161e+02\n",
       "windspeed(mph) -3.051193e+12"
      ]
     },
     "execution_count": 47,
     "metadata": {},
     "output_type": "execute_result"
    }
   ],
   "source": [
    "pd.DataFrame(linreg.coef_, data.columns[:-1], columns=['coef']).sort_values(by='coef', ascending=False)"
   ]
  },
  {
   "cell_type": "code",
   "execution_count": null,
   "id": "4590de01",
   "metadata": {},
   "outputs": [],
   "source": []
  },
  {
   "cell_type": "code",
   "execution_count": null,
   "id": "eb52d348",
   "metadata": {},
   "outputs": [],
   "source": []
  },
  {
   "cell_type": "code",
   "execution_count": 93,
   "id": "ffb3cddd",
   "metadata": {},
   "outputs": [],
   "source": [
    "def train_validate_report(model, X_train_scaled, y_train, X_valid_scaled, y_valid, feature_names, forest=False):\n",
    "    \n",
    "    model.fit(X_train_scaled, y_train)\n",
    "    print(\"MSE=\", np.sqrt(mean_squared_error(y_valid, model.predict(X_valid_scaled))))\n",
    "    coef = model.feature_importances_ if forest else model.coef_\n",
    "    print('Model coefficients:')\n",
    "\n",
    "        \n",
    "    print(pd.DataFrame(coef, feature_names[:-1], columns=['coef']).sort_values(by='coef', ascending=False))"
   ]
  },
  {
   "cell_type": "code",
   "execution_count": 54,
   "id": "c3829e61",
   "metadata": {},
   "outputs": [
    {
     "name": "stdout",
     "output_type": "stream",
     "text": [
      "MSE= 745.5316339611093\n",
      "Model coefficients:\n",
      "                      coef\n",
      "yr              952.804560\n",
      "atemp           877.159813\n",
      "season          403.416439\n",
      "weekday         102.643044\n",
      "temp             75.953962\n",
      "mnth             29.857599\n",
      "workingday       14.173377\n",
      "windspeed(ms)    -0.000000\n",
      "holiday         -67.073435\n",
      "hum            -157.547615\n",
      "windspeed(mph) -187.341353\n",
      "weathersit     -293.177257\n"
     ]
    }
   ],
   "source": [
    "train_validate_report(lasso, X_train_scaled, y_train, X_valid_scaled, y_valid, data.columns)"
   ]
  },
  {
   "cell_type": "code",
   "execution_count": 55,
   "id": "2a75902f",
   "metadata": {},
   "outputs": [
    {
     "name": "stdout",
     "output_type": "stream",
     "text": [
      "MSE= 745.5472585261746\n",
      "Model coefficients:\n",
      "                      coef\n",
      "yr              951.135002\n",
      "atemp           883.344030\n",
      "season          403.009581\n",
      "weekday         101.892690\n",
      "temp             69.238981\n",
      "mnth             28.608639\n",
      "workingday       13.478682\n",
      "windspeed(ms)    -0.000000\n",
      "holiday         -66.360460\n",
      "hum            -156.248289\n",
      "windspeed(mph) -186.267734\n",
      "weathersit     -293.016582\n"
     ]
    }
   ],
   "source": [
    "train_validate_report(lasso_cv, X_train_scaled, y_train, X_valid_scaled, y_valid, data.columns)"
   ]
  },
  {
   "cell_type": "code",
   "execution_count": 57,
   "id": "44b037c4",
   "metadata": {},
   "outputs": [
    {
     "name": "stdout",
     "output_type": "stream",
     "text": [
      "MSE= 745.6306240679426\n",
      "Model coefficients:\n",
      "                      coef\n",
      "yr              954.075878\n",
      "atemp           730.747340\n",
      "season          400.114172\n",
      "temp            221.406072\n",
      "weekday         103.198680\n",
      "mnth             34.687740\n",
      "workingday       15.334339\n",
      "holiday         -69.046689\n",
      "windspeed(ms)   -95.819798\n",
      "windspeed(mph)  -95.819798\n",
      "hum            -157.702520\n",
      "weathersit     -293.899386\n"
     ]
    }
   ],
   "source": [
    "train_validate_report(ridge, X_train_scaled, y_train, X_valid_scaled, y_valid, data.columns)"
   ]
  },
  {
   "cell_type": "code",
   "execution_count": 58,
   "id": "3b4539fd",
   "metadata": {},
   "outputs": [
    {
     "name": "stdout",
     "output_type": "stream",
     "text": [
      "MSE= 746.5264404569783\n",
      "Model coefficients:\n",
      "                      coef\n",
      "yr              934.401985\n",
      "atemp           534.482125\n",
      "temp            410.485392\n",
      "season          375.585733\n",
      "weekday         100.838401\n",
      "mnth             48.142392\n",
      "workingday       16.165284\n",
      "holiday         -70.019251\n",
      "windspeed(ms)   -97.770430\n",
      "windspeed(mph)  -97.770430\n",
      "hum            -155.174377\n",
      "weathersit     -291.035853\n"
     ]
    }
   ],
   "source": [
    "train_validate_report(ridge_cv, X_train_scaled, y_train, X_valid_scaled, y_valid, data.columns)"
   ]
  },
  {
   "cell_type": "code",
   "execution_count": 92,
   "id": "3abf1c60",
   "metadata": {},
   "outputs": [
    {
     "data": {
      "text/plain": [
       "10.0"
      ]
     },
     "execution_count": 92,
     "metadata": {},
     "output_type": "execute_result"
    }
   ],
   "source": [
    "ridge_cv.alpha_"
   ]
  },
  {
   "cell_type": "code",
   "execution_count": 170,
   "id": "e4b2e4e5",
   "metadata": {},
   "outputs": [
    {
     "data": {
      "text/plain": [
       "9999"
      ]
     },
     "execution_count": 170,
     "metadata": {},
     "output_type": "execute_result"
    }
   ],
   "source": [
    "len(np.arange(0.001, 10, 0.001))"
   ]
  },
  {
   "cell_type": "code",
   "execution_count": 171,
   "id": "a340f99b",
   "metadata": {},
   "outputs": [],
   "source": [
    "model = RidgeCV(alphas=np.arange(0.001, 10, 0.001))"
   ]
  },
  {
   "cell_type": "code",
   "execution_count": 172,
   "id": "edec6383",
   "metadata": {},
   "outputs": [
    {
     "name": "stdout",
     "output_type": "stream",
     "text": [
      "MSE= 653.8616143882828\n",
      "Model coefficients:\n",
      "                      coef\n",
      "yr              838.368662\n",
      "temp            713.505263\n",
      "season          340.167150\n",
      "mnth            221.511085\n",
      "weekday          92.973858\n",
      "workingday       18.688858\n",
      "holiday         -52.059754\n",
      "hum            -192.704215\n",
      "windspeed(mph) -264.091313\n",
      "temp_2         -320.396823\n",
      "weathersit     -323.885722\n",
      "month_2        -344.893969\n"
     ]
    }
   ],
   "source": [
    "model.fit(X_train_scaled_ext, y_train)\n",
    "print(\"MSE=\", np.sqrt(mean_squared_error(y_valid, model.predict(X_valid_scaled_ext))))\n",
    "coef = model.coef_\n",
    "print('Model coefficients:')\n",
    "print(pd.DataFrame(coef, new_feat, columns=['coef']).sort_values(by='coef', ascending=False))"
   ]
  },
  {
   "cell_type": "code",
   "execution_count": 173,
   "id": "ef1bc455",
   "metadata": {},
   "outputs": [
    {
     "data": {
      "text/plain": [
       "8.352"
      ]
     },
     "execution_count": 173,
     "metadata": {},
     "output_type": "execute_result"
    }
   ],
   "source": [
    "model.alpha_"
   ]
  },
  {
   "cell_type": "code",
   "execution_count": null,
   "id": "c39c29ac",
   "metadata": {},
   "outputs": [],
   "source": []
  },
  {
   "cell_type": "code",
   "execution_count": 174,
   "id": "050f24c2",
   "metadata": {},
   "outputs": [],
   "source": [
    "forest = RandomForestRegressor(random_state=17, n_estimators=10000)"
   ]
  },
  {
   "cell_type": "code",
   "execution_count": 175,
   "id": "d956fe79",
   "metadata": {},
   "outputs": [
    {
     "name": "stdout",
     "output_type": "stream",
     "text": [
      "MSE= 224.09257948936715\n",
      "Model coefficients:\n",
      "                    coef\n",
      "atemp           0.276873\n",
      "temp            0.267448\n",
      "yr              0.199380\n",
      "hum             0.068408\n",
      "season          0.062089\n",
      "weathersit      0.031079\n",
      "mnth            0.027523\n",
      "weekday         0.020316\n",
      "windspeed(ms)   0.019578\n",
      "windspeed(mph)  0.019514\n",
      "workingday      0.004988\n",
      "holiday         0.002804\n"
     ]
    }
   ],
   "source": [
    "train_validate_report(forest, X_train, y_train, X_valid, y_valid, data.columns, forest=True)"
   ]
  },
  {
   "cell_type": "code",
   "execution_count": null,
   "id": "6a3c295f",
   "metadata": {},
   "outputs": [],
   "source": []
  }
 ],
 "metadata": {
  "kernelspec": {
   "display_name": "Python 3 (ipykernel)",
   "language": "python",
   "name": "python3"
  },
  "language_info": {
   "codemirror_mode": {
    "name": "ipython",
    "version": 3
   },
   "file_extension": ".py",
   "mimetype": "text/x-python",
   "name": "python",
   "nbconvert_exporter": "python",
   "pygments_lexer": "ipython3",
   "version": "3.8.8"
  }
 },
 "nbformat": 4,
 "nbformat_minor": 5
}
