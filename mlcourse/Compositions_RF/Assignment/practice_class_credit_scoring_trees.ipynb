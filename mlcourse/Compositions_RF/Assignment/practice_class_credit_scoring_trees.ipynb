{
 "cells": [
  {
   "cell_type": "markdown",
   "metadata": {},
   "source": [
    "<center>\n",
    "<img src=\"../../img/ods_stickers.jpg\">\n",
    "## Открытый курс по машинному обучению. Сессия № 2\n",
    "\n",
    "Автор материала: программист-исследователь Mail.ru Group, старший преподаватель Факультета Компьютерных Наук ВШЭ Юрий Кашницкий. Материал распространяется на условиях лицензии [Creative Commons CC BY-NC-SA 4.0](https://creativecommons.org/licenses/by-nc-sa/4.0/). Можно использовать в любых целях (редактировать, поправлять и брать за основу), кроме коммерческих, но с обязательным упоминанием автора материала."
   ]
  },
  {
   "cell_type": "markdown",
   "metadata": {},
   "source": [
    "# <center> Тема 5. Композиции алгоритмов, случайный лес\n",
    "## <center>Практика. Деревья решений и случайный лес в соревновании Kaggle Inclass по кредитному скорингу"
   ]
  },
  {
   "cell_type": "markdown",
   "metadata": {},
   "source": [
    "Тут веб-формы для ответов нет, ориентируйтесь на рейтинг [соревнования](https://inclass.kaggle.com/c/beeline-credit-scoring-competition-2), [ссылка](https://www.kaggle.com/t/115237dd8c5e4092a219a0c12bf66fc6) для участия.\n",
    "\n",
    "Решается задача кредитного скоринга. \n",
    "\n",
    "Признаки клиентов банка:\n",
    "- Age - возраст (вещественный)\n",
    "- Income - месячный доход (вещественный)\n",
    "- BalanceToCreditLimit - отношение баланса на кредитной карте к лимиту по кредиту (вещественный)\n",
    "- DIR - Debt-to-income Ratio (вещественный)\n",
    "- NumLoans - число заемов и кредитных линий\n",
    "- NumRealEstateLoans - число ипотек и заемов, связанных с недвижимостью (натуральное число)\n",
    "- NumDependents - число членов семьи, которых содержит клиент, исключая самого клиента (натуральное число)\n",
    "- Num30-59Delinquencies - число просрочек выплат по кредиту от 30 до 59 дней (натуральное число)\n",
    "- Num60-89Delinquencies - число просрочек выплат по кредиту от 60 до 89 дней (натуральное число)\n",
    "- Delinquent90 - были ли просрочки выплат по кредиту более 90 дней (бинарный) - имеется только в обучающей выборке"
   ]
  },
  {
   "cell_type": "code",
   "execution_count": 1,
   "metadata": {},
   "outputs": [],
   "source": [
    "import numpy as np\n",
    "import pandas as pd\n",
    "from sklearn.ensemble import RandomForestClassifier\n",
    "from sklearn.metrics import roc_auc_score\n",
    "from sklearn.model_selection import GridSearchCV\n",
    "from sklearn.tree import DecisionTreeClassifier\n",
    "\n",
    "%matplotlib inline"
   ]
  },
  {
   "cell_type": "markdown",
   "metadata": {},
   "source": [
    "**Загружаем данные.**"
   ]
  },
  {
   "cell_type": "code",
   "execution_count": 2,
   "metadata": {},
   "outputs": [],
   "source": [
    "train_df = pd.read_csv('../../../data/credit_scoring_train.csv', index_col='client_id')\n",
    "test_df = pd.read_csv('../../../data/credit_scoring_test.csv', index_col='client_id')"
   ]
  },
  {
   "cell_type": "code",
   "execution_count": 3,
   "metadata": {},
   "outputs": [
    {
     "data": {
      "text/html": [
       "<div>\n",
       "<style scoped>\n",
       "    .dataframe tbody tr th:only-of-type {\n",
       "        vertical-align: middle;\n",
       "    }\n",
       "\n",
       "    .dataframe tbody tr th {\n",
       "        vertical-align: top;\n",
       "    }\n",
       "\n",
       "    .dataframe thead th {\n",
       "        text-align: right;\n",
       "    }\n",
       "</style>\n",
       "<table border=\"1\" class=\"dataframe\">\n",
       "  <thead>\n",
       "    <tr style=\"text-align: right;\">\n",
       "      <th></th>\n",
       "      <th>DIR</th>\n",
       "      <th>Age</th>\n",
       "      <th>NumLoans</th>\n",
       "      <th>NumRealEstateLoans</th>\n",
       "      <th>NumDependents</th>\n",
       "      <th>Num30-59Delinquencies</th>\n",
       "      <th>Num60-89Delinquencies</th>\n",
       "      <th>Income</th>\n",
       "      <th>BalanceToCreditLimit</th>\n",
       "      <th>Delinquent90</th>\n",
       "    </tr>\n",
       "    <tr>\n",
       "      <th>client_id</th>\n",
       "      <th></th>\n",
       "      <th></th>\n",
       "      <th></th>\n",
       "      <th></th>\n",
       "      <th></th>\n",
       "      <th></th>\n",
       "      <th></th>\n",
       "      <th></th>\n",
       "      <th></th>\n",
       "      <th></th>\n",
       "    </tr>\n",
       "  </thead>\n",
       "  <tbody>\n",
       "    <tr>\n",
       "      <th>0</th>\n",
       "      <td>0.496289</td>\n",
       "      <td>49.1</td>\n",
       "      <td>13</td>\n",
       "      <td>0</td>\n",
       "      <td>0.0</td>\n",
       "      <td>2</td>\n",
       "      <td>0</td>\n",
       "      <td>5298.360639</td>\n",
       "      <td>0.387028</td>\n",
       "      <td>0</td>\n",
       "    </tr>\n",
       "    <tr>\n",
       "      <th>1</th>\n",
       "      <td>0.433567</td>\n",
       "      <td>48.0</td>\n",
       "      <td>9</td>\n",
       "      <td>2</td>\n",
       "      <td>2.0</td>\n",
       "      <td>1</td>\n",
       "      <td>0</td>\n",
       "      <td>6008.056256</td>\n",
       "      <td>0.234679</td>\n",
       "      <td>0</td>\n",
       "    </tr>\n",
       "    <tr>\n",
       "      <th>2</th>\n",
       "      <td>2206.731199</td>\n",
       "      <td>55.5</td>\n",
       "      <td>21</td>\n",
       "      <td>1</td>\n",
       "      <td>NaN</td>\n",
       "      <td>1</td>\n",
       "      <td>0</td>\n",
       "      <td>NaN</td>\n",
       "      <td>0.348227</td>\n",
       "      <td>0</td>\n",
       "    </tr>\n",
       "    <tr>\n",
       "      <th>3</th>\n",
       "      <td>886.132793</td>\n",
       "      <td>55.3</td>\n",
       "      <td>3</td>\n",
       "      <td>0</td>\n",
       "      <td>0.0</td>\n",
       "      <td>0</td>\n",
       "      <td>0</td>\n",
       "      <td>NaN</td>\n",
       "      <td>0.971930</td>\n",
       "      <td>0</td>\n",
       "    </tr>\n",
       "    <tr>\n",
       "      <th>4</th>\n",
       "      <td>0.000000</td>\n",
       "      <td>52.3</td>\n",
       "      <td>1</td>\n",
       "      <td>0</td>\n",
       "      <td>0.0</td>\n",
       "      <td>0</td>\n",
       "      <td>0</td>\n",
       "      <td>2504.613105</td>\n",
       "      <td>1.004350</td>\n",
       "      <td>0</td>\n",
       "    </tr>\n",
       "    <tr>\n",
       "      <th>...</th>\n",
       "      <td>...</td>\n",
       "      <td>...</td>\n",
       "      <td>...</td>\n",
       "      <td>...</td>\n",
       "      <td>...</td>\n",
       "      <td>...</td>\n",
       "      <td>...</td>\n",
       "      <td>...</td>\n",
       "      <td>...</td>\n",
       "      <td>...</td>\n",
       "    </tr>\n",
       "    <tr>\n",
       "      <th>74995</th>\n",
       "      <td>0.169463</td>\n",
       "      <td>67.6</td>\n",
       "      <td>5</td>\n",
       "      <td>1</td>\n",
       "      <td>0.0</td>\n",
       "      <td>0</td>\n",
       "      <td>0</td>\n",
       "      <td>20129.654428</td>\n",
       "      <td>0.074689</td>\n",
       "      <td>0</td>\n",
       "    </tr>\n",
       "    <tr>\n",
       "      <th>74996</th>\n",
       "      <td>2085.662215</td>\n",
       "      <td>43.2</td>\n",
       "      <td>1</td>\n",
       "      <td>1</td>\n",
       "      <td>0.0</td>\n",
       "      <td>0</td>\n",
       "      <td>0</td>\n",
       "      <td>NaN</td>\n",
       "      <td>1.005390</td>\n",
       "      <td>0</td>\n",
       "    </tr>\n",
       "    <tr>\n",
       "      <th>74997</th>\n",
       "      <td>0.118935</td>\n",
       "      <td>23.0</td>\n",
       "      <td>4</td>\n",
       "      <td>0</td>\n",
       "      <td>0.0</td>\n",
       "      <td>2</td>\n",
       "      <td>0</td>\n",
       "      <td>2019.117329</td>\n",
       "      <td>0.384511</td>\n",
       "      <td>0</td>\n",
       "    </tr>\n",
       "    <tr>\n",
       "      <th>74998</th>\n",
       "      <td>0.203414</td>\n",
       "      <td>46.3</td>\n",
       "      <td>14</td>\n",
       "      <td>2</td>\n",
       "      <td>0.0</td>\n",
       "      <td>0</td>\n",
       "      <td>0</td>\n",
       "      <td>16823.909642</td>\n",
       "      <td>0.524093</td>\n",
       "      <td>0</td>\n",
       "    </tr>\n",
       "    <tr>\n",
       "      <th>74999</th>\n",
       "      <td>0.037120</td>\n",
       "      <td>57.4</td>\n",
       "      <td>13</td>\n",
       "      <td>0</td>\n",
       "      <td>0.0</td>\n",
       "      <td>0</td>\n",
       "      <td>0</td>\n",
       "      <td>10556.892855</td>\n",
       "      <td>0.075616</td>\n",
       "      <td>0</td>\n",
       "    </tr>\n",
       "  </tbody>\n",
       "</table>\n",
       "<p>75000 rows × 10 columns</p>\n",
       "</div>"
      ],
      "text/plain": [
       "                   DIR   Age  NumLoans  NumRealEstateLoans  NumDependents  \\\n",
       "client_id                                                                   \n",
       "0             0.496289  49.1        13                   0            0.0   \n",
       "1             0.433567  48.0         9                   2            2.0   \n",
       "2          2206.731199  55.5        21                   1            NaN   \n",
       "3           886.132793  55.3         3                   0            0.0   \n",
       "4             0.000000  52.3         1                   0            0.0   \n",
       "...                ...   ...       ...                 ...            ...   \n",
       "74995         0.169463  67.6         5                   1            0.0   \n",
       "74996      2085.662215  43.2         1                   1            0.0   \n",
       "74997         0.118935  23.0         4                   0            0.0   \n",
       "74998         0.203414  46.3        14                   2            0.0   \n",
       "74999         0.037120  57.4        13                   0            0.0   \n",
       "\n",
       "           Num30-59Delinquencies  Num60-89Delinquencies        Income  \\\n",
       "client_id                                                               \n",
       "0                              2                      0   5298.360639   \n",
       "1                              1                      0   6008.056256   \n",
       "2                              1                      0           NaN   \n",
       "3                              0                      0           NaN   \n",
       "4                              0                      0   2504.613105   \n",
       "...                          ...                    ...           ...   \n",
       "74995                          0                      0  20129.654428   \n",
       "74996                          0                      0           NaN   \n",
       "74997                          2                      0   2019.117329   \n",
       "74998                          0                      0  16823.909642   \n",
       "74999                          0                      0  10556.892855   \n",
       "\n",
       "           BalanceToCreditLimit  Delinquent90  \n",
       "client_id                                      \n",
       "0                      0.387028             0  \n",
       "1                      0.234679             0  \n",
       "2                      0.348227             0  \n",
       "3                      0.971930             0  \n",
       "4                      1.004350             0  \n",
       "...                         ...           ...  \n",
       "74995                  0.074689             0  \n",
       "74996                  1.005390             0  \n",
       "74997                  0.384511             0  \n",
       "74998                  0.524093             0  \n",
       "74999                  0.075616             0  \n",
       "\n",
       "[75000 rows x 10 columns]"
      ]
     },
     "execution_count": 3,
     "metadata": {},
     "output_type": "execute_result"
    }
   ],
   "source": [
    "train_df"
   ]
  },
  {
   "cell_type": "code",
   "execution_count": 4,
   "metadata": {},
   "outputs": [],
   "source": [
    "y = train_df['Delinquent90']\n",
    "train_df.drop('Delinquent90', axis=1, inplace=True)"
   ]
  },
  {
   "cell_type": "code",
   "execution_count": 5,
   "metadata": {},
   "outputs": [
    {
     "data": {
      "text/html": [
       "<div>\n",
       "<style scoped>\n",
       "    .dataframe tbody tr th:only-of-type {\n",
       "        vertical-align: middle;\n",
       "    }\n",
       "\n",
       "    .dataframe tbody tr th {\n",
       "        vertical-align: top;\n",
       "    }\n",
       "\n",
       "    .dataframe thead th {\n",
       "        text-align: right;\n",
       "    }\n",
       "</style>\n",
       "<table border=\"1\" class=\"dataframe\">\n",
       "  <thead>\n",
       "    <tr style=\"text-align: right;\">\n",
       "      <th></th>\n",
       "      <th>DIR</th>\n",
       "      <th>Age</th>\n",
       "      <th>NumLoans</th>\n",
       "      <th>NumRealEstateLoans</th>\n",
       "      <th>NumDependents</th>\n",
       "      <th>Num30-59Delinquencies</th>\n",
       "      <th>Num60-89Delinquencies</th>\n",
       "      <th>Income</th>\n",
       "      <th>BalanceToCreditLimit</th>\n",
       "    </tr>\n",
       "    <tr>\n",
       "      <th>client_id</th>\n",
       "      <th></th>\n",
       "      <th></th>\n",
       "      <th></th>\n",
       "      <th></th>\n",
       "      <th></th>\n",
       "      <th></th>\n",
       "      <th></th>\n",
       "      <th></th>\n",
       "      <th></th>\n",
       "    </tr>\n",
       "  </thead>\n",
       "  <tbody>\n",
       "    <tr>\n",
       "      <th>0</th>\n",
       "      <td>0.496289</td>\n",
       "      <td>49.1</td>\n",
       "      <td>13</td>\n",
       "      <td>0</td>\n",
       "      <td>0.0</td>\n",
       "      <td>2</td>\n",
       "      <td>0</td>\n",
       "      <td>5298.360639</td>\n",
       "      <td>0.387028</td>\n",
       "    </tr>\n",
       "    <tr>\n",
       "      <th>1</th>\n",
       "      <td>0.433567</td>\n",
       "      <td>48.0</td>\n",
       "      <td>9</td>\n",
       "      <td>2</td>\n",
       "      <td>2.0</td>\n",
       "      <td>1</td>\n",
       "      <td>0</td>\n",
       "      <td>6008.056256</td>\n",
       "      <td>0.234679</td>\n",
       "    </tr>\n",
       "    <tr>\n",
       "      <th>2</th>\n",
       "      <td>2206.731199</td>\n",
       "      <td>55.5</td>\n",
       "      <td>21</td>\n",
       "      <td>1</td>\n",
       "      <td>NaN</td>\n",
       "      <td>1</td>\n",
       "      <td>0</td>\n",
       "      <td>NaN</td>\n",
       "      <td>0.348227</td>\n",
       "    </tr>\n",
       "    <tr>\n",
       "      <th>3</th>\n",
       "      <td>886.132793</td>\n",
       "      <td>55.3</td>\n",
       "      <td>3</td>\n",
       "      <td>0</td>\n",
       "      <td>0.0</td>\n",
       "      <td>0</td>\n",
       "      <td>0</td>\n",
       "      <td>NaN</td>\n",
       "      <td>0.971930</td>\n",
       "    </tr>\n",
       "    <tr>\n",
       "      <th>4</th>\n",
       "      <td>0.000000</td>\n",
       "      <td>52.3</td>\n",
       "      <td>1</td>\n",
       "      <td>0</td>\n",
       "      <td>0.0</td>\n",
       "      <td>0</td>\n",
       "      <td>0</td>\n",
       "      <td>2504.613105</td>\n",
       "      <td>1.004350</td>\n",
       "    </tr>\n",
       "  </tbody>\n",
       "</table>\n",
       "</div>"
      ],
      "text/plain": [
       "                   DIR   Age  NumLoans  NumRealEstateLoans  NumDependents  \\\n",
       "client_id                                                                   \n",
       "0             0.496289  49.1        13                   0            0.0   \n",
       "1             0.433567  48.0         9                   2            2.0   \n",
       "2          2206.731199  55.5        21                   1            NaN   \n",
       "3           886.132793  55.3         3                   0            0.0   \n",
       "4             0.000000  52.3         1                   0            0.0   \n",
       "\n",
       "           Num30-59Delinquencies  Num60-89Delinquencies       Income  \\\n",
       "client_id                                                              \n",
       "0                              2                      0  5298.360639   \n",
       "1                              1                      0  6008.056256   \n",
       "2                              1                      0          NaN   \n",
       "3                              0                      0          NaN   \n",
       "4                              0                      0  2504.613105   \n",
       "\n",
       "           BalanceToCreditLimit  \n",
       "client_id                        \n",
       "0                      0.387028  \n",
       "1                      0.234679  \n",
       "2                      0.348227  \n",
       "3                      0.971930  \n",
       "4                      1.004350  "
      ]
     },
     "execution_count": 5,
     "metadata": {},
     "output_type": "execute_result"
    }
   ],
   "source": [
    "train_df.head()"
   ]
  },
  {
   "cell_type": "markdown",
   "metadata": {},
   "source": [
    "**Посмотрим на число пропусков в каждом признаке.**"
   ]
  },
  {
   "cell_type": "code",
   "execution_count": 7,
   "metadata": {},
   "outputs": [
    {
     "name": "stdout",
     "output_type": "stream",
     "text": [
      "<class 'pandas.core.frame.DataFrame'>\n",
      "Int64Index: 75000 entries, 0 to 74999\n",
      "Data columns (total 9 columns):\n",
      " #   Column                 Non-Null Count  Dtype  \n",
      "---  ------                 --------------  -----  \n",
      " 0   DIR                    75000 non-null  float64\n",
      " 1   Age                    75000 non-null  float64\n",
      " 2   NumLoans               75000 non-null  int64  \n",
      " 3   NumRealEstateLoans     75000 non-null  int64  \n",
      " 4   NumDependents          73084 non-null  float64\n",
      " 5   Num30-59Delinquencies  75000 non-null  int64  \n",
      " 6   Num60-89Delinquencies  75000 non-null  int64  \n",
      " 7   Income                 60153 non-null  float64\n",
      " 8   BalanceToCreditLimit   75000 non-null  float64\n",
      "dtypes: float64(5), int64(4)\n",
      "memory usage: 5.7 MB\n"
     ]
    }
   ],
   "source": [
    "train_df.info()"
   ]
  },
  {
   "cell_type": "code",
   "execution_count": 8,
   "metadata": {},
   "outputs": [
    {
     "name": "stdout",
     "output_type": "stream",
     "text": [
      "<class 'pandas.core.frame.DataFrame'>\n",
      "Int64Index: 75000 entries, 75000 to 149999\n",
      "Data columns (total 9 columns):\n",
      " #   Column                 Non-Null Count  Dtype  \n",
      "---  ------                 --------------  -----  \n",
      " 0   DIR                    75000 non-null  float64\n",
      " 1   Age                    75000 non-null  float64\n",
      " 2   NumLoans               75000 non-null  int64  \n",
      " 3   NumRealEstateLoans     75000 non-null  int64  \n",
      " 4   NumDependents          72992 non-null  float64\n",
      " 5   Num30-59Delinquencies  75000 non-null  int64  \n",
      " 6   Num60-89Delinquencies  75000 non-null  int64  \n",
      " 7   Income                 60116 non-null  float64\n",
      " 8   BalanceToCreditLimit   75000 non-null  float64\n",
      "dtypes: float64(5), int64(4)\n",
      "memory usage: 5.7 MB\n"
     ]
    }
   ],
   "source": [
    "test_df.info()"
   ]
  },
  {
   "cell_type": "markdown",
   "metadata": {},
   "source": [
    "**Заменим пропуски медианными значениями.**"
   ]
  },
  {
   "cell_type": "code",
   "execution_count": 9,
   "metadata": {},
   "outputs": [],
   "source": [
    "train_df['NumDependents'].fillna(train_df['NumDependents'].median(), inplace=True)\n",
    "train_df['Income'].fillna(train_df['Income'].median(), inplace=True)\n",
    "test_df['NumDependents'].fillna(test_df['NumDependents'].median(), inplace=True)\n",
    "test_df['Income'].fillna(test_df['Income'].median(), inplace=True)"
   ]
  },
  {
   "cell_type": "markdown",
   "metadata": {},
   "source": [
    "### Дерево решений без настройки параметров"
   ]
  },
  {
   "cell_type": "markdown",
   "metadata": {},
   "source": [
    "**Обучите дерево решений максимальной глубины 3, используйте параметр random_state=17 для воспроизводимости результатов.**"
   ]
  },
  {
   "cell_type": "code",
   "execution_count": 10,
   "metadata": {},
   "outputs": [
    {
     "data": {
      "text/plain": [
       "DecisionTreeClassifier(max_depth=3, random_state=17)"
      ]
     },
     "execution_count": 10,
     "metadata": {},
     "output_type": "execute_result"
    }
   ],
   "source": [
    "first_tree = DecisionTreeClassifier(max_depth=3, random_state=17)\n",
    "first_tree.fit(train_df, y)"
   ]
  },
  {
   "cell_type": "markdown",
   "metadata": {},
   "source": [
    "**Сделайте прогноз для тестовой выборки.**"
   ]
  },
  {
   "cell_type": "code",
   "execution_count": 11,
   "metadata": {},
   "outputs": [],
   "source": [
    "first_tree_pred = first_tree.predict_proba(test_df)[:, 1]"
   ]
  },
  {
   "cell_type": "markdown",
   "metadata": {},
   "source": [
    "**Запишем прогноз в файл.**"
   ]
  },
  {
   "cell_type": "code",
   "execution_count": 12,
   "metadata": {},
   "outputs": [],
   "source": [
    "def write_to_submission_file(predicted_labels, out_file,\n",
    "                             target='Delinquent90', index_label=\"client_id\"):\n",
    "    # turn predictions into data frame and save as csv file\n",
    "    predicted_df = pd.DataFrame(predicted_labels,\n",
    "                                index = np.arange(75000, \n",
    "                                                  predicted_labels.shape[0] + 75000),\n",
    "                                columns=[target])\n",
    "    predicted_df.to_csv(out_file, index_label=index_label)"
   ]
  },
  {
   "cell_type": "code",
   "execution_count": 13,
   "metadata": {},
   "outputs": [],
   "source": [
    "write_to_submission_file(first_tree_pred, 'credit_scoring_first_tree.csv')"
   ]
  },
  {
   "cell_type": "markdown",
   "metadata": {},
   "source": [
    "**Если предсказывать вероятности дефолта для клиентов тестовой выборки, результат будет намного лучше.**"
   ]
  },
  {
   "cell_type": "markdown",
   "metadata": {},
   "source": [
    "## Дерево решений с настройкой параметров с помощью GridSearch"
   ]
  },
  {
   "cell_type": "markdown",
   "metadata": {},
   "source": [
    "**Настройте параметры дерева с помощью `GridSearhCV`, посмотрите на лучшую комбинацию параметров и среднее качество на 5-кратной кросс-валидации. Используйте параметр `random_state=17` (для воспроизводимости результатов), не забывайте про распараллеливание (`n_jobs=-1`).**"
   ]
  },
  {
   "cell_type": "code",
   "execution_count": 22,
   "metadata": {},
   "outputs": [
    {
     "data": {
      "text/plain": [
       "GridSearchCV(cv=5, estimator=DecisionTreeClassifier(random_state=17), n_jobs=-1,\n",
       "             param_grid={'max_depth': [3, 4, 5, 6, 7],\n",
       "                         'min_samples_leaf': [5, 6, 7, 8, 9, 10, 11, 12, 13, 14,\n",
       "                                              15, 16, 17, 18, 19]},\n",
       "             scoring='roc_auc')"
      ]
     },
     "execution_count": 22,
     "metadata": {},
     "output_type": "execute_result"
    }
   ],
   "source": [
    "tree_params = {'max_depth': list(range(3, 8)), \n",
    "               'min_samples_leaf': list(range(5, 20))}\n",
    "\n",
    "locally_best_tree = GridSearchCV(DecisionTreeClassifier(random_state=17), param_grid=tree_params, n_jobs=-1, \\\n",
    "                                 scoring='roc_auc', cv=5)\n",
    "locally_best_tree.fit(train_df, y)"
   ]
  },
  {
   "cell_type": "code",
   "execution_count": 23,
   "metadata": {},
   "outputs": [
    {
     "data": {
      "text/plain": [
       "({'max_depth': 6, 'min_samples_leaf': 15}, 0.83)"
      ]
     },
     "execution_count": 23,
     "metadata": {},
     "output_type": "execute_result"
    }
   ],
   "source": [
    "locally_best_tree.best_params_, round(locally_best_tree.best_score_, 3)"
   ]
  },
  {
   "cell_type": "markdown",
   "metadata": {},
   "source": [
    "**Сделайте прогноз для тестовой выборки и пошлите решение на Kaggle.**"
   ]
  },
  {
   "cell_type": "code",
   "execution_count": 24,
   "metadata": {},
   "outputs": [],
   "source": [
    "tuned_tree_pred_probs = locally_best_tree.predict_proba(test_df)[:, 1]"
   ]
  },
  {
   "cell_type": "code",
   "execution_count": 25,
   "metadata": {},
   "outputs": [],
   "source": [
    "write_to_submission_file(tuned_tree_pred_probs, 'tuned_tree.csv')"
   ]
  },
  {
   "cell_type": "markdown",
   "metadata": {},
   "source": [
    "### Случайный лес без настройки параметров"
   ]
  },
  {
   "cell_type": "markdown",
   "metadata": {},
   "source": [
    "**Обучите случайный лес из деревьев неограниченной глубины, используйте параметр `random_state=17` для воспроизводимости результатов.**"
   ]
  },
  {
   "cell_type": "code",
   "execution_count": 18,
   "metadata": {},
   "outputs": [
    {
     "data": {
      "text/plain": [
       "RandomForestClassifier(random_state=17)"
      ]
     },
     "execution_count": 18,
     "metadata": {},
     "output_type": "execute_result"
    }
   ],
   "source": [
    "first_forest = RandomForestClassifier(random_state=17)\n",
    "first_forest.fit(train_df, y)"
   ]
  },
  {
   "cell_type": "code",
   "execution_count": 19,
   "metadata": {},
   "outputs": [],
   "source": [
    "first_forest_pred = first_forest.predict_proba(test_df)[:, 1]"
   ]
  },
  {
   "cell_type": "markdown",
   "metadata": {},
   "source": [
    "**Сделайте прогноз для тестовой выборки и пошлите решение на Kaggle.**"
   ]
  },
  {
   "cell_type": "code",
   "execution_count": 20,
   "metadata": {},
   "outputs": [],
   "source": [
    "write_to_submission_file(first_forest_pred, 'forest_firest.csv')"
   ]
  },
  {
   "cell_type": "code",
   "execution_count": 21,
   "metadata": {},
   "outputs": [
    {
     "data": {
      "text/plain": [
       "(75000, 9)"
      ]
     },
     "execution_count": 21,
     "metadata": {},
     "output_type": "execute_result"
    }
   ],
   "source": [
    "train_df.shape"
   ]
  },
  {
   "cell_type": "markdown",
   "metadata": {},
   "source": [
    "### Случайный лес c настройкой параметров"
   ]
  },
  {
   "cell_type": "markdown",
   "metadata": {},
   "source": [
    "**Настройте параметр `max_features` леса с помощью `GridSearhCV`, посмотрите на лучшую комбинацию параметров и среднее качество на 5-кратной кросс-валидации. Используйте параметр random_state=17 (для воспроизводимости результатов), не забывайте про распараллеливание (n_jobs=-1).**"
   ]
  },
  {
   "cell_type": "code",
   "execution_count": 35,
   "metadata": {},
   "outputs": [
    {
     "name": "stdout",
     "output_type": "stream",
     "text": [
      "Fitting 5 folds for each of 18 candidates, totalling 90 fits\n",
      "CPU times: user 10.5 s, sys: 348 ms, total: 10.8 s\n",
      "Wall time: 3min 26s\n"
     ]
    },
    {
     "data": {
      "text/plain": [
       "GridSearchCV(cv=5,\n",
       "             estimator=RandomForestClassifier(max_features='sqrt',\n",
       "                                              random_state=17),\n",
       "             n_jobs=-1,\n",
       "             param_grid={'max_depth': [5, 40, 5],\n",
       "                         'min_samples_leaf': [2, 4, 6, 8, 12, 15]},\n",
       "             scoring='roc_auc', verbose=3)"
      ]
     },
     "execution_count": 35,
     "metadata": {},
     "output_type": "execute_result"
    }
   ],
   "source": [
    "%%time\n",
    "forest_params = {'max_depth': [5, 40, 5],\n",
    "                 'min_samples_leaf': [2, 4, 6, 8, 12, 15]}\n",
    "\n",
    "locally_best_forest = GridSearchCV(RandomForestClassifier(random_state=17, max_features='sqrt'), param_grid=forest_params, \\\n",
    "                                   cv=5, n_jobs=-1, scoring='roc_auc', verbose=3)\n",
    "locally_best_forest.fit(train_df, y)"
   ]
  },
  {
   "cell_type": "code",
   "execution_count": 36,
   "metadata": {},
   "outputs": [
    {
     "data": {
      "text/plain": [
       "({'max_depth': 40, 'min_samples_leaf': 15}, 0.844)"
      ]
     },
     "execution_count": 36,
     "metadata": {},
     "output_type": "execute_result"
    }
   ],
   "source": [
    "locally_best_forest.best_params_, round(locally_best_forest.best_score_, 3)"
   ]
  },
  {
   "cell_type": "code",
   "execution_count": 37,
   "metadata": {},
   "outputs": [],
   "source": [
    "tuned_forest_pred = locally_best_forest.predict_proba(test_df)[:, 1]"
   ]
  },
  {
   "cell_type": "code",
   "execution_count": 38,
   "metadata": {},
   "outputs": [],
   "source": [
    "write_to_submission_file(tuned_forest_pred, 'tuned_forest.csv')"
   ]
  },
  {
   "cell_type": "markdown",
   "metadata": {},
   "source": [
    "**Посмотрите, как настроенный случайный лес оценивает важность признаков по их влиянию на целевой. Представьте результаты в наглядном виде с помощью `DataFrame`.**"
   ]
  },
  {
   "cell_type": "code",
   "execution_count": 39,
   "metadata": {},
   "outputs": [
    {
     "data": {
      "text/html": [
       "<div>\n",
       "<style scoped>\n",
       "    .dataframe tbody tr th:only-of-type {\n",
       "        vertical-align: middle;\n",
       "    }\n",
       "\n",
       "    .dataframe tbody tr th {\n",
       "        vertical-align: top;\n",
       "    }\n",
       "\n",
       "    .dataframe thead th {\n",
       "        text-align: right;\n",
       "    }\n",
       "</style>\n",
       "<table border=\"1\" class=\"dataframe\">\n",
       "  <thead>\n",
       "    <tr style=\"text-align: right;\">\n",
       "      <th></th>\n",
       "      <th>coef</th>\n",
       "    </tr>\n",
       "  </thead>\n",
       "  <tbody>\n",
       "    <tr>\n",
       "      <th>BalanceToCreditLimit</th>\n",
       "      <td>0.285093</td>\n",
       "    </tr>\n",
       "    <tr>\n",
       "      <th>Num60-89Delinquencies</th>\n",
       "      <td>0.194688</td>\n",
       "    </tr>\n",
       "    <tr>\n",
       "      <th>Num30-59Delinquencies</th>\n",
       "      <td>0.140417</td>\n",
       "    </tr>\n",
       "    <tr>\n",
       "      <th>Age</th>\n",
       "      <td>0.099023</td>\n",
       "    </tr>\n",
       "    <tr>\n",
       "      <th>DIR</th>\n",
       "      <td>0.094657</td>\n",
       "    </tr>\n",
       "    <tr>\n",
       "      <th>Income</th>\n",
       "      <td>0.084577</td>\n",
       "    </tr>\n",
       "    <tr>\n",
       "      <th>NumLoans</th>\n",
       "      <td>0.061758</td>\n",
       "    </tr>\n",
       "    <tr>\n",
       "      <th>NumRealEstateLoans</th>\n",
       "      <td>0.020311</td>\n",
       "    </tr>\n",
       "    <tr>\n",
       "      <th>NumDependents</th>\n",
       "      <td>0.019476</td>\n",
       "    </tr>\n",
       "  </tbody>\n",
       "</table>\n",
       "</div>"
      ],
      "text/plain": [
       "                           coef\n",
       "BalanceToCreditLimit   0.285093\n",
       "Num60-89Delinquencies  0.194688\n",
       "Num30-59Delinquencies  0.140417\n",
       "Age                    0.099023\n",
       "DIR                    0.094657\n",
       "Income                 0.084577\n",
       "NumLoans               0.061758\n",
       "NumRealEstateLoans     0.020311\n",
       "NumDependents          0.019476"
      ]
     },
     "execution_count": 39,
     "metadata": {},
     "output_type": "execute_result"
    },
    {
     "name": "stdout",
     "output_type": "stream",
     "text": [
      "[CV 4/5] END ...max_depth=5, min_samples_leaf=2;, score=0.833 total time=   5.4s\n",
      "[CV 5/5] END ...max_depth=5, min_samples_leaf=2;, score=0.838 total time=   5.4s\n",
      "[CV 4/5] END ...max_depth=5, min_samples_leaf=4;, score=0.833 total time=   5.8s\n",
      "[CV 3/5] END ...max_depth=5, min_samples_leaf=6;, score=0.848 total time=   6.0s\n",
      "[CV 2/5] END ...max_depth=5, min_samples_leaf=8;, score=0.849 total time=   5.8s\n",
      "[CV 1/5] END ..max_depth=5, min_samples_leaf=12;, score=0.837 total time=   6.0s\n",
      "[CV 5/5] END ..max_depth=5, min_samples_leaf=12;, score=0.839 total time=   5.8s\n",
      "[CV 4/5] END ..max_depth=5, min_samples_leaf=15;, score=0.833 total time=   5.7s\n",
      "[CV 3/5] END ..max_depth=40, min_samples_leaf=2;, score=0.832 total time=  14.7s\n",
      "[CV 2/5] END ..max_depth=40, min_samples_leaf=4;, score=0.842 total time=  14.3s\n",
      "[CV 1/5] END ..max_depth=40, min_samples_leaf=6;, score=0.841 total time=  14.9s\n",
      "[CV 5/5] END ..max_depth=40, min_samples_leaf=6;, score=0.836 total time=  15.7s\n",
      "[CV 4/5] END ..max_depth=40, min_samples_leaf=8;, score=0.832 total time=  15.4s\n",
      "[CV 3/5] END .max_depth=40, min_samples_leaf=12;, score=0.848 total time=  13.4s\n",
      "[CV 2/5] END .max_depth=40, min_samples_leaf=15;, score=0.850 total time=  14.1s\n",
      "[CV 1/5] END ...max_depth=5, min_samples_leaf=2;, score=0.837 total time=   5.4s\n",
      "[CV 3/5] END ...max_depth=5, min_samples_leaf=2;, score=0.848 total time=   5.7s\n",
      "[CV 2/5] END ...max_depth=5, min_samples_leaf=4;, score=0.849 total time=   5.7s\n",
      "[CV 1/5] END ...max_depth=5, min_samples_leaf=6;, score=0.837 total time=   5.4s\n",
      "[CV 5/5] END ...max_depth=5, min_samples_leaf=6;, score=0.839 total time=   5.4s\n",
      "[CV 4/5] END ...max_depth=5, min_samples_leaf=8;, score=0.833 total time=   5.3s\n",
      "[CV 3/5] END ..max_depth=5, min_samples_leaf=12;, score=0.848 total time=   5.5s\n",
      "[CV 2/5] END ..max_depth=5, min_samples_leaf=15;, score=0.849 total time=   5.4s\n",
      "[CV 1/5] END ...max_depth=5, min_samples_leaf=2;, score=0.837 total time=   5.4s\n",
      "[CV 1/5] END ...max_depth=5, min_samples_leaf=4;, score=0.836 total time=   5.4s\n",
      "[CV 5/5] END ...max_depth=5, min_samples_leaf=4;, score=0.839 total time=   5.8s\n",
      "[CV 5/5] END ...max_depth=5, min_samples_leaf=6;, score=0.839 total time=   6.0s\n",
      "[CV 3/5] END ...max_depth=5, min_samples_leaf=8;, score=0.848 total time=   5.8s\n",
      "[CV 2/5] END ..max_depth=5, min_samples_leaf=12;, score=0.849 total time=   6.0s\n",
      "[CV 1/5] END ..max_depth=5, min_samples_leaf=15;, score=0.837 total time=   5.7s\n",
      "[CV 5/5] END ..max_depth=5, min_samples_leaf=15;, score=0.839 total time=   5.7s\n",
      "[CV 4/5] END ..max_depth=40, min_samples_leaf=2;, score=0.820 total time=  14.7s\n",
      "[CV 3/5] END ..max_depth=40, min_samples_leaf=4;, score=0.842 total time=  14.4s\n",
      "[CV 2/5] END ..max_depth=40, min_samples_leaf=6;, score=0.845 total time=  15.1s\n",
      "[CV 1/5] END ..max_depth=40, min_samples_leaf=8;, score=0.838 total time=  15.2s\n",
      "[CV 5/5] END ..max_depth=40, min_samples_leaf=8;, score=0.836 total time=  15.6s\n",
      "[CV 4/5] END .max_depth=40, min_samples_leaf=12;, score=0.835 total time=  13.2s\n",
      "[CV 3/5] END .max_depth=40, min_samples_leaf=15;, score=0.849 total time=  14.2s\n",
      "[CV 2/5] END ...max_depth=5, min_samples_leaf=2;, score=0.849 total time=   5.5s\n",
      "[CV 4/5] END ...max_depth=5, min_samples_leaf=2;, score=0.833 total time=   5.7s\n",
      "[CV 3/5] END ...max_depth=5, min_samples_leaf=4;, score=0.848 total time=   5.7s\n",
      "[CV 2/5] END ...max_depth=5, min_samples_leaf=6;, score=0.849 total time=   5.5s\n",
      "[CV 1/5] END ...max_depth=5, min_samples_leaf=8;, score=0.837 total time=   5.4s\n",
      "[CV 5/5] END ...max_depth=5, min_samples_leaf=8;, score=0.839 total time=   5.4s\n",
      "[CV 4/5] END ..max_depth=5, min_samples_leaf=12;, score=0.832 total time=   5.4s\n",
      "[CV 3/5] END ..max_depth=5, min_samples_leaf=15;, score=0.848 total time=   5.4s\n",
      "[CV 3/5] END ...max_depth=5, min_samples_leaf=2;, score=0.848 total time=   5.4s\n",
      "[CV 2/5] END ...max_depth=5, min_samples_leaf=4;, score=0.849 total time=   5.4s\n",
      "[CV 1/5] END ...max_depth=5, min_samples_leaf=6;, score=0.837 total time=   5.7s\n",
      "[CV 4/5] END ...max_depth=5, min_samples_leaf=6;, score=0.832 total time=   6.0s\n",
      "[CV 4/5] END ...max_depth=5, min_samples_leaf=8;, score=0.833 total time=   5.7s\n",
      "[CV 3/5] END ..max_depth=5, min_samples_leaf=12;, score=0.848 total time=   6.1s\n",
      "[CV 2/5] END ..max_depth=5, min_samples_leaf=15;, score=0.849 total time=   5.8s\n",
      "[CV 1/5] END ..max_depth=40, min_samples_leaf=2;, score=0.833 total time=  14.9s\n",
      "[CV 5/5] END ..max_depth=40, min_samples_leaf=2;, score=0.828 total time=  14.8s\n",
      "[CV 5/5] END ..max_depth=40, min_samples_leaf=4;, score=0.833 total time=  15.1s\n",
      "[CV 4/5] END ..max_depth=40, min_samples_leaf=6;, score=0.830 total time=  14.9s\n",
      "[CV 3/5] END ..max_depth=40, min_samples_leaf=8;, score=0.846 total time=  16.3s\n",
      "[CV 2/5] END .max_depth=40, min_samples_leaf=12;, score=0.849 total time=  13.6s\n",
      "[CV 1/5] END .max_depth=40, min_samples_leaf=15;, score=0.843 total time=  13.9s\n",
      "[CV 4/5] END .max_depth=40, min_samples_leaf=15;, score=0.835 total time=  12.7s\n",
      "[CV 5/5] END ...max_depth=5, min_samples_leaf=2;, score=0.838 total time=   5.9s\n",
      "[CV 4/5] END ...max_depth=5, min_samples_leaf=4;, score=0.833 total time=   5.4s\n",
      "[CV 3/5] END ...max_depth=5, min_samples_leaf=6;, score=0.848 total time=   5.5s\n",
      "[CV 2/5] END ...max_depth=5, min_samples_leaf=8;, score=0.849 total time=   5.4s\n",
      "[CV 1/5] END ..max_depth=5, min_samples_leaf=12;, score=0.837 total time=   5.4s\n",
      "[CV 5/5] END ..max_depth=5, min_samples_leaf=12;, score=0.839 total time=   5.3s\n",
      "[CV 4/5] END ..max_depth=5, min_samples_leaf=15;, score=0.833 total time=   4.4s\n",
      "[CV 2/5] END ...max_depth=5, min_samples_leaf=2;, score=0.849 total time=   5.5s\n",
      "[CV 3/5] END ...max_depth=5, min_samples_leaf=4;, score=0.848 total time=   5.4s\n",
      "[CV 2/5] END ...max_depth=5, min_samples_leaf=6;, score=0.849 total time=   5.9s\n",
      "[CV 1/5] END ...max_depth=5, min_samples_leaf=8;, score=0.837 total time=   6.0s\n",
      "[CV 5/5] END ...max_depth=5, min_samples_leaf=8;, score=0.839 total time=   5.8s\n",
      "[CV 4/5] END ..max_depth=5, min_samples_leaf=12;, score=0.832 total time=   6.0s\n",
      "[CV 3/5] END ..max_depth=5, min_samples_leaf=15;, score=0.848 total time=   5.8s\n",
      "[CV 2/5] END ..max_depth=40, min_samples_leaf=2;, score=0.837 total time=  15.0s\n",
      "[CV 1/5] END ..max_depth=40, min_samples_leaf=4;, score=0.837 total time=  14.2s\n",
      "[CV 4/5] END ..max_depth=40, min_samples_leaf=4;, score=0.825 total time=  15.0s\n",
      "[CV 3/5] END ..max_depth=40, min_samples_leaf=6;, score=0.844 total time=  15.0s\n",
      "[CV 2/5] END ..max_depth=40, min_samples_leaf=8;, score=0.846 total time=  16.6s\n",
      "[CV 1/5] END .max_depth=40, min_samples_leaf=12;, score=0.842 total time=  13.6s\n",
      "[CV 5/5] END .max_depth=40, min_samples_leaf=12;, score=0.837 total time=  14.3s\n",
      "[CV 5/5] END .max_depth=40, min_samples_leaf=15;, score=0.841 total time=  13.0s\n",
      "[CV 1/5] END ...max_depth=5, min_samples_leaf=4;, score=0.836 total time=   6.0s\n",
      "[CV 5/5] END ...max_depth=5, min_samples_leaf=4;, score=0.839 total time=   5.5s\n",
      "[CV 4/5] END ...max_depth=5, min_samples_leaf=6;, score=0.832 total time=   5.5s\n",
      "[CV 3/5] END ...max_depth=5, min_samples_leaf=8;, score=0.848 total time=   5.4s\n",
      "[CV 2/5] END ..max_depth=5, min_samples_leaf=12;, score=0.849 total time=   5.4s\n",
      "[CV 1/5] END ..max_depth=5, min_samples_leaf=15;, score=0.837 total time=   5.4s\n",
      "[CV 5/5] END ..max_depth=5, min_samples_leaf=15;, score=0.839 total time=   4.2s\n"
     ]
    }
   ],
   "source": [
    "pd.DataFrame(locally_best_forest.best_estimator_.feature_importances_, index=train_df.columns, columns=['coef']) \\\n",
    "        .sort_values(by='coef', ascending=False)"
   ]
  },
  {
   "cell_type": "markdown",
   "metadata": {},
   "source": [
    "**Обычно увеличение количества деревьев только улучшает результат. Так что напоследок обучите случайный лес из 300 деревьев с найденными лучшими параметрами. Это может занять несколько минут.**"
   ]
  },
  {
   "cell_type": "code",
   "execution_count": 41,
   "metadata": {},
   "outputs": [
    {
     "name": "stdout",
     "output_type": "stream",
     "text": [
      "CPU times: user 1min 25s, sys: 469 ms, total: 1min 26s\n",
      "Wall time: 23.2 s\n"
     ]
    }
   ],
   "source": [
    "%%time\n",
    "final_forest = RandomForestClassifier(n_jobs=-1, n_estimators=500, random_state=17, max_features=3, max_depth=40, min_samples_leaf=15)\n",
    "final_forest.fit(train_df, y)\n",
    "final_forest_pred = final_forest.predict_proba(test_df)[:, 1]\n",
    "write_to_submission_file(final_forest_pred, 'credit_scoring_final_forest.csv')"
   ]
  },
  {
   "cell_type": "markdown",
   "metadata": {},
   "source": [
    "**Сделайте посылку на Kaggle.**"
   ]
  }
 ],
 "metadata": {
  "anaconda-cloud": {},
  "kernelspec": {
   "display_name": "Python 3 (ipykernel)",
   "language": "python",
   "name": "python3"
  },
  "language_info": {
   "codemirror_mode": {
    "name": "ipython",
    "version": 3
   },
   "file_extension": ".py",
   "mimetype": "text/x-python",
   "name": "python",
   "nbconvert_exporter": "python",
   "pygments_lexer": "ipython3",
   "version": "3.8.8"
  }
 },
 "nbformat": 4,
 "nbformat_minor": 1
}
