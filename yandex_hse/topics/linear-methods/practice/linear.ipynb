{
 "cells": [
  {
   "cell_type": "code",
   "execution_count": 2,
   "id": "b6a84c0b",
   "metadata": {},
   "outputs": [],
   "source": [
    "import numpy as np\n",
    "import pandas as pd\n",
    "import matplotlib.pyplot as plt\n",
    "from sklearn.linear_model import Perceptron\n",
    "from sklearn.metrics import accuracy_score\n",
    "\n",
    "from sklearn.preprocessing import StandardScaler"
   ]
  },
  {
   "cell_type": "code",
   "execution_count": 31,
   "id": "924a1f91",
   "metadata": {},
   "outputs": [],
   "source": [
    "train = pd.read_csv('../../data/perceptron-train.csv', header=None)\n",
    "test = pd.read_csv('../../data/perceptron-test.csv', header=None)"
   ]
  },
  {
   "cell_type": "code",
   "execution_count": 32,
   "id": "bd3c2428",
   "metadata": {},
   "outputs": [],
   "source": [
    "train, y_train = train.drop(0, axis=1), train[0]\n",
    "test, y_test = test.drop(0, axis=1), test[0]"
   ]
  },
  {
   "cell_type": "code",
   "execution_count": 40,
   "id": "13b40140",
   "metadata": {},
   "outputs": [
    {
     "data": {
      "text/plain": [
       "Perceptron(max_iter=5, random_state=241, tol=None)"
      ]
     },
     "execution_count": 40,
     "metadata": {},
     "output_type": "execute_result"
    }
   ],
   "source": [
    "perc = Perceptron(random_state=241, max_iter=5, tol=None)\n",
    "perc.fit(train, y_train)"
   ]
  },
  {
   "cell_type": "code",
   "execution_count": 41,
   "id": "e6cbe7ca",
   "metadata": {},
   "outputs": [
    {
     "data": {
      "text/plain": [
       "0.655"
      ]
     },
     "execution_count": 41,
     "metadata": {},
     "output_type": "execute_result"
    }
   ],
   "source": [
    "acc_1 = accuracy_score(y_test, perc.predict(test))\n",
    "acc_1"
   ]
  },
  {
   "cell_type": "code",
   "execution_count": 42,
   "id": "8cde5acd",
   "metadata": {},
   "outputs": [
    {
     "data": {
      "text/plain": [
       "array([[-341.33644364, -184.03499999]])"
      ]
     },
     "execution_count": 42,
     "metadata": {},
     "output_type": "execute_result"
    }
   ],
   "source": [
    "perc.coef_"
   ]
  },
  {
   "cell_type": "code",
   "execution_count": 43,
   "id": "7a408c37",
   "metadata": {},
   "outputs": [],
   "source": [
    "scaler = StandardScaler()\n",
    "train_scaled = scaler.fit_transform(train)\n",
    "test_scaled = scaler.transform(test)"
   ]
  },
  {
   "cell_type": "code",
   "execution_count": 44,
   "id": "4549eeb3",
   "metadata": {},
   "outputs": [
    {
     "data": {
      "text/plain": [
       "0.84"
      ]
     },
     "execution_count": 44,
     "metadata": {},
     "output_type": "execute_result"
    }
   ],
   "source": [
    "perc.fit(train_scaled, y_train)\n",
    "acc_2 = accuracy_score(y_test, perc.predict(test_scaled))\n",
    "acc_2"
   ]
  },
  {
   "cell_type": "code",
   "execution_count": 45,
   "id": "48d17824",
   "metadata": {},
   "outputs": [
    {
     "data": {
      "text/plain": [
       "array([[-1.23732306, -1.62614058]])"
      ]
     },
     "execution_count": 45,
     "metadata": {},
     "output_type": "execute_result"
    }
   ],
   "source": [
    "perc.coef_"
   ]
  },
  {
   "cell_type": "code",
   "execution_count": 46,
   "id": "c1f384a0",
   "metadata": {},
   "outputs": [
    {
     "data": {
      "text/plain": [
       "0.18499999999999994"
      ]
     },
     "execution_count": 46,
     "metadata": {},
     "output_type": "execute_result"
    }
   ],
   "source": [
    "ans = acc_2 - acc_1\n",
    "ans"
   ]
  },
  {
   "cell_type": "code",
   "execution_count": null,
   "id": "ccb0f38e",
   "metadata": {},
   "outputs": [],
   "source": []
  },
  {
   "cell_type": "code",
   "execution_count": null,
   "id": "5cab6078",
   "metadata": {},
   "outputs": [],
   "source": []
  }
 ],
 "metadata": {
  "kernelspec": {
   "display_name": "Python 3 (ipykernel)",
   "language": "python",
   "name": "python3"
  },
  "language_info": {
   "codemirror_mode": {
    "name": "ipython",
    "version": 3
   },
   "file_extension": ".py",
   "mimetype": "text/x-python",
   "name": "python",
   "nbconvert_exporter": "python",
   "pygments_lexer": "ipython3",
   "version": "3.8.8"
  }
 },
 "nbformat": 4,
 "nbformat_minor": 5
}
