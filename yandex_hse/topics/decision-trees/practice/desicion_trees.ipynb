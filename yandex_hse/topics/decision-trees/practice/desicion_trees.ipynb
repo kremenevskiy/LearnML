{
 "cells": [
  {
   "cell_type": "code",
   "execution_count": 2,
   "id": "3f1c0a6d",
   "metadata": {},
   "outputs": [],
   "source": [
    "import pandas as pd\n",
    "import numpy as np\n",
    "from sklearn.tree import DecisionTreeClassifier"
   ]
  },
  {
   "cell_type": "code",
   "execution_count": 14,
   "id": "08468d15",
   "metadata": {},
   "outputs": [],
   "source": [
    "data = pd.read_csv('../../data/titanic.csv')"
   ]
  },
  {
   "cell_type": "code",
   "execution_count": 18,
   "id": "4c6bc0e3",
   "metadata": {},
   "outputs": [],
   "source": [
    "data = data.dropna(subset=['Age'])"
   ]
  },
  {
   "cell_type": "code",
   "execution_count": 19,
   "id": "e6ec182c",
   "metadata": {},
   "outputs": [],
   "source": [
    "data, target = data[['Pclass', 'Fare', 'Age', 'Sex']], data['Survived']"
   ]
  },
  {
   "cell_type": "code",
   "execution_count": 23,
   "id": "06995dd0",
   "metadata": {},
   "outputs": [],
   "source": [
    "data['Sex'] = data['Sex'].map({'male': 0, 'female': 1})"
   ]
  },
  {
   "cell_type": "code",
   "execution_count": 24,
   "id": "2f77ef99",
   "metadata": {},
   "outputs": [
    {
     "data": {
      "text/plain": [
       "DecisionTreeClassifier(random_state=241)"
      ]
     },
     "execution_count": 24,
     "metadata": {},
     "output_type": "execute_result"
    }
   ],
   "source": [
    "clf = DecisionTreeClassifier(random_state=241)\n",
    "clf.fit(data, target)"
   ]
  },
  {
   "cell_type": "code",
   "execution_count": 28,
   "id": "1ccac9df",
   "metadata": {},
   "outputs": [
    {
     "data": {
      "text/html": [
       "<div>\n",
       "<style scoped>\n",
       "    .dataframe tbody tr th:only-of-type {\n",
       "        vertical-align: middle;\n",
       "    }\n",
       "\n",
       "    .dataframe tbody tr th {\n",
       "        vertical-align: top;\n",
       "    }\n",
       "\n",
       "    .dataframe thead th {\n",
       "        text-align: right;\n",
       "    }\n",
       "</style>\n",
       "<table border=\"1\" class=\"dataframe\">\n",
       "  <thead>\n",
       "    <tr style=\"text-align: right;\">\n",
       "      <th></th>\n",
       "      <th>importance</th>\n",
       "    </tr>\n",
       "  </thead>\n",
       "  <tbody>\n",
       "    <tr>\n",
       "      <th>Sex</th>\n",
       "      <td>0.300512</td>\n",
       "    </tr>\n",
       "    <tr>\n",
       "      <th>Fare</th>\n",
       "      <td>0.295385</td>\n",
       "    </tr>\n",
       "    <tr>\n",
       "      <th>Age</th>\n",
       "      <td>0.256585</td>\n",
       "    </tr>\n",
       "    <tr>\n",
       "      <th>Pclass</th>\n",
       "      <td>0.147518</td>\n",
       "    </tr>\n",
       "  </tbody>\n",
       "</table>\n",
       "</div>"
      ],
      "text/plain": [
       "        importance\n",
       "Sex       0.300512\n",
       "Fare      0.295385\n",
       "Age       0.256585\n",
       "Pclass    0.147518"
      ]
     },
     "execution_count": 28,
     "metadata": {},
     "output_type": "execute_result"
    }
   ],
   "source": [
    "pd.DataFrame(clf.feature_importances_, index=data.columns, columns=['importance']).sort_values(by='importance', ascending=False)"
   ]
  },
  {
   "cell_type": "code",
   "execution_count": null,
   "id": "c0d68ad6",
   "metadata": {},
   "outputs": [],
   "source": []
  }
 ],
 "metadata": {
  "kernelspec": {
   "display_name": "Python 3 (ipykernel)",
   "language": "python",
   "name": "python3"
  },
  "language_info": {
   "codemirror_mode": {
    "name": "ipython",
    "version": 3
   },
   "file_extension": ".py",
   "mimetype": "text/x-python",
   "name": "python",
   "nbconvert_exporter": "python",
   "pygments_lexer": "ipython3",
   "version": "3.8.8"
  }
 },
 "nbformat": 4,
 "nbformat_minor": 5
}
