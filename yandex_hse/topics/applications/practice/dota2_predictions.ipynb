{
 "cells": [
  {
   "cell_type": "code",
   "execution_count": 645,
   "id": "1c4673e3",
   "metadata": {},
   "outputs": [],
   "source": [
    "import pandas as pd\n",
    "import numpy as np\n",
    "\n",
    "import matplotlib.pyplot as plt\n",
    "import seaborn as sns\n",
    "\n",
    "from sklearn.metrics import roc_auc_score\n",
    "from sklearn.model_selection import KFold, GridSearchCV, train_test_split\n",
    "\n",
    "from sklearn.ensemble import GradientBoostingClassifier, RandomForestClassifier\n",
    "from sklearn.linear_model import LogisticRegression, LogisticRegressionCV\n",
    "from sklearn.preprocessing import StandardScaler\n",
    "from xgboost import XGBClassifier\n",
    "\n",
    "import time\n",
    "from datetime import datetime"
   ]
  },
  {
   "cell_type": "code",
   "execution_count": 456,
   "id": "81dc3e99",
   "metadata": {},
   "outputs": [],
   "source": [
    "RANDOM_STATE = 19"
   ]
  },
  {
   "cell_type": "code",
   "execution_count": 475,
   "id": "a6cc3ff5",
   "metadata": {},
   "outputs": [],
   "source": [
    "train = pd.read_csv('features.csv')\n",
    "test = pd.read_csv('features_test.csv')"
   ]
  },
  {
   "cell_type": "code",
   "execution_count": 476,
   "id": "673a9e59",
   "metadata": {},
   "outputs": [
    {
     "name": "stdout",
     "output_type": "stream",
     "text": [
      "(97230, 109)\n",
      "(17177, 103)\n"
     ]
    }
   ],
   "source": [
    "print(train.shape)\n",
    "print(test.shape)"
   ]
  },
  {
   "cell_type": "code",
   "execution_count": 477,
   "id": "79d57a1b",
   "metadata": {},
   "outputs": [
    {
     "data": {
      "text/html": [
       "<div>\n",
       "<style scoped>\n",
       "    .dataframe tbody tr th:only-of-type {\n",
       "        vertical-align: middle;\n",
       "    }\n",
       "\n",
       "    .dataframe tbody tr th {\n",
       "        vertical-align: top;\n",
       "    }\n",
       "\n",
       "    .dataframe thead th {\n",
       "        text-align: right;\n",
       "    }\n",
       "</style>\n",
       "<table border=\"1\" class=\"dataframe\">\n",
       "  <thead>\n",
       "    <tr style=\"text-align: right;\">\n",
       "      <th></th>\n",
       "      <th>match_id</th>\n",
       "      <th>start_time</th>\n",
       "      <th>lobby_type</th>\n",
       "      <th>r1_hero</th>\n",
       "      <th>r1_level</th>\n",
       "      <th>r1_xp</th>\n",
       "      <th>r1_gold</th>\n",
       "      <th>r1_lh</th>\n",
       "      <th>r1_kills</th>\n",
       "      <th>r1_deaths</th>\n",
       "      <th>...</th>\n",
       "      <th>dire_boots_count</th>\n",
       "      <th>dire_ward_observer_count</th>\n",
       "      <th>dire_ward_sentry_count</th>\n",
       "      <th>dire_first_ward_time</th>\n",
       "      <th>duration</th>\n",
       "      <th>radiant_win</th>\n",
       "      <th>tower_status_radiant</th>\n",
       "      <th>tower_status_dire</th>\n",
       "      <th>barracks_status_radiant</th>\n",
       "      <th>barracks_status_dire</th>\n",
       "    </tr>\n",
       "  </thead>\n",
       "  <tbody>\n",
       "    <tr>\n",
       "      <th>0</th>\n",
       "      <td>0</td>\n",
       "      <td>1430198770</td>\n",
       "      <td>7</td>\n",
       "      <td>11</td>\n",
       "      <td>5</td>\n",
       "      <td>2098</td>\n",
       "      <td>1489</td>\n",
       "      <td>20</td>\n",
       "      <td>0</td>\n",
       "      <td>0</td>\n",
       "      <td>...</td>\n",
       "      <td>4</td>\n",
       "      <td>2</td>\n",
       "      <td>2</td>\n",
       "      <td>-52.0</td>\n",
       "      <td>2874</td>\n",
       "      <td>1</td>\n",
       "      <td>1796</td>\n",
       "      <td>0</td>\n",
       "      <td>51</td>\n",
       "      <td>0</td>\n",
       "    </tr>\n",
       "    <tr>\n",
       "      <th>1</th>\n",
       "      <td>1</td>\n",
       "      <td>1430220345</td>\n",
       "      <td>0</td>\n",
       "      <td>42</td>\n",
       "      <td>4</td>\n",
       "      <td>1188</td>\n",
       "      <td>1033</td>\n",
       "      <td>9</td>\n",
       "      <td>0</td>\n",
       "      <td>1</td>\n",
       "      <td>...</td>\n",
       "      <td>4</td>\n",
       "      <td>3</td>\n",
       "      <td>1</td>\n",
       "      <td>-5.0</td>\n",
       "      <td>2463</td>\n",
       "      <td>1</td>\n",
       "      <td>1974</td>\n",
       "      <td>0</td>\n",
       "      <td>63</td>\n",
       "      <td>1</td>\n",
       "    </tr>\n",
       "    <tr>\n",
       "      <th>2</th>\n",
       "      <td>2</td>\n",
       "      <td>1430227081</td>\n",
       "      <td>7</td>\n",
       "      <td>33</td>\n",
       "      <td>4</td>\n",
       "      <td>1319</td>\n",
       "      <td>1270</td>\n",
       "      <td>22</td>\n",
       "      <td>0</td>\n",
       "      <td>0</td>\n",
       "      <td>...</td>\n",
       "      <td>4</td>\n",
       "      <td>3</td>\n",
       "      <td>1</td>\n",
       "      <td>13.0</td>\n",
       "      <td>2130</td>\n",
       "      <td>0</td>\n",
       "      <td>0</td>\n",
       "      <td>1830</td>\n",
       "      <td>0</td>\n",
       "      <td>63</td>\n",
       "    </tr>\n",
       "    <tr>\n",
       "      <th>3</th>\n",
       "      <td>3</td>\n",
       "      <td>1430263531</td>\n",
       "      <td>1</td>\n",
       "      <td>29</td>\n",
       "      <td>4</td>\n",
       "      <td>1779</td>\n",
       "      <td>1056</td>\n",
       "      <td>14</td>\n",
       "      <td>0</td>\n",
       "      <td>0</td>\n",
       "      <td>...</td>\n",
       "      <td>4</td>\n",
       "      <td>2</td>\n",
       "      <td>0</td>\n",
       "      <td>27.0</td>\n",
       "      <td>1459</td>\n",
       "      <td>0</td>\n",
       "      <td>1920</td>\n",
       "      <td>2047</td>\n",
       "      <td>50</td>\n",
       "      <td>63</td>\n",
       "    </tr>\n",
       "    <tr>\n",
       "      <th>4</th>\n",
       "      <td>4</td>\n",
       "      <td>1430282290</td>\n",
       "      <td>7</td>\n",
       "      <td>13</td>\n",
       "      <td>4</td>\n",
       "      <td>1431</td>\n",
       "      <td>1090</td>\n",
       "      <td>8</td>\n",
       "      <td>1</td>\n",
       "      <td>0</td>\n",
       "      <td>...</td>\n",
       "      <td>3</td>\n",
       "      <td>3</td>\n",
       "      <td>0</td>\n",
       "      <td>-16.0</td>\n",
       "      <td>2449</td>\n",
       "      <td>0</td>\n",
       "      <td>4</td>\n",
       "      <td>1974</td>\n",
       "      <td>3</td>\n",
       "      <td>63</td>\n",
       "    </tr>\n",
       "  </tbody>\n",
       "</table>\n",
       "<p>5 rows × 109 columns</p>\n",
       "</div>"
      ],
      "text/plain": [
       "   match_id  start_time  lobby_type  r1_hero  r1_level  r1_xp  r1_gold  r1_lh  \\\n",
       "0         0  1430198770           7       11         5   2098     1489     20   \n",
       "1         1  1430220345           0       42         4   1188     1033      9   \n",
       "2         2  1430227081           7       33         4   1319     1270     22   \n",
       "3         3  1430263531           1       29         4   1779     1056     14   \n",
       "4         4  1430282290           7       13         4   1431     1090      8   \n",
       "\n",
       "   r1_kills  r1_deaths  ...  dire_boots_count  dire_ward_observer_count  \\\n",
       "0         0          0  ...                 4                         2   \n",
       "1         0          1  ...                 4                         3   \n",
       "2         0          0  ...                 4                         3   \n",
       "3         0          0  ...                 4                         2   \n",
       "4         1          0  ...                 3                         3   \n",
       "\n",
       "   dire_ward_sentry_count  dire_first_ward_time  duration  radiant_win  \\\n",
       "0                       2                 -52.0      2874            1   \n",
       "1                       1                  -5.0      2463            1   \n",
       "2                       1                  13.0      2130            0   \n",
       "3                       0                  27.0      1459            0   \n",
       "4                       0                 -16.0      2449            0   \n",
       "\n",
       "   tower_status_radiant  tower_status_dire  barracks_status_radiant  \\\n",
       "0                  1796                  0                       51   \n",
       "1                  1974                  0                       63   \n",
       "2                     0               1830                        0   \n",
       "3                  1920               2047                       50   \n",
       "4                     4               1974                        3   \n",
       "\n",
       "   barracks_status_dire  \n",
       "0                     0  \n",
       "1                     1  \n",
       "2                    63  \n",
       "3                    63  \n",
       "4                    63  \n",
       "\n",
       "[5 rows x 109 columns]"
      ]
     },
     "execution_count": 477,
     "metadata": {},
     "output_type": "execute_result"
    }
   ],
   "source": [
    "train.head()"
   ]
  },
  {
   "cell_type": "markdown",
   "id": "040fdf45",
   "metadata": {},
   "source": [
    "### Find redudant features in train"
   ]
  },
  {
   "cell_type": "code",
   "execution_count": 478,
   "id": "eeb6a067",
   "metadata": {},
   "outputs": [
    {
     "name": "stdout",
     "output_type": "stream",
     "text": [
      "['radiant_win', 'duration', 'tower_status_dire', 'barracks_status_radiant', 'barracks_status_dire', 'tower_status_radiant']\n",
      "set()\n"
     ]
    }
   ],
   "source": [
    "redudant_feat = list(set(train.columns) - set(test.columns))\n",
    "print(redudant_feat)\n",
    "print(set(test.columns) - set(train.columns))"
   ]
  },
  {
   "cell_type": "code",
   "execution_count": 479,
   "id": "a14a5162",
   "metadata": {},
   "outputs": [],
   "source": [
    "train, redudant = train.drop(redudant_feat, axis=1), train[redudant_feat]\n",
    "y = redudant['radiant_win']"
   ]
  },
  {
   "cell_type": "code",
   "execution_count": 480,
   "id": "d8d633be",
   "metadata": {},
   "outputs": [
    {
     "data": {
      "text/plain": [
       "((97230, 103), (17177, 103))"
      ]
     },
     "execution_count": 480,
     "metadata": {},
     "output_type": "execute_result"
    }
   ],
   "source": [
    "train.shape, test.shape"
   ]
  },
  {
   "cell_type": "markdown",
   "id": "dcec655e",
   "metadata": {},
   "source": [
    "### Find null values and fill them"
   ]
  },
  {
   "cell_type": "code",
   "execution_count": 481,
   "id": "1f1bfc0c",
   "metadata": {},
   "outputs": [
    {
     "name": "stdout",
     "output_type": "stream",
     "text": [
      "193087 - train count nan values\n",
      "34418 - test count nan values\n"
     ]
    }
   ],
   "source": [
    "print(f'{train.isna().sum().sum()} - train count nan values')\n",
    "print(f'{test.isna().sum().sum()} - test count nan values')"
   ]
  },
  {
   "cell_type": "code",
   "execution_count": 482,
   "id": "5ecbdac5",
   "metadata": {},
   "outputs": [
    {
     "data": {
      "text/plain": [
       "[('first_blood_time', 19553, dtype('float64')),\n",
       " ('first_blood_team', 19553, dtype('float64')),\n",
       " ('first_blood_player1', 19553, dtype('float64')),\n",
       " ('first_blood_player2', 43987, dtype('float64')),\n",
       " ('radiant_bottle_time', 15691, dtype('float64')),\n",
       " ('radiant_courier_time', 692, dtype('float64')),\n",
       " ('radiant_flying_courier_time', 27479, dtype('float64')),\n",
       " ('radiant_first_ward_time', 1836, dtype('float64')),\n",
       " ('dire_bottle_time', 16143, dtype('float64')),\n",
       " ('dire_courier_time', 676, dtype('float64')),\n",
       " ('dire_flying_courier_time', 26098, dtype('float64')),\n",
       " ('dire_first_ward_time', 1826, dtype('float64'))]"
      ]
     },
     "execution_count": 482,
     "metadata": {},
     "output_type": "execute_result"
    }
   ],
   "source": [
    "[(i, train[i].isna().sum(), train[i].dtypes) for i in train.columns if train[i].isna().any()]"
   ]
  },
  {
   "cell_type": "code",
   "execution_count": 483,
   "id": "3edb05dd",
   "metadata": {},
   "outputs": [
    {
     "data": {
      "text/plain": [
       "[('first_blood_time', 3552, dtype('float64')),\n",
       " ('first_blood_team', 3552, dtype('float64')),\n",
       " ('first_blood_player1', 3552, dtype('float64')),\n",
       " ('first_blood_player2', 7766, dtype('float64')),\n",
       " ('radiant_bottle_time', 2895, dtype('float64')),\n",
       " ('radiant_courier_time', 127, dtype('float64')),\n",
       " ('radiant_flying_courier_time', 4885, dtype('float64')),\n",
       " ('radiant_first_ward_time', 330, dtype('float64')),\n",
       " ('dire_bottle_time', 2842, dtype('float64')),\n",
       " ('dire_courier_time', 130, dtype('float64')),\n",
       " ('dire_flying_courier_time', 4524, dtype('float64')),\n",
       " ('dire_first_ward_time', 263, dtype('float64'))]"
      ]
     },
     "execution_count": 483,
     "metadata": {},
     "output_type": "execute_result"
    }
   ],
   "source": [
    "[(i, test[i].isna().sum(), test[i].dtypes) for i in test.columns if test[i].isna().any()]"
   ]
  },
  {
   "cell_type": "markdown",
   "id": "fda3fce6",
   "metadata": {},
   "source": [
    "#### fill them with zeros"
   ]
  },
  {
   "cell_type": "code",
   "execution_count": 484,
   "id": "93ecf356",
   "metadata": {},
   "outputs": [],
   "source": [
    "train_not_filled = train.copy()\n",
    "test_no_filles = test.copy()"
   ]
  },
  {
   "cell_type": "code",
   "execution_count": 485,
   "id": "fd8b7622",
   "metadata": {},
   "outputs": [
    {
     "name": "stdout",
     "output_type": "stream",
     "text": [
      "0 - train nan\n",
      "0 - test nan\n"
     ]
    }
   ],
   "source": [
    "train = train.fillna(0)\n",
    "test = test.fillna(0)\n",
    "print(f'{train.isna().sum().sum()} - train nan')\n",
    "print(f'{test.isna().sum().sum()} - test nan')"
   ]
  },
  {
   "cell_type": "code",
   "execution_count": null,
   "id": "340a9732",
   "metadata": {},
   "outputs": [],
   "source": []
  },
  {
   "cell_type": "markdown",
   "id": "56516fa1",
   "metadata": {},
   "source": [
    "### Fit Gradient Boosting"
   ]
  },
  {
   "cell_type": "code",
   "execution_count": 211,
   "id": "b5185bc0",
   "metadata": {},
   "outputs": [],
   "source": [
    "kf = KFold(n_splits=5, shuffle=True, random_state=RANDOM_STATE)"
   ]
  },
  {
   "cell_type": "code",
   "execution_count": 212,
   "id": "8b404f20",
   "metadata": {},
   "outputs": [],
   "source": [
    "boosting_params = {\n",
    "    'n_estimators': [2, 5, 7, 10, 15, 20, 25, 30, 35, 40, 50, 60, 70, 80, 90]\n",
    "}"
   ]
  },
  {
   "cell_type": "code",
   "execution_count": 213,
   "id": "dffe595a",
   "metadata": {},
   "outputs": [
    {
     "name": "stdout",
     "output_type": "stream",
     "text": [
      "trees: 2 | mean_roc_auc_score: 0.6108859960022477 | time: 8.199\n",
      "trees: 5 | mean_roc_auc_score: 0.6348085565713358 | time: 18.999\n",
      "trees: 7 | mean_roc_auc_score: 0.6519233479483159 | time: 26.265\n",
      "trees: 10 | mean_roc_auc_score: 0.6651167116783963 | time: 37.291\n",
      "trees: 15 | mean_roc_auc_score: 0.6763383542886326 | time: 55.596\n",
      "trees: 20 | mean_roc_auc_score: 0.6822453160006683 | time: 73.352\n",
      "trees: 25 | mean_roc_auc_score: 0.6866274496993864 | time: 92.612\n",
      "trees: 30 | mean_roc_auc_score: 0.6895295783966826 | time: 109.754\n",
      "trees: 35 | mean_roc_auc_score: 0.6920685863936097 | time: 128.278\n",
      "trees: 40 | mean_roc_auc_score: 0.6938005186903434 | time: 146.448\n",
      "trees: 50 | mean_roc_auc_score: 0.6974171194754433 | time: 182.494\n",
      "trees: 60 | mean_roc_auc_score: 0.7002089463603418 | time: 223.538\n",
      "trees: 70 | mean_roc_auc_score: 0.7021512888711224 | time: 254.654\n",
      "trees: 80 | mean_roc_auc_score: 0.7041065424969771 | time: 293.743\n",
      "trees: 90 | mean_roc_auc_score: 0.7054542822188086 | time: 339.324\n"
     ]
    }
   ],
   "source": [
    "boosting_fit_data = {}\n",
    "boosting_fit_data['time'] = []\n",
    "for n_estim in boosting_params['n_estimators']:\n",
    "    fit_scores = []\n",
    "    start_time = time.time()\n",
    "    clf = GradientBoostingClassifier(n_estimators=n_estim, random_state=RANDOM_STATE)\n",
    "    for train_index, test_index in kf.split(train):\n",
    "        X_train, X_test = train.iloc[train_index, :], train.iloc[test_index, :]\n",
    "        y_train, y_test = y[train_index], y[test_index]\n",
    "        clf.fit(X_train, y_train)\n",
    "        pred = clf.predict_proba(X_test)[:, 1]\n",
    "        score = roc_auc_score(y_test, pred)\n",
    "        fit_scores.append(score)\n",
    "    end_time = time.time()\n",
    "    boosting_fit_data[n_estim] = fit_scores\n",
    "    boosting_fit_data['time'].append(end_time - start_time)\n",
    "    print(f'trees: {n_estim} | mean_roc_auc_score: {np.mean(fit_scores)} | time: {round(end_time - start_time, 3)}')"
   ]
  },
  {
   "cell_type": "code",
   "execution_count": null,
   "id": "4b0ce25f",
   "metadata": {},
   "outputs": [],
   "source": []
  },
  {
   "cell_type": "markdown",
   "id": "2efd4cd8",
   "metadata": {},
   "source": [
    "### Fit Logistric Regression"
   ]
  },
  {
   "cell_type": "code",
   "execution_count": 225,
   "id": "eab121eb",
   "metadata": {},
   "outputs": [],
   "source": [
    "log_params = {\n",
    "    'Cs': [0.0001, 0.001, 0.01, 0.1, 1, 2, 5, 10, 30, 50, 100, 200, 500, 1000]\n",
    "}"
   ]
  },
  {
   "cell_type": "markdown",
   "id": "2f26ad5e",
   "metadata": {},
   "source": [
    "### scaling data"
   ]
  },
  {
   "cell_type": "code",
   "execution_count": 226,
   "id": "04eecc2e",
   "metadata": {},
   "outputs": [],
   "source": [
    "scaler = StandardScaler()\n",
    "train_scaled = scaler.fit_transform(train)\n",
    "test_scaled = scaler.transform(test)"
   ]
  },
  {
   "cell_type": "code",
   "execution_count": 227,
   "id": "cfc0b809",
   "metadata": {},
   "outputs": [
    {
     "name": "stdout",
     "output_type": "stream",
     "text": [
      "C: 0.0001 | mean_roc_auc_score: 0.7113606690065316 | time: 16.232\n",
      "C: 0.001 | mean_roc_auc_score: 0.7162901774647967 | time: 29.053\n",
      "C: 0.01 | mean_roc_auc_score: 0.7164185447842384 | time: 35.951\n",
      "C: 0.1 | mean_roc_auc_score: 0.7163824105910583 | time: 41.035\n",
      "C: 1 | mean_roc_auc_score: 0.7163792459888677 | time: 41.895\n",
      "C: 2 | mean_roc_auc_score: 0.7163790320707273 | time: 41.698\n",
      "C: 5 | mean_roc_auc_score: 0.7163790087464191 | time: 41.447\n",
      "C: 10 | mean_roc_auc_score: 0.7163790130191336 | time: 41.936\n",
      "C: 30 | mean_roc_auc_score: 0.7163788245043919 | time: 41.814\n",
      "C: 50 | mean_roc_auc_score: 0.7163788689915342 | time: 40.697\n",
      "C: 100 | mean_roc_auc_score: 0.7163788859360718 | time: 42.073\n",
      "C: 200 | mean_roc_auc_score: 0.7163788817041061 | time: 41.172\n",
      "C: 500 | mean_roc_auc_score: 0.716378907124932 | time: 41.135\n",
      "C: 1000 | mean_roc_auc_score: 0.7163789092388712 | time: 40.552\n"
     ]
    }
   ],
   "source": [
    "log_reg_fit_data = {}\n",
    "log_reg_fit_data['time'] = []\n",
    "for c in log_params['Cs']:\n",
    "    fit_scores = []\n",
    "    start_time = time.time()\n",
    "    clf = LogisticRegression(C=c, n_jobs=-1, random_state=RANDOM_STATE)\n",
    "    for train_index, test_index in kf.split(train):\n",
    "        X_train, X_test = train_scaled[train_index, :], train_scaled[test_index, :]\n",
    "        y_train, y_test = y[train_index], y[test_index]\n",
    "        clf.fit(X_train, y_train)\n",
    "        pred = clf.predict_proba(X_test)[:, 1]\n",
    "        score = roc_auc_score(y_test, pred)\n",
    "        fit_scores.append(score)\n",
    "    end_time = time.time()\n",
    "    log_reg_fit_data[c] = fit_scores\n",
    "    log_reg_fit_data['time'].append(end_time - start_time)\n",
    "    print(f'C: {c} | mean_roc_auc_score: {np.mean(fit_scores)} | time: {round(end_time - start_time, 3)}')"
   ]
  },
  {
   "cell_type": "code",
   "execution_count": null,
   "id": "983dd865",
   "metadata": {},
   "outputs": [],
   "source": []
  },
  {
   "cell_type": "code",
   "execution_count": null,
   "id": "bd0aed0e",
   "metadata": {},
   "outputs": [],
   "source": []
  },
  {
   "cell_type": "markdown",
   "id": "507d6d8f",
   "metadata": {},
   "source": [
    "### dropping categorical features"
   ]
  },
  {
   "cell_type": "code",
   "execution_count": 486,
   "id": "d890d650",
   "metadata": {},
   "outputs": [
    {
     "data": {
      "text/plain": [
       "[]"
      ]
     },
     "execution_count": 486,
     "metadata": {},
     "output_type": "execute_result"
    }
   ],
   "source": [
    "[i for i in train.columns if train[i].dtypes not in  ['int', 'float64']]"
   ]
  },
  {
   "cell_type": "code",
   "execution_count": 487,
   "id": "d7093f75",
   "metadata": {},
   "outputs": [
    {
     "data": {
      "text/plain": [
       "\"['match_id', 'start_time', 'lobby_type', 'r1_hero', 'r1_level', 'r1_xp', 'r1_gold', 'r1_lh', 'r1_kills', 'r1_deaths', 'r1_items', 'r2_hero', 'r2_level', 'r2_xp', 'r2_gold', 'r2_lh', 'r2_kills', 'r2_deaths', 'r2_items', 'r3_hero', 'r3_level', 'r3_xp', 'r3_gold', 'r3_lh', 'r3_kills', 'r3_deaths', 'r3_items', 'r4_hero', 'r4_level', 'r4_xp', 'r4_gold', 'r4_lh', 'r4_kills', 'r4_deaths', 'r4_items', 'r5_hero', 'r5_level', 'r5_xp', 'r5_gold', 'r5_lh', 'r5_kills', 'r5_deaths', 'r5_items', 'd1_hero', 'd1_level', 'd1_xp', 'd1_gold', 'd1_lh', 'd1_kills', 'd1_deaths', 'd1_items', 'd2_hero', 'd2_level', 'd2_xp', 'd2_gold', 'd2_lh', 'd2_kills', 'd2_deaths', 'd2_items', 'd3_hero', 'd3_level', 'd3_xp', 'd3_gold', 'd3_lh', 'd3_kills', 'd3_deaths', 'd3_items', 'd4_hero', 'd4_level', 'd4_xp', 'd4_gold', 'd4_lh', 'd4_kills', 'd4_deaths', 'd4_items', 'd5_hero', 'd5_level', 'd5_xp', 'd5_gold', 'd5_lh', 'd5_kills', 'd5_deaths', 'd5_items', 'first_blood_time', 'first_blood_team', 'first_blood_player1', 'first_blood_player2', 'radiant_bottle_time', 'radiant_courier_time', 'radiant_flying_courier_time', 'radiant_tpscroll_count', 'radiant_boots_count', 'radiant_ward_observer_count', 'radiant_ward_sentry_count', 'radiant_first_ward_time', 'dire_bottle_time', 'dire_courier_time', 'dire_flying_courier_time', 'dire_tpscroll_count', 'dire_boots_count', 'dire_ward_observer_count', 'dire_ward_sentry_count', 'dire_first_ward_time']\""
      ]
     },
     "execution_count": 487,
     "metadata": {},
     "output_type": "execute_result"
    }
   ],
   "source": [
    "str(list(train.columns))"
   ]
  },
  {
   "cell_type": "code",
   "execution_count": 488,
   "id": "1ab3743e",
   "metadata": {},
   "outputs": [],
   "source": [
    "r_heros_feat = [f'r{i}_hero' for i in range(1, 6)]\n",
    "d_heros_feat = [f'd{i}_hero' for i in range(1, 6)]"
   ]
  },
  {
   "cell_type": "code",
   "execution_count": 471,
   "id": "adec657b",
   "metadata": {},
   "outputs": [],
   "source": [
    "train = train_saved_2.copy()\n",
    "test = test_saved_2.copy()"
   ]
  },
  {
   "cell_type": "code",
   "execution_count": 489,
   "id": "ee388e1b",
   "metadata": {},
   "outputs": [],
   "source": [
    "not_numeric_features = ['match_id', 'start_time'] + r_heros_feat + d_heros_feat"
   ]
  },
  {
   "cell_type": "code",
   "execution_count": 490,
   "id": "9f404879",
   "metadata": {},
   "outputs": [],
   "source": [
    "train_saved_2 = train.copy()\n",
    "test_saved_2 = test.copy()"
   ]
  },
  {
   "cell_type": "code",
   "execution_count": 491,
   "id": "7216354c",
   "metadata": {},
   "outputs": [],
   "source": [
    "train = train.drop(not_numeric_features, axis=1)\n",
    "test = test.drop(not_numeric_features, axis=1)"
   ]
  },
  {
   "cell_type": "code",
   "execution_count": 492,
   "id": "cdd53b33",
   "metadata": {},
   "outputs": [
    {
     "name": "stdout",
     "output_type": "stream",
     "text": [
      "(97230, 91)\n",
      "(17177, 91)\n"
     ]
    }
   ],
   "source": [
    "print(train.shape)\n",
    "print(test.shape)"
   ]
  },
  {
   "cell_type": "markdown",
   "id": "9ac5e26d",
   "metadata": {},
   "source": [
    "### fit log reg with dropped cat features"
   ]
  },
  {
   "cell_type": "code",
   "execution_count": 291,
   "id": "a4466850",
   "metadata": {},
   "outputs": [],
   "source": [
    "log_params_2 = {\n",
    "    'Cs': [0.0001, 0.001, 0.01, 0.1, 1, 2, 5, 10, 30, 50, 100, 200, 500, 1000]\n",
    "}"
   ]
  },
  {
   "cell_type": "code",
   "execution_count": 292,
   "id": "482b56d2",
   "metadata": {},
   "outputs": [],
   "source": [
    "scaler = StandardScaler()\n",
    "train_scaled = scaler.fit_transform(train)\n",
    "test_scaled = scaler.transform(test)"
   ]
  },
  {
   "cell_type": "code",
   "execution_count": 293,
   "id": "8c7ffd1e",
   "metadata": {},
   "outputs": [
    {
     "name": "stdout",
     "output_type": "stream",
     "text": [
      "C: 0.0001 | mean_roc_auc_score: 0.711161465800447 | time: 18.679\n",
      "C: 0.001 | mean_roc_auc_score: 0.7161227205540363 | time: 24.466\n",
      "C: 0.01 | mean_roc_auc_score: 0.7162634407607051 | time: 32.752\n",
      "C: 0.1 | mean_roc_auc_score: 0.7162319239914208 | time: 36.03\n",
      "C: 1 | mean_roc_auc_score: 0.7162269397842534 | time: 37.179\n",
      "C: 2 | mean_roc_auc_score: 0.7162263890671741 | time: 34.196\n",
      "C: 5 | mean_roc_auc_score: 0.7162263721266499 | time: 35.776\n",
      "C: 10 | mean_roc_auc_score: 0.7162259420351422 | time: 35.284\n",
      "C: 30 | mean_roc_auc_score: 0.7162259059766065 | time: 36.079\n",
      "C: 50 | mean_roc_auc_score: 0.7162257851941554 | time: 35.081\n",
      "C: 100 | mean_roc_auc_score: 0.7162255372228701 | time: 33.442\n",
      "C: 200 | mean_roc_auc_score: 0.7162255689752589 | time: 34.806\n",
      "C: 500 | mean_roc_auc_score: 0.716225577468439 | time: 35.667\n",
      "C: 1000 | mean_roc_auc_score: 0.7162256007773308 | time: 36.101\n"
     ]
    }
   ],
   "source": [
    "log_reg_fit_data_2 = {}\n",
    "log_reg_fit_data_2['time'] = []\n",
    "for c in log_params_2['Cs']:\n",
    "    fit_scores = []\n",
    "    start_time = time.time()\n",
    "    clf = LogisticRegression(C=c, n_jobs=-1, random_state=RANDOM_STATE)\n",
    "    for train_index, test_index in kf.split(train):\n",
    "        X_train, X_test = train_scaled[train_index, :], train_scaled[test_index, :]\n",
    "        y_train, y_test = y[train_index], y[test_index]\n",
    "        clf.fit(X_train, y_train)\n",
    "        pred = clf.predict_proba(X_test)[:, 1]\n",
    "        score = roc_auc_score(y_test, pred)\n",
    "        fit_scores.append(score)\n",
    "    end_time = time.time()\n",
    "    log_reg_fit_data_2[c] = fit_scores\n",
    "    log_reg_fit_data_2['time'].append(end_time - start_time)\n",
    "    print(f'C: {c} | mean_roc_auc_score: {np.mean(fit_scores)} | time: {round(end_time - start_time, 3)}')"
   ]
  },
  {
   "cell_type": "markdown",
   "id": "b33f7ac0",
   "metadata": {},
   "source": [
    "#### see best coefficients"
   ]
  },
  {
   "cell_type": "code",
   "execution_count": null,
   "id": "5644ab85",
   "metadata": {},
   "outputs": [],
   "source": []
  },
  {
   "cell_type": "code",
   "execution_count": 306,
   "id": "96fba467",
   "metadata": {},
   "outputs": [
    {
     "data": {
      "text/html": [
       "<div>\n",
       "<style scoped>\n",
       "    .dataframe tbody tr th:only-of-type {\n",
       "        vertical-align: middle;\n",
       "    }\n",
       "\n",
       "    .dataframe tbody tr th {\n",
       "        vertical-align: top;\n",
       "    }\n",
       "\n",
       "    .dataframe thead th {\n",
       "        text-align: right;\n",
       "    }\n",
       "</style>\n",
       "<table border=\"1\" class=\"dataframe\">\n",
       "  <thead>\n",
       "    <tr style=\"text-align: right;\">\n",
       "      <th></th>\n",
       "      <th>coefs</th>\n",
       "    </tr>\n",
       "  </thead>\n",
       "  <tbody>\n",
       "    <tr>\n",
       "      <th>r2_gold</th>\n",
       "      <td>0.236646</td>\n",
       "    </tr>\n",
       "    <tr>\n",
       "      <th>d2_gold</th>\n",
       "      <td>0.233368</td>\n",
       "    </tr>\n",
       "    <tr>\n",
       "      <th>d1_gold</th>\n",
       "      <td>0.233345</td>\n",
       "    </tr>\n",
       "    <tr>\n",
       "      <th>r1_gold</th>\n",
       "      <td>0.220232</td>\n",
       "    </tr>\n",
       "    <tr>\n",
       "      <th>d4_gold</th>\n",
       "      <td>0.218176</td>\n",
       "    </tr>\n",
       "    <tr>\n",
       "      <th>...</th>\n",
       "      <td>...</td>\n",
       "    </tr>\n",
       "    <tr>\n",
       "      <th>r1_kills</th>\n",
       "      <td>0.000879</td>\n",
       "    </tr>\n",
       "    <tr>\n",
       "      <th>first_blood_time</th>\n",
       "      <td>0.000768</td>\n",
       "    </tr>\n",
       "    <tr>\n",
       "      <th>r1_deaths</th>\n",
       "      <td>0.000597</td>\n",
       "    </tr>\n",
       "    <tr>\n",
       "      <th>d4_deaths</th>\n",
       "      <td>0.000088</td>\n",
       "    </tr>\n",
       "    <tr>\n",
       "      <th>r4_kills</th>\n",
       "      <td>0.000001</td>\n",
       "    </tr>\n",
       "  </tbody>\n",
       "</table>\n",
       "<p>91 rows × 1 columns</p>\n",
       "</div>"
      ],
      "text/plain": [
       "                     coefs\n",
       "r2_gold           0.236646\n",
       "d2_gold           0.233368\n",
       "d1_gold           0.233345\n",
       "r1_gold           0.220232\n",
       "d4_gold           0.218176\n",
       "...                    ...\n",
       "r1_kills          0.000879\n",
       "first_blood_time  0.000768\n",
       "r1_deaths         0.000597\n",
       "d4_deaths         0.000088\n",
       "r4_kills          0.000001\n",
       "\n",
       "[91 rows x 1 columns]"
      ]
     },
     "execution_count": 306,
     "metadata": {},
     "output_type": "execute_result"
    }
   ],
   "source": [
    "pd.DataFrame(abs(clf.coef_.T), train.columns, columns=['coefs']).sort_values(by='coefs', ascending=False)"
   ]
  },
  {
   "cell_type": "code",
   "execution_count": 493,
   "id": "b55fa6a8",
   "metadata": {},
   "outputs": [],
   "source": [
    "train = train_saved_2.copy()\n",
    "test = test_saved_2.copy()"
   ]
  },
  {
   "cell_type": "markdown",
   "id": "3bf28648",
   "metadata": {},
   "source": [
    "### check unique heros"
   ]
  },
  {
   "cell_type": "code",
   "execution_count": 494,
   "id": "9d732c60",
   "metadata": {},
   "outputs": [],
   "source": [
    "train_backup = train.copy()\n",
    "test_backup = test.copy()"
   ]
  },
  {
   "cell_type": "code",
   "execution_count": 556,
   "id": "72ed83e5",
   "metadata": {},
   "outputs": [],
   "source": [
    "train = train_saved_2\n",
    "test = test_saved_2"
   ]
  },
  {
   "cell_type": "markdown",
   "id": "6144aa96",
   "metadata": {},
   "source": [
    "##### heros not played in all matches"
   ]
  },
  {
   "cell_type": "code",
   "execution_count": 495,
   "id": "05ad1fe5",
   "metadata": {},
   "outputs": [
    {
     "name": "stdout",
     "output_type": "stream",
     "text": [
      "24\n",
      "107\n",
      "108\n",
      "111\n",
      "113\n"
     ]
    }
   ],
   "source": [
    "unique_heros = []\n",
    "for i in range(1, 6):\n",
    "    unique_heros = set(list(unique_heros) + list(train[f'r{i}_hero'].unique()) + list(train[f'd{i}_hero'].unique()))\n",
    "    \n",
    "for i in range(1, 114):\n",
    "    if i not in unique_heros:\n",
    "        print(i)"
   ]
  },
  {
   "cell_type": "code",
   "execution_count": 643,
   "id": "29e167cc",
   "metadata": {},
   "outputs": [
    {
     "name": "stdout",
     "output_type": "stream",
     "text": [
      "108 - number of unique heros in train games\n"
     ]
    }
   ],
   "source": [
    "n_unique_heros = len(unique_heros)\n",
    "print(f'{n_unique_heros} - number of unique heros in train games')"
   ]
  },
  {
   "cell_type": "markdown",
   "id": "9db8b841",
   "metadata": {},
   "source": [
    "### Add bag of workds of heros"
   ]
  },
  {
   "cell_type": "code",
   "execution_count": 496,
   "id": "cbcfb437",
   "metadata": {},
   "outputs": [],
   "source": [
    "def get_back_of_heros(df):\n",
    "    X_pick = {}\n",
    "    for id in unique_heros:\n",
    "        radians = [(df[f'r{i}_hero'] == id) + 0 for i in range(1, 6)]\n",
    "        dires = [(df[f'd{i}_hero'] == id) + 0 for i in range(1, 6)]\n",
    "        X_pick[f'hero_{id}'] = sum(radians) - sum(dires)\n",
    "    X_pick = pd.DataFrame(X_pick)\n",
    "    return X_pick"
   ]
  },
  {
   "cell_type": "code",
   "execution_count": 557,
   "id": "3ffee1de",
   "metadata": {},
   "outputs": [],
   "source": [
    "train_bag_heros = get_back_of_heros(train)\n",
    "test_bag_heros = get_back_of_heros(test)"
   ]
  },
  {
   "cell_type": "code",
   "execution_count": 558,
   "id": "2c6b273e",
   "metadata": {},
   "outputs": [],
   "source": [
    "train = train_backup.copy()\n",
    "test = test_backup.copy()"
   ]
  },
  {
   "cell_type": "code",
   "execution_count": 559,
   "id": "29cf8860",
   "metadata": {},
   "outputs": [],
   "source": [
    "train = pd.concat([train, train_bag_heros], axis=1)\n",
    "test = pd.concat([test, test_bag_heros], axis=1)"
   ]
  },
  {
   "cell_type": "code",
   "execution_count": 560,
   "id": "c7507aea",
   "metadata": {},
   "outputs": [
    {
     "name": "stdout",
     "output_type": "stream",
     "text": [
      "(97230, 211)\n",
      "(17177, 211)\n"
     ]
    }
   ],
   "source": [
    "print(train.shape)\n",
    "print(test.shape)"
   ]
  },
  {
   "cell_type": "markdown",
   "id": "a0e30ce7",
   "metadata": {},
   "source": [
    "### Fit Logistric Regression with new features"
   ]
  },
  {
   "cell_type": "code",
   "execution_count": 514,
   "id": "c3049ebe",
   "metadata": {},
   "outputs": [
    {
     "name": "stdout",
     "output_type": "stream",
     "text": [
      "C: 0.0001 | mean_roc_auc_score: 0.7425823346781367 | time: 37.142\n",
      "C: 0.001 | mean_roc_auc_score: 0.751340084364829 | time: 65.72\n",
      "C: 0.01 | mean_roc_auc_score: 0.7516258861499664 | time: 98.047\n",
      "C: 0.1 | mean_roc_auc_score: 0.7515842137333841 | time: 106.912\n",
      "C: 1 | mean_roc_auc_score: 0.7515788597168631 | time: 105.651\n",
      "C: 2 | mean_roc_auc_score: 0.751578406287255 | time: 103.205\n",
      "C: 5 | mean_roc_auc_score: 0.7515778683076813 | time: 102.77\n",
      "C: 10 | mean_roc_auc_score: 0.7515773599573792 | time: 101.681\n",
      "C: 30 | mean_roc_auc_score: 0.7515781077634773 | time: 105.234\n",
      "C: 50 | mean_roc_auc_score: 0.7515781798073353 | time: 102.992\n",
      "C: 100 | mean_roc_auc_score: 0.7515781586039031 | time: 103.116\n",
      "C: 200 | mean_roc_auc_score: 0.751578131045924 | time: 101.722\n",
      "C: 500 | mean_roc_auc_score: 0.7515781289275851 | time: 104.024\n",
      "C: 1000 | mean_roc_auc_score: 0.7515781670647861 | time: 104.13\n",
      "C: 5000 | mean_roc_auc_score: 0.7515782285063262 | time: 102.672\n",
      "C: 10000 | mean_roc_auc_score: 0.7515782285072597 | time: 103.705\n",
      "C: 50000 | mean_roc_auc_score: 0.7515782306251768 | time: 104.32\n",
      "C: 100000 | mean_roc_auc_score: 0.7515782263880484 | time: 102.996\n",
      "C: 1000000.0 | mean_roc_auc_score: 0.7515782263880484 | time: 103.689\n"
     ]
    }
   ],
   "source": [
    "log_params = {\n",
    "    'Cs': [0.0001, 0.001, 0.01, 0.1, 1, 2, 5, 10, 30, 50, 100, 200, 500, 1000, 5000, 10000, 50000, 100000, 1e6]\n",
    "}\n",
    "\n",
    "scaler = StandardScaler()\n",
    "train_scaled = scaler.fit_transform(train)\n",
    "test_scaled = scaler.transform(test)\n",
    "\n",
    "\n",
    "log_reg_fit_data_3 = {}\n",
    "log_reg_fit_data_3['time'] = []\n",
    "for c in log_params['Cs']:\n",
    "    fit_scores = []\n",
    "    start_time = time.time()\n",
    "    clf = LogisticRegression(C=c, n_jobs=-1, random_state=RANDOM_STATE)\n",
    "    for train_index, test_index in kf.split(train):\n",
    "        X_train, X_test = train_scaled[train_index, :], train_scaled[test_index, :]\n",
    "        y_train, y_test = y[train_index], y[test_index]\n",
    "        clf.fit(X_train, y_train)\n",
    "        pred = clf.predict_proba(X_test)[:, 1]\n",
    "        score = roc_auc_score(y_test, pred)\n",
    "        fit_scores.append(score)\n",
    "    end_time = time.time()\n",
    "    log_reg_fit_data_3[c] = fit_scores\n",
    "    log_reg_fit_data_3['time'].append(end_time - start_time)\n",
    "    print(f'C: {c} | mean_roc_auc_score: {np.mean(fit_scores)} | time: {round(end_time - start_time, 3)}')"
   ]
  },
  {
   "cell_type": "markdown",
   "id": "3f738a4e",
   "metadata": {},
   "source": [
    "### find best fit params"
   ]
  },
  {
   "cell_type": "code",
   "execution_count": 533,
   "id": "47b0fee7",
   "metadata": {},
   "outputs": [
    {
     "name": "stdout",
     "output_type": "stream",
     "text": [
      "max_score: 0.7516258861499664 | c: 0.01\n"
     ]
    }
   ],
   "source": [
    "max_score = 0\n",
    "max_c = 0\n",
    "for c in log_params['Cs']:\n",
    "    mean_value = np.mean(log_reg_fit_data_3[c])\n",
    "    if mean_value > max_score:\n",
    "        max_score = mean_value\n",
    "        max_c = c\n",
    "    \n",
    "print(f'max_score: {max_score} | c: {max_c}')"
   ]
  },
  {
   "cell_type": "markdown",
   "id": "d6b101e7",
   "metadata": {},
   "source": [
    "### Make predictions on train test split"
   ]
  },
  {
   "cell_type": "code",
   "execution_count": 561,
   "id": "6e7b623d",
   "metadata": {},
   "outputs": [
    {
     "name": "stdout",
     "output_type": "stream",
     "text": [
      "(97230, 211)\n",
      "(17177, 211)\n"
     ]
    }
   ],
   "source": [
    "print(train.shape)\n",
    "print(test.shape)"
   ]
  },
  {
   "cell_type": "code",
   "execution_count": 562,
   "id": "43b99c9d",
   "metadata": {},
   "outputs": [],
   "source": [
    "train_ready = train.copy()\n",
    "test_ready = test.copy()"
   ]
  },
  {
   "cell_type": "code",
   "execution_count": 563,
   "id": "cad1cd01",
   "metadata": {},
   "outputs": [],
   "source": [
    "train = train.drop(['match_id', 'start_time'], axis=1)\n",
    "test = test.drop(['match_id', 'start_time'], axis=1)"
   ]
  },
  {
   "cell_type": "code",
   "execution_count": 564,
   "id": "f5f4fe07",
   "metadata": {},
   "outputs": [],
   "source": [
    "scaler = StandardScaler()\n",
    "train_scaled = scaler.fit_transform(train)\n",
    "test_scaled = scaler.transform(test)"
   ]
  },
  {
   "cell_type": "code",
   "execution_count": 565,
   "id": "80267ff9",
   "metadata": {},
   "outputs": [
    {
     "data": {
      "text/plain": [
       "0.7536818163296071"
      ]
     },
     "execution_count": 565,
     "metadata": {},
     "output_type": "execute_result"
    }
   ],
   "source": [
    "X_train, X_val, y_train, y_val = train_test_split(train_scaled, y, test_size=0.3, random_state=RANDOM_STATE)\n",
    "best_model = LogisticRegression(C=0.01, random_state=RANDOM_STATE, n_jobs=-1)\n",
    "best_model.fit(X_train, y_train)\n",
    "pred = best_model.predict_proba(X_train)[:, 1]\n",
    "score = roc_auc_score(y_train, pred)\n",
    "score"
   ]
  },
  {
   "cell_type": "markdown",
   "id": "1a21cb7f",
   "metadata": {},
   "source": [
    "### Fit best model on all train data"
   ]
  },
  {
   "cell_type": "code",
   "execution_count": 568,
   "id": "baffea67",
   "metadata": {},
   "outputs": [
    {
     "data": {
      "text/plain": [
       "LogisticRegression(C=0.01, n_jobs=-1, random_state=19)"
      ]
     },
     "execution_count": 568,
     "metadata": {},
     "output_type": "execute_result"
    }
   ],
   "source": [
    "best_model = LogisticRegression(C=0.01, random_state=RANDOM_STATE, n_jobs=-1)\n",
    "best_model.fit(train_scaled, y)"
   ]
  },
  {
   "cell_type": "markdown",
   "id": "bcab3ba2",
   "metadata": {},
   "source": [
    "### Make predictions on test data"
   ]
  },
  {
   "cell_type": "code",
   "execution_count": 569,
   "id": "35d6bd8d",
   "metadata": {},
   "outputs": [
    {
     "data": {
      "text/plain": [
       "array([0.83471649, 0.7740997 , 0.20741367, ..., 0.23070545, 0.62068732,\n",
       "       0.42061198])"
      ]
     },
     "execution_count": 569,
     "metadata": {},
     "output_type": "execute_result"
    }
   ],
   "source": [
    "pred = best_model.predict_proba(test_scaled)[:, 1]\n",
    "pred"
   ]
  },
  {
   "cell_type": "markdown",
   "id": "114b3451",
   "metadata": {},
   "source": [
    "### Prepare predictions for kaggle"
   ]
  },
  {
   "cell_type": "code",
   "execution_count": 580,
   "id": "a187eb1f",
   "metadata": {},
   "outputs": [
    {
     "data": {
      "text/html": [
       "<div>\n",
       "<style scoped>\n",
       "    .dataframe tbody tr th:only-of-type {\n",
       "        vertical-align: middle;\n",
       "    }\n",
       "\n",
       "    .dataframe tbody tr th {\n",
       "        vertical-align: top;\n",
       "    }\n",
       "\n",
       "    .dataframe thead th {\n",
       "        text-align: right;\n",
       "    }\n",
       "</style>\n",
       "<table border=\"1\" class=\"dataframe\">\n",
       "  <thead>\n",
       "    <tr style=\"text-align: right;\">\n",
       "      <th></th>\n",
       "      <th>radiant_win</th>\n",
       "    </tr>\n",
       "    <tr>\n",
       "      <th>match_id</th>\n",
       "      <th></th>\n",
       "    </tr>\n",
       "  </thead>\n",
       "  <tbody>\n",
       "    <tr>\n",
       "      <th>6</th>\n",
       "      <td>0.834716</td>\n",
       "    </tr>\n",
       "    <tr>\n",
       "      <th>7</th>\n",
       "      <td>0.774100</td>\n",
       "    </tr>\n",
       "    <tr>\n",
       "      <th>10</th>\n",
       "      <td>0.207414</td>\n",
       "    </tr>\n",
       "    <tr>\n",
       "      <th>13</th>\n",
       "      <td>0.863928</td>\n",
       "    </tr>\n",
       "    <tr>\n",
       "      <th>16</th>\n",
       "      <td>0.259246</td>\n",
       "    </tr>\n",
       "  </tbody>\n",
       "</table>\n",
       "</div>"
      ],
      "text/plain": [
       "          radiant_win\n",
       "match_id             \n",
       "6            0.834716\n",
       "7            0.774100\n",
       "10           0.207414\n",
       "13           0.863928\n",
       "16           0.259246"
      ]
     },
     "execution_count": 580,
     "metadata": {},
     "output_type": "execute_result"
    }
   ],
   "source": [
    "predictions = pd.DataFrame(pred, test_ready.match_id, columns=['radiant_win'])\n",
    "predictions.to_csv('log_reg_pred.csv')\n",
    "predictions.head()"
   ]
  },
  {
   "cell_type": "code",
   "execution_count": null,
   "id": "12f4ca74",
   "metadata": {},
   "outputs": [],
   "source": []
  },
  {
   "cell_type": "markdown",
   "id": "4b611682",
   "metadata": {},
   "source": [
    "### Try some more staff"
   ]
  },
  {
   "cell_type": "code",
   "execution_count": 584,
   "id": "258ef604",
   "metadata": {},
   "outputs": [],
   "source": [
    "train_stored_last = train.copy()\n",
    "test_stored_last = test.copy()"
   ]
  },
  {
   "cell_type": "code",
   "execution_count": 586,
   "id": "3d4d3726",
   "metadata": {},
   "outputs": [],
   "source": [
    "train = train.drop(r_heros_feat + d_heros_feat, axis=1)\n",
    "test = test.drop(r_heros_feat + d_heros_feat, axis=1)"
   ]
  },
  {
   "cell_type": "code",
   "execution_count": 591,
   "id": "e4f9b8c7",
   "metadata": {},
   "outputs": [
    {
     "name": "stdout",
     "output_type": "stream",
     "text": [
      "1    55962\n",
      "7    28550\n",
      "0    12718\n",
      "Name: lobby_type, dtype: int64\n",
      "1    9857\n",
      "7    5029\n",
      "0    2291\n",
      "Name: lobby_type, dtype: int64\n"
     ]
    }
   ],
   "source": [
    "print(train.lobby_type.value_counts())\n",
    "print(test.lobby_type.value_counts())"
   ]
  },
  {
   "cell_type": "code",
   "execution_count": 592,
   "id": "1207987a",
   "metadata": {},
   "outputs": [
    {
     "data": {
      "text/html": [
       "<div>\n",
       "<style scoped>\n",
       "    .dataframe tbody tr th:only-of-type {\n",
       "        vertical-align: middle;\n",
       "    }\n",
       "\n",
       "    .dataframe tbody tr th {\n",
       "        vertical-align: top;\n",
       "    }\n",
       "\n",
       "    .dataframe thead th {\n",
       "        text-align: right;\n",
       "    }\n",
       "</style>\n",
       "<table border=\"1\" class=\"dataframe\">\n",
       "  <thead>\n",
       "    <tr style=\"text-align: right;\">\n",
       "      <th></th>\n",
       "      <th>lobby_type</th>\n",
       "      <th>r1_level</th>\n",
       "      <th>r1_xp</th>\n",
       "      <th>r1_gold</th>\n",
       "      <th>r1_lh</th>\n",
       "      <th>r1_kills</th>\n",
       "      <th>r1_deaths</th>\n",
       "      <th>r1_items</th>\n",
       "      <th>r2_level</th>\n",
       "      <th>r2_xp</th>\n",
       "      <th>...</th>\n",
       "      <th>hero_100</th>\n",
       "      <th>hero_101</th>\n",
       "      <th>hero_102</th>\n",
       "      <th>hero_103</th>\n",
       "      <th>hero_104</th>\n",
       "      <th>hero_105</th>\n",
       "      <th>hero_106</th>\n",
       "      <th>hero_109</th>\n",
       "      <th>hero_110</th>\n",
       "      <th>hero_112</th>\n",
       "    </tr>\n",
       "  </thead>\n",
       "  <tbody>\n",
       "    <tr>\n",
       "      <th>0</th>\n",
       "      <td>7</td>\n",
       "      <td>5</td>\n",
       "      <td>2098</td>\n",
       "      <td>1489</td>\n",
       "      <td>20</td>\n",
       "      <td>0</td>\n",
       "      <td>0</td>\n",
       "      <td>7</td>\n",
       "      <td>3</td>\n",
       "      <td>842</td>\n",
       "      <td>...</td>\n",
       "      <td>0</td>\n",
       "      <td>0</td>\n",
       "      <td>0</td>\n",
       "      <td>0</td>\n",
       "      <td>0</td>\n",
       "      <td>1</td>\n",
       "      <td>0</td>\n",
       "      <td>0</td>\n",
       "      <td>0</td>\n",
       "      <td>0</td>\n",
       "    </tr>\n",
       "    <tr>\n",
       "      <th>1</th>\n",
       "      <td>0</td>\n",
       "      <td>4</td>\n",
       "      <td>1188</td>\n",
       "      <td>1033</td>\n",
       "      <td>9</td>\n",
       "      <td>0</td>\n",
       "      <td>1</td>\n",
       "      <td>12</td>\n",
       "      <td>4</td>\n",
       "      <td>1596</td>\n",
       "      <td>...</td>\n",
       "      <td>0</td>\n",
       "      <td>0</td>\n",
       "      <td>0</td>\n",
       "      <td>0</td>\n",
       "      <td>0</td>\n",
       "      <td>0</td>\n",
       "      <td>0</td>\n",
       "      <td>0</td>\n",
       "      <td>0</td>\n",
       "      <td>0</td>\n",
       "    </tr>\n",
       "    <tr>\n",
       "      <th>2</th>\n",
       "      <td>7</td>\n",
       "      <td>4</td>\n",
       "      <td>1319</td>\n",
       "      <td>1270</td>\n",
       "      <td>22</td>\n",
       "      <td>0</td>\n",
       "      <td>0</td>\n",
       "      <td>12</td>\n",
       "      <td>3</td>\n",
       "      <td>1314</td>\n",
       "      <td>...</td>\n",
       "      <td>0</td>\n",
       "      <td>0</td>\n",
       "      <td>0</td>\n",
       "      <td>0</td>\n",
       "      <td>0</td>\n",
       "      <td>0</td>\n",
       "      <td>0</td>\n",
       "      <td>0</td>\n",
       "      <td>0</td>\n",
       "      <td>0</td>\n",
       "    </tr>\n",
       "    <tr>\n",
       "      <th>3</th>\n",
       "      <td>1</td>\n",
       "      <td>4</td>\n",
       "      <td>1779</td>\n",
       "      <td>1056</td>\n",
       "      <td>14</td>\n",
       "      <td>0</td>\n",
       "      <td>0</td>\n",
       "      <td>5</td>\n",
       "      <td>2</td>\n",
       "      <td>539</td>\n",
       "      <td>...</td>\n",
       "      <td>0</td>\n",
       "      <td>0</td>\n",
       "      <td>-1</td>\n",
       "      <td>0</td>\n",
       "      <td>0</td>\n",
       "      <td>0</td>\n",
       "      <td>0</td>\n",
       "      <td>0</td>\n",
       "      <td>0</td>\n",
       "      <td>0</td>\n",
       "    </tr>\n",
       "    <tr>\n",
       "      <th>4</th>\n",
       "      <td>7</td>\n",
       "      <td>4</td>\n",
       "      <td>1431</td>\n",
       "      <td>1090</td>\n",
       "      <td>8</td>\n",
       "      <td>1</td>\n",
       "      <td>0</td>\n",
       "      <td>8</td>\n",
       "      <td>2</td>\n",
       "      <td>629</td>\n",
       "      <td>...</td>\n",
       "      <td>0</td>\n",
       "      <td>0</td>\n",
       "      <td>0</td>\n",
       "      <td>0</td>\n",
       "      <td>0</td>\n",
       "      <td>0</td>\n",
       "      <td>0</td>\n",
       "      <td>0</td>\n",
       "      <td>0</td>\n",
       "      <td>0</td>\n",
       "    </tr>\n",
       "  </tbody>\n",
       "</table>\n",
       "<p>5 rows × 199 columns</p>\n",
       "</div>"
      ],
      "text/plain": [
       "   lobby_type  r1_level  r1_xp  r1_gold  r1_lh  r1_kills  r1_deaths  r1_items  \\\n",
       "0           7         5   2098     1489     20         0          0         7   \n",
       "1           0         4   1188     1033      9         0          1        12   \n",
       "2           7         4   1319     1270     22         0          0        12   \n",
       "3           1         4   1779     1056     14         0          0         5   \n",
       "4           7         4   1431     1090      8         1          0         8   \n",
       "\n",
       "   r2_level  r2_xp  ...  hero_100  hero_101  hero_102  hero_103  hero_104  \\\n",
       "0         3    842  ...         0         0         0         0         0   \n",
       "1         4   1596  ...         0         0         0         0         0   \n",
       "2         3   1314  ...         0         0         0         0         0   \n",
       "3         2    539  ...         0         0        -1         0         0   \n",
       "4         2    629  ...         0         0         0         0         0   \n",
       "\n",
       "   hero_105  hero_106  hero_109  hero_110  hero_112  \n",
       "0         1         0         0         0         0  \n",
       "1         0         0         0         0         0  \n",
       "2         0         0         0         0         0  \n",
       "3         0         0         0         0         0  \n",
       "4         0         0         0         0         0  \n",
       "\n",
       "[5 rows x 199 columns]"
      ]
     },
     "execution_count": 592,
     "metadata": {},
     "output_type": "execute_result"
    }
   ],
   "source": [
    "train.head()"
   ]
  },
  {
   "cell_type": "code",
   "execution_count": 595,
   "id": "c0922e51",
   "metadata": {},
   "outputs": [],
   "source": [
    "def lobbies_one_hot(df):\n",
    "    df = df.copy()\n",
    "    df = pd.get_dummies(df, columns=['lobby_type'])\n",
    "    return df"
   ]
  },
  {
   "cell_type": "code",
   "execution_count": 596,
   "id": "b85258e9",
   "metadata": {},
   "outputs": [],
   "source": [
    "train = lobbies_one_hot(train)\n",
    "test = lobbies_one_hot(test)"
   ]
  },
  {
   "cell_type": "markdown",
   "id": "5c418a44",
   "metadata": {},
   "source": [
    "### Make agregating features"
   ]
  },
  {
   "cell_type": "code",
   "execution_count": 615,
   "id": "f2a871e5",
   "metadata": {},
   "outputs": [],
   "source": [
    "def make_agregatting_feature(df, team, feature):\n",
    "    df = df.copy()\n",
    "    df[f'{team}_team_total_{feature}'] = df[[f'{team}{i}_{feature}' for i in range(1, 6)]].sum(axis=1)\n",
    "    return df"
   ]
  },
  {
   "cell_type": "code",
   "execution_count": 624,
   "id": "a51ba85b",
   "metadata": {},
   "outputs": [],
   "source": [
    "features_to_aggregate = ['level', 'xp', 'gold', 'lh', 'kills', 'deaths', 'items']"
   ]
  },
  {
   "cell_type": "code",
   "execution_count": 625,
   "id": "9af8e2f2",
   "metadata": {},
   "outputs": [],
   "source": [
    "for feat in features_to_aggregate:\n",
    "    train = make_agregatting_feature(train, 'r', feat)\n",
    "    train = make_agregatting_feature(train, 'd', feat)\n",
    "    test = make_agregatting_feature(train, 'r', feat)\n",
    "    test = make_agregatting_feature(train, 'd', feat)"
   ]
  },
  {
   "cell_type": "code",
   "execution_count": 627,
   "id": "43142db9",
   "metadata": {},
   "outputs": [
    {
     "name": "stdout",
     "output_type": "stream",
     "text": [
      "(97230, 215)\n",
      "(97230, 215)\n"
     ]
    }
   ],
   "source": [
    "print(train.shape)\n",
    "print(test.shape)"
   ]
  },
  {
   "cell_type": "markdown",
   "id": "a56e649a",
   "metadata": {},
   "source": [
    "### fit model with aggregated features"
   ]
  },
  {
   "cell_type": "code",
   "execution_count": 629,
   "id": "31c0a357",
   "metadata": {},
   "outputs": [
    {
     "name": "stdout",
     "output_type": "stream",
     "text": [
      "C: 0.0001 | mean_roc_auc_score: 0.7470184216398439 | time: 41.419\n",
      "C: 0.001 | mean_roc_auc_score: 0.7517332197395146 | time: 63.93\n",
      "C: 0.01 | mean_roc_auc_score: 0.7517217292220842 | time: 83.474\n",
      "C: 0.1 | mean_roc_auc_score: 0.7516842747578159 | time: 91.242\n",
      "C: 1 | mean_roc_auc_score: 0.7516787138904558 | time: 89.192\n"
     ]
    }
   ],
   "source": [
    "log_params = {\n",
    "    'Cs': [0.0001, 0.001, 0.01, 0.1, 1]\n",
    "}\n",
    "\n",
    "scaler = StandardScaler()\n",
    "train_scaled = scaler.fit_transform(train)\n",
    "test_scaled = scaler.transform(test)\n",
    "\n",
    "\n",
    "log_reg_fit_data_agg = {}\n",
    "log_reg_fit_data_agg['time'] = []\n",
    "for c in log_params['Cs']:\n",
    "    fit_scores = []\n",
    "    start_time = time.time()\n",
    "    clf = LogisticRegression(C=c, n_jobs=-1, random_state=RANDOM_STATE)\n",
    "    for train_index, test_index in kf.split(train):\n",
    "        X_train, X_test = train_scaled[train_index, :], train_scaled[test_index, :]\n",
    "        y_train, y_test = y[train_index], y[test_index]\n",
    "        clf.fit(X_train, y_train)\n",
    "        pred = clf.predict_proba(X_test)[:, 1]\n",
    "        score = roc_auc_score(y_test, pred)\n",
    "        fit_scores.append(score)\n",
    "    end_time = time.time()\n",
    "    log_reg_fit_data_agg[c] = fit_scores\n",
    "    log_reg_fit_data_agg['time'].append(end_time - start_time)\n",
    "    print(f'C: {c} | mean_roc_auc_score: {np.mean(fit_scores)} | time: {round(end_time - start_time, 3)}')"
   ]
  },
  {
   "cell_type": "code",
   "execution_count": null,
   "id": "b2c7c379",
   "metadata": {},
   "outputs": [],
   "source": []
  },
  {
   "cell_type": "markdown",
   "id": "fe8a1a67",
   "metadata": {},
   "source": [
    "### grad boosting with new features with XGBoost"
   ]
  },
  {
   "cell_type": "code",
   "execution_count": 654,
   "id": "b1f5e96b",
   "metadata": {},
   "outputs": [],
   "source": [
    "boosting_params = {\n",
    "    'max_depth': [2, 3, 4, 5, 7, 9, 10, 15]\n",
    "}"
   ]
  },
  {
   "cell_type": "code",
   "execution_count": 642,
   "id": "7555d4f3",
   "metadata": {},
   "outputs": [
    {
     "name": "stdout",
     "output_type": "stream",
     "text": [
      "depths: 2 | mean_roc_auc_score: 0.7292331326627632 | time: 149.048\n",
      "depths: 3 | mean_roc_auc_score: 0.7349157588022399 | time: 205.548\n",
      "depths: 4 | mean_roc_auc_score: 0.7384862070010442 | time: 266.136\n",
      "depths: 5 | mean_roc_auc_score: 0.7405821928582855 | time: 329.844\n",
      "depths: 7 | mean_roc_auc_score: 0.7408277270854573 | time: 478.447\n",
      "depths: 9 | mean_roc_auc_score: 0.7374123792717334 | time: 642.769\n",
      "depths: 10 | mean_roc_auc_score: 0.735258637718479 | time: 709.461\n",
      "depths: 15 | mean_roc_auc_score: 0.7290370691167196 | time: 1140.509\n"
     ]
    },
    {
     "ename": "KeyboardInterrupt",
     "evalue": "",
     "output_type": "error",
     "traceback": [
      "\u001b[0;31m---------------------------------------------------------------------------\u001b[0m",
      "\u001b[0;31mKeyboardInterrupt\u001b[0m                         Traceback (most recent call last)",
      "\u001b[0;32m/var/folders/3s/p1rwpf397nq_dnk5cc3ptcc80000gn/T/ipykernel_8340/2910504276.py\u001b[0m in \u001b[0;36m<module>\u001b[0;34m\u001b[0m\n\u001b[1;32m      8\u001b[0m         \u001b[0mX_train\u001b[0m\u001b[0;34m,\u001b[0m \u001b[0mX_test\u001b[0m \u001b[0;34m=\u001b[0m \u001b[0mtrain\u001b[0m\u001b[0;34m.\u001b[0m\u001b[0miloc\u001b[0m\u001b[0;34m[\u001b[0m\u001b[0mtrain_index\u001b[0m\u001b[0;34m,\u001b[0m \u001b[0;34m:\u001b[0m\u001b[0;34m]\u001b[0m\u001b[0;34m,\u001b[0m \u001b[0mtrain\u001b[0m\u001b[0;34m.\u001b[0m\u001b[0miloc\u001b[0m\u001b[0;34m[\u001b[0m\u001b[0mtest_index\u001b[0m\u001b[0;34m,\u001b[0m \u001b[0;34m:\u001b[0m\u001b[0;34m]\u001b[0m\u001b[0;34m\u001b[0m\u001b[0;34m\u001b[0m\u001b[0m\n\u001b[1;32m      9\u001b[0m         \u001b[0my_train\u001b[0m\u001b[0;34m,\u001b[0m \u001b[0my_test\u001b[0m \u001b[0;34m=\u001b[0m \u001b[0my\u001b[0m\u001b[0;34m[\u001b[0m\u001b[0mtrain_index\u001b[0m\u001b[0;34m]\u001b[0m\u001b[0;34m,\u001b[0m \u001b[0my\u001b[0m\u001b[0;34m[\u001b[0m\u001b[0mtest_index\u001b[0m\u001b[0;34m]\u001b[0m\u001b[0;34m\u001b[0m\u001b[0;34m\u001b[0m\u001b[0m\n\u001b[0;32m---> 10\u001b[0;31m         \u001b[0mclf\u001b[0m\u001b[0;34m.\u001b[0m\u001b[0mfit\u001b[0m\u001b[0;34m(\u001b[0m\u001b[0mX_train\u001b[0m\u001b[0;34m,\u001b[0m \u001b[0my_train\u001b[0m\u001b[0;34m)\u001b[0m\u001b[0;34m\u001b[0m\u001b[0;34m\u001b[0m\u001b[0m\n\u001b[0m\u001b[1;32m     11\u001b[0m         \u001b[0mpred\u001b[0m \u001b[0;34m=\u001b[0m \u001b[0mclf\u001b[0m\u001b[0;34m.\u001b[0m\u001b[0mpredict_proba\u001b[0m\u001b[0;34m(\u001b[0m\u001b[0mX_test\u001b[0m\u001b[0;34m)\u001b[0m\u001b[0;34m[\u001b[0m\u001b[0;34m:\u001b[0m\u001b[0;34m,\u001b[0m \u001b[0;36m1\u001b[0m\u001b[0;34m]\u001b[0m\u001b[0;34m\u001b[0m\u001b[0;34m\u001b[0m\u001b[0m\n\u001b[1;32m     12\u001b[0m         \u001b[0mscore\u001b[0m \u001b[0;34m=\u001b[0m \u001b[0mroc_auc_score\u001b[0m\u001b[0;34m(\u001b[0m\u001b[0my_test\u001b[0m\u001b[0;34m,\u001b[0m \u001b[0mpred\u001b[0m\u001b[0;34m)\u001b[0m\u001b[0;34m\u001b[0m\u001b[0;34m\u001b[0m\u001b[0m\n",
      "\u001b[0;32m~/opt/anaconda3/envs/ML/lib/python3.8/site-packages/xgboost/sklearn.py\u001b[0m in \u001b[0;36mfit\u001b[0;34m(self, X, y, sample_weight, eval_set, eval_metric, early_stopping_rounds, verbose, xgb_model, sample_weight_eval_set)\u001b[0m\n\u001b[1;32m    541\u001b[0m                                     missing=self.missing, nthread=self.n_jobs)\n\u001b[1;32m    542\u001b[0m \u001b[0;34m\u001b[0m\u001b[0m\n\u001b[0;32m--> 543\u001b[0;31m         self._Booster = train(xgb_options, train_dmatrix, self.n_estimators,\n\u001b[0m\u001b[1;32m    544\u001b[0m                               \u001b[0mevals\u001b[0m\u001b[0;34m=\u001b[0m\u001b[0mevals\u001b[0m\u001b[0;34m,\u001b[0m\u001b[0;34m\u001b[0m\u001b[0;34m\u001b[0m\u001b[0m\n\u001b[1;32m    545\u001b[0m                               \u001b[0mearly_stopping_rounds\u001b[0m\u001b[0;34m=\u001b[0m\u001b[0mearly_stopping_rounds\u001b[0m\u001b[0;34m,\u001b[0m\u001b[0;34m\u001b[0m\u001b[0;34m\u001b[0m\u001b[0m\n",
      "\u001b[0;32m~/opt/anaconda3/envs/ML/lib/python3.8/site-packages/xgboost/training.py\u001b[0m in \u001b[0;36mtrain\u001b[0;34m(params, dtrain, num_boost_round, evals, obj, feval, maximize, early_stopping_rounds, evals_result, verbose_eval, xgb_model, callbacks, learning_rates)\u001b[0m\n\u001b[1;32m    198\u001b[0m         \u001b[0mcallbacks\u001b[0m\u001b[0;34m.\u001b[0m\u001b[0mappend\u001b[0m\u001b[0;34m(\u001b[0m\u001b[0mcallback\u001b[0m\u001b[0;34m.\u001b[0m\u001b[0mreset_learning_rate\u001b[0m\u001b[0;34m(\u001b[0m\u001b[0mlearning_rates\u001b[0m\u001b[0;34m)\u001b[0m\u001b[0;34m)\u001b[0m\u001b[0;34m\u001b[0m\u001b[0;34m\u001b[0m\u001b[0m\n\u001b[1;32m    199\u001b[0m \u001b[0;34m\u001b[0m\u001b[0m\n\u001b[0;32m--> 200\u001b[0;31m     return _train_internal(params, dtrain,\n\u001b[0m\u001b[1;32m    201\u001b[0m                            \u001b[0mnum_boost_round\u001b[0m\u001b[0;34m=\u001b[0m\u001b[0mnum_boost_round\u001b[0m\u001b[0;34m,\u001b[0m\u001b[0;34m\u001b[0m\u001b[0;34m\u001b[0m\u001b[0m\n\u001b[1;32m    202\u001b[0m                            \u001b[0mevals\u001b[0m\u001b[0;34m=\u001b[0m\u001b[0mevals\u001b[0m\u001b[0;34m,\u001b[0m\u001b[0;34m\u001b[0m\u001b[0;34m\u001b[0m\u001b[0m\n",
      "\u001b[0;32m~/opt/anaconda3/envs/ML/lib/python3.8/site-packages/xgboost/training.py\u001b[0m in \u001b[0;36m_train_internal\u001b[0;34m(params, dtrain, num_boost_round, evals, obj, feval, xgb_model, callbacks)\u001b[0m\n\u001b[1;32m     72\u001b[0m         \u001b[0;31m# Skip the first update if it is a recovery step.\u001b[0m\u001b[0;34m\u001b[0m\u001b[0;34m\u001b[0m\u001b[0;34m\u001b[0m\u001b[0m\n\u001b[1;32m     73\u001b[0m         \u001b[0;32mif\u001b[0m \u001b[0mversion\u001b[0m \u001b[0;34m%\u001b[0m \u001b[0;36m2\u001b[0m \u001b[0;34m==\u001b[0m \u001b[0;36m0\u001b[0m\u001b[0;34m:\u001b[0m\u001b[0;34m\u001b[0m\u001b[0;34m\u001b[0m\u001b[0m\n\u001b[0;32m---> 74\u001b[0;31m             \u001b[0mbst\u001b[0m\u001b[0;34m.\u001b[0m\u001b[0mupdate\u001b[0m\u001b[0;34m(\u001b[0m\u001b[0mdtrain\u001b[0m\u001b[0;34m,\u001b[0m \u001b[0mi\u001b[0m\u001b[0;34m,\u001b[0m \u001b[0mobj\u001b[0m\u001b[0;34m)\u001b[0m\u001b[0;34m\u001b[0m\u001b[0;34m\u001b[0m\u001b[0m\n\u001b[0m\u001b[1;32m     75\u001b[0m             \u001b[0mbst\u001b[0m\u001b[0;34m.\u001b[0m\u001b[0msave_rabit_checkpoint\u001b[0m\u001b[0;34m(\u001b[0m\u001b[0;34m)\u001b[0m\u001b[0;34m\u001b[0m\u001b[0;34m\u001b[0m\u001b[0m\n\u001b[1;32m     76\u001b[0m             \u001b[0mversion\u001b[0m \u001b[0;34m+=\u001b[0m \u001b[0;36m1\u001b[0m\u001b[0;34m\u001b[0m\u001b[0;34m\u001b[0m\u001b[0m\n",
      "\u001b[0;32m~/opt/anaconda3/envs/ML/lib/python3.8/site-packages/xgboost/core.py\u001b[0m in \u001b[0;36mupdate\u001b[0;34m(self, dtrain, iteration, fobj)\u001b[0m\n\u001b[1;32m   1018\u001b[0m \u001b[0;34m\u001b[0m\u001b[0m\n\u001b[1;32m   1019\u001b[0m         \u001b[0;32mif\u001b[0m \u001b[0mfobj\u001b[0m \u001b[0;32mis\u001b[0m \u001b[0;32mNone\u001b[0m\u001b[0;34m:\u001b[0m\u001b[0;34m\u001b[0m\u001b[0;34m\u001b[0m\u001b[0m\n\u001b[0;32m-> 1020\u001b[0;31m             _check_call(_LIB.XGBoosterUpdateOneIter(self.handle, ctypes.c_int(iteration),\n\u001b[0m\u001b[1;32m   1021\u001b[0m                                                     dtrain.handle))\n\u001b[1;32m   1022\u001b[0m         \u001b[0;32melse\u001b[0m\u001b[0;34m:\u001b[0m\u001b[0;34m\u001b[0m\u001b[0;34m\u001b[0m\u001b[0m\n",
      "\u001b[0;31mKeyboardInterrupt\u001b[0m: "
     ]
    }
   ],
   "source": [
    "boosting_fit_data_agg = {}\n",
    "boosting_fit_data_agg['time'] = []\n",
    "for depth in boosting_params['max_depth']:\n",
    "    fit_scores = []\n",
    "    start_time = time.time()\n",
    "    clf = XGBClassifier(n_estimators=100, max_depth=depth, n_jobs=-1, random_state=RANDOM_STATE)\n",
    "    for train_index, test_index in kf.split(train):\n",
    "        X_train, X_test = train.iloc[train_index, :], train.iloc[test_index, :]\n",
    "        y_train, y_test = y[train_index], y[test_index]\n",
    "        clf.fit(X_train, y_train)\n",
    "        pred = clf.predict_proba(X_test)[:, 1]\n",
    "        score = roc_auc_score(y_test, pred)\n",
    "        fit_scores.append(score)\n",
    "    end_time = time.time()\n",
    "    boosting_fit_data_agg[n_estim] = fit_scores\n",
    "    boosting_fit_data_agg['time'].append(end_time - start_time)\n",
    "    print(f'depths: {depth} | mean_roc_auc_score: {np.mean(fit_scores)} | time: {round(end_time - start_time, 3)}')"
   ]
  },
  {
   "cell_type": "markdown",
   "id": "46000739",
   "metadata": {},
   "source": [
    "### check middle values"
   ]
  },
  {
   "cell_type": "code",
   "execution_count": 655,
   "id": "1688c797",
   "metadata": {},
   "outputs": [
    {
     "name": "stdout",
     "output_type": "stream",
     "text": [
      "depths: 5 | mean_roc_auc_score: 0.7405821928582855 | time: 315.581\n",
      "depths: 6 | mean_roc_auc_score: 0.7410978110585024 | time: 371.164\n",
      "depths: 7 | mean_roc_auc_score: 0.7408277270854573 | time: 432.852\n",
      "depths: 8 | mean_roc_auc_score: 0.739461018305997 | time: 520.173\n"
     ]
    }
   ],
   "source": [
    "boosting_params = {\n",
    "    'max_depth': [5, 6, 7, 8]\n",
    "}\n",
    "\n",
    "boosting_fit_data_agg = {}\n",
    "boosting_fit_data_agg['time'] = []\n",
    "for depth in boosting_params['max_depth']:\n",
    "    fit_scores = []\n",
    "    start_time = time.time()\n",
    "    clf = XGBClassifier(n_estimators=100, max_depth=depth, n_jobs=-1, random_state=RANDOM_STATE)\n",
    "    for train_index, test_index in kf.split(train):\n",
    "        X_train, X_test = train.iloc[train_index, :], train.iloc[test_index, :]\n",
    "        y_train, y_test = y[train_index], y[test_index]\n",
    "        clf.fit(X_train, y_train)\n",
    "        pred = clf.predict_proba(X_test)[:, 1]\n",
    "        score = roc_auc_score(y_test, pred)\n",
    "        fit_scores.append(score)\n",
    "    end_time = time.time()\n",
    "    boosting_fit_data_agg[n_estim] = fit_scores\n",
    "    boosting_fit_data_agg['time'].append(end_time - start_time)\n",
    "    print(f'depths: {depth} | mean_roc_auc_score: {np.mean(fit_scores)} | time: {round(end_time - start_time, 3)}')"
   ]
  },
  {
   "cell_type": "markdown",
   "id": "7db9bba4",
   "metadata": {},
   "source": [
    "#### ass see below best score with depths = 6"
   ]
  },
  {
   "cell_type": "markdown",
   "id": "b41823ad",
   "metadata": {},
   "source": [
    "### configure best trees number"
   ]
  },
  {
   "cell_type": "code",
   "execution_count": 657,
   "id": "c4407347",
   "metadata": {},
   "outputs": [],
   "source": [
    "boosting_params = {\n",
    "    'n_estimators': [10, 20, 30, 40, 50, 75, 100, 130, 170, 200, 250, 300, 350]\n",
    "}"
   ]
  },
  {
   "cell_type": "code",
   "execution_count": 659,
   "id": "1a3d403d",
   "metadata": {},
   "outputs": [
    {
     "name": "stdout",
     "output_type": "stream",
     "text": [
      "n_estimators: 10 | mean_roc_auc_score: 0.7187030542530424 | time: 64.748 | 21:07:05\n",
      "n_estimators: 20 | mean_roc_auc_score: 0.7247117293597246 | time: 118.802 | 21:09:04\n",
      "n_estimators: 30 | mean_roc_auc_score: 0.7292848329849209 | time: 178.38 | 21:12:02\n",
      "n_estimators: 40 | mean_roc_auc_score: 0.7326281654255896 | time: 236.994 | 21:15:59\n",
      "n_estimators: 50 | mean_roc_auc_score: 0.7350784062315859 | time: 271.945 | 21:20:31\n",
      "n_estimators: 75 | mean_roc_auc_score: 0.7383665226681654 | time: 401.493 | 21:27:12\n",
      "n_estimators: 100 | mean_roc_auc_score: 0.739461018305997 | time: 521.427 | 21:35:54\n",
      "n_estimators: 130 | mean_roc_auc_score: 0.7401471277814156 | time: 692.811 | 21:47:27\n",
      "n_estimators: 170 | mean_roc_auc_score: 0.7399667191866087 | time: 863.468 | 22:01:50\n",
      "n_estimators: 200 | mean_roc_auc_score: 0.7398087794023297 | time: 1037.327 | 22:19:08\n",
      "n_estimators: 250 | mean_roc_auc_score: 0.7393829321252229 | time: 1309.193 | 22:40:57\n",
      "n_estimators: 300 | mean_roc_auc_score: 0.7386295435739824 | time: 1487.274 | 23:05:44\n",
      "n_estimators: 350 | mean_roc_auc_score: 0.7380136375211717 | time: 1733.409 | 23:34:37\n"
     ]
    }
   ],
   "source": [
    "boosting_fit_data_agg_2 = {}\n",
    "boosting_fit_data_agg_2['time'] = []\n",
    "for n_trees in boosting_params['n_estimators']:\n",
    "    fit_scores = []\n",
    "    start_time = time.time()\n",
    "    clf = XGBClassifier(n_estimators=n_trees, max_depth=depth, n_jobs=-1, random_state=RANDOM_STATE)\n",
    "    for train_index, test_index in kf.split(train):\n",
    "        X_train, X_test = train.iloc[train_index, :], train.iloc[test_index, :]\n",
    "        y_train, y_test = y[train_index], y[test_index]\n",
    "        clf.fit(X_train, y_train)\n",
    "        pred = clf.predict_proba(X_test)[:, 1]\n",
    "        score = roc_auc_score(y_test, pred)\n",
    "        fit_scores.append(score)\n",
    "    end_time = time.time()\n",
    "    end_time_now = datetime.now().strftime('%H:%M:%S')\n",
    "    boosting_fit_data_agg_2[n_trees] = fit_scores\n",
    "    boosting_fit_data_agg_2['time'].append(end_time - start_time)\n",
    "    \n",
    "    print(f'n_estimators: {n_trees} | mean_roc_auc_score: {np.mean(fit_scores)} | time: {round(end_time - start_time, 3)} | {end_time_now}')"
   ]
  },
  {
   "cell_type": "code",
   "execution_count": 694,
   "id": "9d733fae",
   "metadata": {},
   "outputs": [
    {
     "data": {
      "image/png": "[encoded data removed]",
      "text/plain": [
       "<Figure size 432x288 with 1 Axes>"
      ]
     },
     "metadata": {
      "needs_background": "light"
     },
     "output_type": "display_data"
    }
   ],
   "source": [
    "values = [np.mean(boosting_fit_data_agg_2[i]) for i in list(boosting_fit_data_agg_2.keys())[1:]]\n",
    "plt.plot(list(boosting_fit_data_agg_2.keys())[1:], values);\n",
    "plt.xlabel('n_estimators');\n",
    "plt.ylabel('roc_auc_score');\n",
    "plt.title('xgboostingClassifier cv');\n",
    "plt.xticks(boosting_params['n_estimators'])\n",
    "plt.grid(True)"
   ]
  },
  {
   "cell_type": "markdown",
   "id": "524ddedd",
   "metadata": {},
   "source": [
    "### Fit Random Forest"
   ]
  },
  {
   "cell_type": "code",
   "execution_count": 697,
   "id": "7a7bad0b",
   "metadata": {},
   "outputs": [],
   "source": [
    "forest_params = {\n",
    "    'max_depth': [5, 10, 30, 60, None]\n",
    "}"
   ]
  },
  {
   "cell_type": "code",
   "execution_count": 709,
   "id": "ee67d7e5",
   "metadata": {},
   "outputs": [
    {
     "name": "stdout",
     "output_type": "stream",
     "text": [
      "max_depth: 5 | mean_roc_auc_score: 0.7132386400135946 | time: 118.117 | 00:18:12\n",
      "max_depth: 10 | mean_roc_auc_score: 0.719511669645794 | time: 241.371 | 00:22:13\n",
      "max_depth: 30 | mean_roc_auc_score: 0.7149464050580535 | time: 490.143 | 00:30:23\n",
      "max_depth: 60 | mean_roc_auc_score: 0.7152965199163764 | time: 487.791 | 00:38:31\n",
      "max_depth: None | mean_roc_auc_score: 0.7152965199163764 | time: 472.338 | 00:46:23\n"
     ]
    }
   ],
   "source": [
    "forest_fit_data = {}\n",
    "forest_fit_data['time'] = []\n",
    "for depth in forest_params['max_depth']:\n",
    "    fit_scores = []\n",
    "    start_time = time.time()\n",
    "    rf = RandomForestClassifier(max_features=0.4, max_depth=depth, random_state=RANDOM_STATE, n_jobs=-1)\n",
    "    for train_index, test_index in kf.split(train):\n",
    "        X_train, X_test = train.iloc[train_index, :], train.iloc[test_index, :]\n",
    "        y_train, y_test = y[train_index], y[test_index]\n",
    "        rf.fit(X_train, y_train)\n",
    "        pred = rf.predict_proba(X_test)[:, 1]\n",
    "        score = roc_auc_score(y_test, pred)\n",
    "        fit_scores.append(score)\n",
    "    end_time = time.time()\n",
    "    end_time_now = datetime.now().strftime('%H:%M:%S')\n",
    "    forest_fit_data[n_trees] = fit_scores\n",
    "    forest_fit_data['time'].append(end_time - start_time)\n",
    "    \n",
    "    print(f'max_depth: {depth} | mean_roc_auc_score: {np.mean(fit_scores)} | time: {round(end_time - start_time, 3)} | {end_time_now}')"
   ]
  },
  {
   "cell_type": "markdown",
   "id": "960bf82c",
   "metadata": {},
   "source": [
    "### Fit Random Forest with all features"
   ]
  },
  {
   "cell_type": "code",
   "execution_count": 710,
   "id": "d0579133",
   "metadata": {},
   "outputs": [],
   "source": [
    "forest_params = {\n",
    "    'max_depth': [10, 15, 20, 30, 60, None]\n",
    "}"
   ]
  },
  {
   "cell_type": "code",
   "execution_count": 711,
   "id": "80adf515",
   "metadata": {},
   "outputs": [
    {
     "name": "stdout",
     "output_type": "stream",
     "text": [
      "max_depth: 10 | mean_roc_auc_score: 0.7163393573757415 | time: 46.731 | 00:48:57\n",
      "max_depth: 15 | mean_roc_auc_score: 0.7170641796088498 | time: 68.44 | 00:50:05\n",
      "max_depth: 20 | mean_roc_auc_score: 0.71532423287012 | time: 73.112 | 00:51:18\n",
      "max_depth: 30 | mean_roc_auc_score: 0.7124605063872591 | time: 86.559 | 00:52:45\n",
      "max_depth: 60 | mean_roc_auc_score: 0.7119476290406107 | time: 90.653 | 00:54:16\n",
      "max_depth: None | mean_roc_auc_score: 0.7119069038040975 | time: 92.898 | 00:55:49\n"
     ]
    }
   ],
   "source": [
    "forest_fit_data_2 = {}\n",
    "forest_fit_data_2['time'] = []\n",
    "for depth in forest_params['max_depth']:\n",
    "    fit_scores = []\n",
    "    start_time = time.time()\n",
    "    rf = RandomForestClassifier(max_depth=depth, random_state=RANDOM_STATE, n_jobs=-1)\n",
    "    for train_index, test_index in kf.split(train):\n",
    "        X_train, X_test = train.iloc[train_index, :], train.iloc[test_index, :]\n",
    "        y_train, y_test = y[train_index], y[test_index]\n",
    "        rf.fit(X_train, y_train)\n",
    "        pred = rf.predict_proba(X_test)[:, 1]\n",
    "        score = roc_auc_score(y_test, pred)\n",
    "        fit_scores.append(score)\n",
    "    end_time = time.time()\n",
    "    end_time_now = datetime.now().strftime('%H:%M:%S')\n",
    "    forest_fit_data_2[n_trees] = fit_scores\n",
    "    forest_fit_data_2['time'].append(end_time - start_time)\n",
    "    \n",
    "    print(f'max_depth: {depth} | mean_roc_auc_score: {np.mean(fit_scores)} | time: {round(end_time - start_time, 3)} | {end_time_now}')"
   ]
  },
  {
   "cell_type": "markdown",
   "id": "8a456dbf",
   "metadata": {},
   "source": [
    "### All features"
   ]
  },
  {
   "cell_type": "code",
   "execution_count": 599,
   "id": "7386092a",
   "metadata": {},
   "outputs": [
    {
     "data": {
      "text/plain": [
       "\"['r1_level', 'r1_xp', 'r1_gold', 'r1_lh', 'r1_kills', 'r1_deaths', 'r1_items', 'r2_level', 'r2_xp', 'r2_gold', 'r2_lh', 'r2_kills', 'r2_deaths', 'r2_items', 'r3_level', 'r3_xp', 'r3_gold', 'r3_lh', 'r3_kills', 'r3_deaths', 'r3_items', 'r4_level', 'r4_xp', 'r4_gold', 'r4_lh', 'r4_kills', 'r4_deaths', 'r4_items', 'r5_level', 'r5_xp', 'r5_gold', 'r5_lh', 'r5_kills', 'r5_deaths', 'r5_items', 'd1_level', 'd1_xp', 'd1_gold', 'd1_lh', 'd1_kills', 'd1_deaths', 'd1_items', 'd2_level', 'd2_xp', 'd2_gold', 'd2_lh', 'd2_kills', 'd2_deaths', 'd2_items', 'd3_level', 'd3_xp', 'd3_gold', 'd3_lh', 'd3_kills', 'd3_deaths', 'd3_items', 'd4_level', 'd4_xp', 'd4_gold', 'd4_lh', 'd4_kills', 'd4_deaths', 'd4_items', 'd5_level', 'd5_xp', 'd5_gold', 'd5_lh', 'd5_kills', 'd5_deaths', 'd5_items', 'first_blood_time', 'first_blood_team', 'first_blood_player1', 'first_blood_player2', 'radiant_bottle_time', 'radiant_courier_time', 'radiant_flying_courier_time', 'radiant_tpscroll_count', 'radiant_boots_count', 'radiant_ward_observer_count', 'radiant_ward_sentry_count', 'radiant_first_ward_time', 'dire_bottle_time', 'dire_courier_time', 'dire_flying_courier_time', 'dire_tpscroll_count', 'dire_boots_count', 'dire_ward_observer_count', 'dire_ward_sentry_count', 'dire_first_ward_time', 'hero_1', 'hero_2', 'hero_3', 'hero_4', 'hero_5', 'hero_6', 'hero_7', 'hero_8', 'hero_9', 'hero_10', 'hero_11', 'hero_12', 'hero_13', 'hero_14', 'hero_15', 'hero_16', 'hero_17', 'hero_18', 'hero_19', 'hero_20', 'hero_21', 'hero_22', 'hero_23', 'hero_25', 'hero_26', 'hero_27', 'hero_28', 'hero_29', 'hero_30', 'hero_31', 'hero_32', 'hero_33', 'hero_34', 'hero_35', 'hero_36', 'hero_37', 'hero_38', 'hero_39', 'hero_40', 'hero_41', 'hero_42', 'hero_43', 'hero_44', 'hero_45', 'hero_46', 'hero_47', 'hero_48', 'hero_49', 'hero_50', 'hero_51', 'hero_52', 'hero_53', 'hero_54', 'hero_55', 'hero_56', 'hero_57', 'hero_58', 'hero_59', 'hero_60', 'hero_61', 'hero_62', 'hero_63', 'hero_64', 'hero_65', 'hero_66', 'hero_67', 'hero_68', 'hero_69', 'hero_70', 'hero_71', 'hero_72', 'hero_73', 'hero_74', 'hero_75', 'hero_76', 'hero_77', 'hero_78', 'hero_79', 'hero_80', 'hero_81', 'hero_82', 'hero_83', 'hero_84', 'hero_85', 'hero_86', 'hero_87', 'hero_88', 'hero_89', 'hero_90', 'hero_91', 'hero_92', 'hero_93', 'hero_94', 'hero_95', 'hero_96', 'hero_97', 'hero_98', 'hero_99', 'hero_100', 'hero_101', 'hero_102', 'hero_103', 'hero_104', 'hero_105', 'hero_106', 'hero_109', 'hero_110', 'hero_112', 'lobby_type_0', 'lobby_type_1', 'lobby_type_7']\""
      ]
     },
     "execution_count": 599,
     "metadata": {},
     "output_type": "execute_result"
    }
   ],
   "source": [
    "str(list(train.columns))"
   ]
  },
  {
   "cell_type": "code",
   "execution_count": null,
   "id": "b5f59268",
   "metadata": {},
   "outputs": [],
   "source": []
  }
 ],
 "metadata": {
  "kernelspec": {
   "display_name": "Python 3 (ipykernel)",
   "language": "python",
   "name": "python3"
  },
  "language_info": {
   "codemirror_mode": {
    "name": "ipython",
    "version": 3
   },
   "file_extension": ".py",
   "mimetype": "text/x-python",
   "name": "python",
   "nbconvert_exporter": "python",
   "pygments_lexer": "ipython3",
   "version": "3.8.8"
  }
 },
 "nbformat": 4,
 "nbformat_minor": 5
}
