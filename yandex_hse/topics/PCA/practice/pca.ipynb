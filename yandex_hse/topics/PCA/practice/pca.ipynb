{
 "cells": [
  {
   "cell_type": "code",
   "execution_count": 31,
   "id": "88b52513",
   "metadata": {},
   "outputs": [],
   "source": [
    "import numpy as np\n",
    "import  matplotlib.pyplot as plt"
   ]
  },
  {
   "cell_type": "code",
   "execution_count": 15,
   "id": "4ac51f21",
   "metadata": {},
   "outputs": [],
   "source": [
    "A = np.array([[15,244,341],\n",
    "             [212,323,44],\n",
    "             [34,412,125],\n",
    "             [13, 123, 344]])"
   ]
  },
  {
   "cell_type": "code",
   "execution_count": 21,
   "id": "91842bdf",
   "metadata": {},
   "outputs": [
    {
     "data": {
      "text/plain": [
       "array([[176042,  96996, 143663, 147511],\n",
       "       [ 96996, 151209, 145784,  57621],\n",
       "       [143663, 145784, 186525,  94118],\n",
       "       [147511,  57621,  94118, 133634]])"
      ]
     },
     "execution_count": 21,
     "metadata": {},
     "output_type": "execute_result"
    }
   ],
   "source": [
    "A @ A.T"
   ]
  },
  {
   "cell_type": "code",
   "execution_count": 22,
   "id": "6df3ee0a",
   "metadata": {},
   "outputs": [
    {
     "data": {
      "text/plain": [
       "array([[ 46494,  87743,  23165],\n",
       "       [ 87743, 348738, 191228],\n",
       "       [ 23165, 191228, 252178]])"
      ]
     },
     "execution_count": 22,
     "metadata": {},
     "output_type": "execute_result"
    }
   ],
   "source": [
    "A.T @ A"
   ]
  },
  {
   "cell_type": "code",
   "execution_count": 28,
   "id": "345344a7",
   "metadata": {},
   "outputs": [
    {
     "data": {
      "text/plain": [
       "104541.75"
      ]
     },
     "execution_count": 28,
     "metadata": {},
     "output_type": "execute_result"
    }
   ],
   "source": []
  },
  {
   "cell_type": "code",
   "execution_count": 29,
   "id": "dc5df674",
   "metadata": {},
   "outputs": [
    {
     "name": "stdout",
     "output_type": "stream",
     "text": [
      "[[ 1.          2.          3.          4.          5.          6.\n",
      "   7.          8.          9.         10.        ]\n",
      " [ 2.20874364  4.97860267  5.76412374  8.89947485 11.83453973 11.45926054\n",
      "  17.98077538 16.20916644 19.19743687 21.23301872]]\n"
     ]
    }
   ],
   "source": [
    "x = np.arange(1,11)\n",
    "y = 2 * x + np.random.randn(10)*2\n",
    "X = np.vstack((x,y))\n",
    "print (X)"
   ]
  },
  {
   "cell_type": "code",
   "execution_count": 43,
   "id": "92f8d4b7",
   "metadata": {},
   "outputs": [],
   "source": [
    "def plot(X):\n",
    "    xx = np.linspace(-10, 10, 100)\n",
    "    OX = [0 for i in xx]\n",
    "    yy = np.linspace(-30, 30, 100)\n",
    "    OY = [0 for i in yy]\n",
    "    plt.scatter(X[0], X[1])\n",
    "    plt.plot(xx, OX, c='black')\n",
    "    plt.plot(OY, yy, c='black')\n",
    "    plt.grid(True)\n",
    "    return plt.show()"
   ]
  },
  {
   "cell_type": "code",
   "execution_count": 44,
   "id": "44038dac",
   "metadata": {},
   "outputs": [
    {
     "data": {
      "image/png": "[encoded data removed]",
      "text/plain": [
       "<Figure size 432x288 with 1 Axes>"
      ]
     },
     "metadata": {
      "needs_background": "light"
     },
     "output_type": "display_data"
    }
   ],
   "source": [
    "plot(X)"
   ]
  },
  {
   "cell_type": "code",
   "execution_count": 50,
   "id": "d2afcae3",
   "metadata": {},
   "outputs": [],
   "source": [
    "Xcentered = (X[0] - x.mean(), X[1] - y.mean())\n",
    "m = x.mean(), y.mean()"
   ]
  },
  {
   "cell_type": "code",
   "execution_count": 51,
   "id": "4264d616",
   "metadata": {},
   "outputs": [
    {
     "data": {
      "image/png": "[encoded data removed]",
      "text/plain": [
       "<Figure size 432x288 with 1 Axes>"
      ]
     },
     "metadata": {
      "needs_background": "light"
     },
     "output_type": "display_data"
    }
   ],
   "source": [
    "plot(Xcentered)"
   ]
  },
  {
   "cell_type": "code",
   "execution_count": 52,
   "id": "8504ae9e",
   "metadata": {},
   "outputs": [
    {
     "name": "stdout",
     "output_type": "stream",
     "text": [
      "[[ 9.16666667 19.43578617]\n",
      " [19.43578617 42.72454216]] \n",
      "\n",
      "Variance of X:  9.166666666666666\n",
      "Variance of Y:  42.7245421644349\n",
      "Covariance X and Y:  19.435786169230287\n"
     ]
    }
   ],
   "source": [
    "covmat = np.cov(Xcentered)\n",
    "print(covmat, \"\\n\")\n",
    "print(\"Variance of X: \", np.cov(Xcentered)[0,0])\n",
    "print(\"Variance of Y: \", np.cov(Xcentered)[1,1])\n",
    "print(\"Covariance X and Y: \", np.cov(Xcentered)[0,1])"
   ]
  },
  {
   "cell_type": "code",
   "execution_count": null,
   "id": "e27b68e9",
   "metadata": {},
   "outputs": [],
   "source": []
  }
 ],
 "metadata": {
  "kernelspec": {
   "display_name": "Python 3 (ipykernel)",
   "language": "python",
   "name": "python3"
  },
  "language_info": {
   "codemirror_mode": {
    "name": "ipython",
    "version": 3
   },
   "file_extension": ".py",
   "mimetype": "text/x-python",
   "name": "python",
   "nbconvert_exporter": "python",
   "pygments_lexer": "ipython3",
   "version": "3.8.8"
  }
 },
 "nbformat": 4,
 "nbformat_minor": 5
}
