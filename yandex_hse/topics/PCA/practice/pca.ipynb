{
 "cells": [
  {
   "cell_type": "code",
   "execution_count": 82,
   "id": "ee614571",
   "metadata": {},
   "outputs": [],
   "source": [
    "import numpy as np\n",
    "import pandas as pd\n",
    "import  matplotlib.pyplot as plt\n",
    "import seaborn as sns\n",
    "from sklearn.decomposition import PCA"
   ]
  },
  {
   "cell_type": "code",
   "execution_count": 232,
   "id": "1462e953",
   "metadata": {},
   "outputs": [],
   "source": [
    "data = pd.read_csv('../../../data/close_prices.csv')\n",
    "djva = pd.read_csv('../../../data/djia_index.csv')"
   ]
  },
  {
   "cell_type": "code",
   "execution_count": 233,
   "id": "cce7c353",
   "metadata": {},
   "outputs": [
    {
     "data": {
      "image/png": "[encoded data removed]",
      "text/plain": [
       "<Figure size 432x288 with 2 Axes>"
      ]
     },
     "metadata": {
      "needs_background": "light"
     },
     "output_type": "display_data"
    }
   ],
   "source": [
    "sns.heatmap(data.corr());"
   ]
  },
  {
   "cell_type": "code",
   "execution_count": 234,
   "id": "2f6d48a0",
   "metadata": {},
   "outputs": [
    {
     "data": {
      "text/plain": [
       "(374, 30)"
      ]
     },
     "execution_count": 234,
     "metadata": {},
     "output_type": "execute_result"
    }
   ],
   "source": [
    "train = data.drop('date', axis=1)\n",
    "train.shape"
   ]
  },
  {
   "cell_type": "code",
   "execution_count": 235,
   "id": "3f9e5d8a",
   "metadata": {},
   "outputs": [
    {
     "data": {
      "image/png": "[encoded data removed]",
      "text/plain": [
       "<Figure size 432x288 with 1 Axes>"
      ]
     },
     "metadata": {
      "needs_background": "light"
     },
     "output_type": "display_data"
    }
   ],
   "source": [
    "n_col = len(train.columns)\n",
    "var = []\n",
    "for i in range(n_col):\n",
    "    pca = PCA(n_components=n_col-i)\n",
    "    pca.fit(train)\n",
    "    var.append(pca.explained_variance_ratio_.sum())\n",
    "plt.plot([n_col-i for i in range(n_col)], var)\n",
    "plt.xticks([n_col-i for i in range(n_col)])\n",
    "plt.grid(True)"
   ]
  },
  {
   "cell_type": "code",
   "execution_count": 236,
   "id": "11c0ec64",
   "metadata": {},
   "outputs": [
    {
     "data": {
      "text/plain": [
       "0.92774295378364"
      ]
     },
     "execution_count": 236,
     "metadata": {},
     "output_type": "execute_result"
    }
   ],
   "source": [
    "pca = PCA(n_components=4)\n",
    "pca.fit(train).explained_variance_ratio_.sum()"
   ]
  },
  {
   "cell_type": "code",
   "execution_count": 237,
   "id": "a705a4c0",
   "metadata": {},
   "outputs": [
    {
     "data": {
      "text/html": [
       "<div>\n",
       "<style scoped>\n",
       "    .dataframe tbody tr th:only-of-type {\n",
       "        vertical-align: middle;\n",
       "    }\n",
       "\n",
       "    .dataframe tbody tr th {\n",
       "        vertical-align: top;\n",
       "    }\n",
       "\n",
       "    .dataframe thead th {\n",
       "        text-align: right;\n",
       "    }\n",
       "</style>\n",
       "<table border=\"1\" class=\"dataframe\">\n",
       "  <thead>\n",
       "    <tr style=\"text-align: right;\">\n",
       "      <th></th>\n",
       "      <th>AXP</th>\n",
       "      <th>BA</th>\n",
       "      <th>CAT</th>\n",
       "      <th>CSCO</th>\n",
       "      <th>CVX</th>\n",
       "      <th>DD</th>\n",
       "      <th>DIS</th>\n",
       "      <th>GE</th>\n",
       "      <th>GS</th>\n",
       "      <th>HD</th>\n",
       "      <th>...</th>\n",
       "      <th>PFE</th>\n",
       "      <th>PG</th>\n",
       "      <th>T</th>\n",
       "      <th>TRV</th>\n",
       "      <th>UNH</th>\n",
       "      <th>UTX</th>\n",
       "      <th>V</th>\n",
       "      <th>VZ</th>\n",
       "      <th>WMT</th>\n",
       "      <th>XOM</th>\n",
       "    </tr>\n",
       "  </thead>\n",
       "  <tbody>\n",
       "    <tr>\n",
       "      <th>0</th>\n",
       "      <td>76.440002</td>\n",
       "      <td>117.510002</td>\n",
       "      <td>85.029999</td>\n",
       "      <td>24.270000</td>\n",
       "      <td>125.519997</td>\n",
       "      <td>59.409999</td>\n",
       "      <td>64.75</td>\n",
       "      <td>24.280001</td>\n",
       "      <td>165.250000</td>\n",
       "      <td>75.910004</td>\n",
       "      <td>...</td>\n",
       "      <td>28.799999</td>\n",
       "      <td>79.279999</td>\n",
       "      <td>34.220001</td>\n",
       "      <td>86.379997</td>\n",
       "      <td>71.82</td>\n",
       "      <td>109.419998</td>\n",
       "      <td>196.240005</td>\n",
       "      <td>47.98</td>\n",
       "      <td>76.419998</td>\n",
       "      <td>87.750000</td>\n",
       "    </tr>\n",
       "    <tr>\n",
       "      <th>1</th>\n",
       "      <td>76.070000</td>\n",
       "      <td>119.000000</td>\n",
       "      <td>85.110001</td>\n",
       "      <td>24.139999</td>\n",
       "      <td>124.489998</td>\n",
       "      <td>59.319997</td>\n",
       "      <td>64.32</td>\n",
       "      <td>24.320000</td>\n",
       "      <td>162.970001</td>\n",
       "      <td>76.040001</td>\n",
       "      <td>...</td>\n",
       "      <td>28.709999</td>\n",
       "      <td>78.620003</td>\n",
       "      <td>34.090000</td>\n",
       "      <td>85.870003</td>\n",
       "      <td>72.32</td>\n",
       "      <td>110.000000</td>\n",
       "      <td>193.339996</td>\n",
       "      <td>47.27</td>\n",
       "      <td>75.750000</td>\n",
       "      <td>87.360001</td>\n",
       "    </tr>\n",
       "  </tbody>\n",
       "</table>\n",
       "<p>2 rows × 30 columns</p>\n",
       "</div>"
      ],
      "text/plain": [
       "         AXP          BA        CAT       CSCO         CVX         DD    DIS  \\\n",
       "0  76.440002  117.510002  85.029999  24.270000  125.519997  59.409999  64.75   \n",
       "1  76.070000  119.000000  85.110001  24.139999  124.489998  59.319997  64.32   \n",
       "\n",
       "          GE          GS         HD  ...        PFE         PG          T  \\\n",
       "0  24.280001  165.250000  75.910004  ...  28.799999  79.279999  34.220001   \n",
       "1  24.320000  162.970001  76.040001  ...  28.709999  78.620003  34.090000   \n",
       "\n",
       "         TRV    UNH         UTX           V     VZ        WMT        XOM  \n",
       "0  86.379997  71.82  109.419998  196.240005  47.98  76.419998  87.750000  \n",
       "1  85.870003  72.32  110.000000  193.339996  47.27  75.750000  87.360001  \n",
       "\n",
       "[2 rows x 30 columns]"
      ]
     },
     "execution_count": 237,
     "metadata": {},
     "output_type": "execute_result"
    }
   ],
   "source": [
    "train.head(2)"
   ]
  },
  {
   "cell_type": "code",
   "execution_count": null,
   "id": "7b4b37da",
   "metadata": {},
   "outputs": [],
   "source": []
  },
  {
   "cell_type": "code",
   "execution_count": 238,
   "id": "a6c71d24",
   "metadata": {},
   "outputs": [],
   "source": [
    "train_fitted = train @ pca.components_.T"
   ]
  },
  {
   "cell_type": "code",
   "execution_count": 239,
   "id": "19dd1048",
   "metadata": {},
   "outputs": [
    {
     "data": {
      "text/html": [
       "<div>\n",
       "<style scoped>\n",
       "    .dataframe tbody tr th:only-of-type {\n",
       "        vertical-align: middle;\n",
       "    }\n",
       "\n",
       "    .dataframe tbody tr th {\n",
       "        vertical-align: top;\n",
       "    }\n",
       "\n",
       "    .dataframe thead th {\n",
       "        text-align: right;\n",
       "    }\n",
       "</style>\n",
       "<table border=\"1\" class=\"dataframe\">\n",
       "  <thead>\n",
       "    <tr style=\"text-align: right;\">\n",
       "      <th></th>\n",
       "      <th>0</th>\n",
       "      <th>1</th>\n",
       "      <th>2</th>\n",
       "      <th>3</th>\n",
       "    </tr>\n",
       "  </thead>\n",
       "  <tbody>\n",
       "    <tr>\n",
       "      <th>0</th>\n",
       "      <td>271.409336</td>\n",
       "      <td>-281.50704</td>\n",
       "      <td>-156.515694</td>\n",
       "      <td>60.746181</td>\n",
       "    </tr>\n",
       "    <tr>\n",
       "      <th>1</th>\n",
       "      <td>269.464830</td>\n",
       "      <td>-279.99181</td>\n",
       "      <td>-156.979170</td>\n",
       "      <td>62.768746</td>\n",
       "    </tr>\n",
       "  </tbody>\n",
       "</table>\n",
       "</div>"
      ],
      "text/plain": [
       "            0          1           2          3\n",
       "0  271.409336 -281.50704 -156.515694  60.746181\n",
       "1  269.464830 -279.99181 -156.979170  62.768746"
      ]
     },
     "execution_count": 239,
     "metadata": {},
     "output_type": "execute_result"
    }
   ],
   "source": [
    "train_fitted.head(2)"
   ]
  },
  {
   "cell_type": "code",
   "execution_count": 240,
   "id": "2d02a66d",
   "metadata": {},
   "outputs": [
    {
     "data": {
      "text/html": [
       "<div>\n",
       "<style scoped>\n",
       "    .dataframe tbody tr th:only-of-type {\n",
       "        vertical-align: middle;\n",
       "    }\n",
       "\n",
       "    .dataframe tbody tr th {\n",
       "        vertical-align: top;\n",
       "    }\n",
       "\n",
       "    .dataframe thead th {\n",
       "        text-align: right;\n",
       "    }\n",
       "</style>\n",
       "<table border=\"1\" class=\"dataframe\">\n",
       "  <thead>\n",
       "    <tr style=\"text-align: right;\">\n",
       "      <th></th>\n",
       "      <th>0</th>\n",
       "      <th>1</th>\n",
       "      <th>2</th>\n",
       "      <th>3</th>\n",
       "    </tr>\n",
       "  </thead>\n",
       "  <tbody>\n",
       "    <tr>\n",
       "      <th>0</th>\n",
       "      <td>271.409336</td>\n",
       "      <td>-281.507040</td>\n",
       "      <td>-156.515694</td>\n",
       "      <td>60.746181</td>\n",
       "    </tr>\n",
       "    <tr>\n",
       "      <th>1</th>\n",
       "      <td>269.464830</td>\n",
       "      <td>-279.991810</td>\n",
       "      <td>-156.979170</td>\n",
       "      <td>62.768746</td>\n",
       "    </tr>\n",
       "    <tr>\n",
       "      <th>2</th>\n",
       "      <td>267.697300</td>\n",
       "      <td>-279.211359</td>\n",
       "      <td>-156.141757</td>\n",
       "      <td>63.070519</td>\n",
       "    </tr>\n",
       "    <tr>\n",
       "      <th>3</th>\n",
       "      <td>269.711173</td>\n",
       "      <td>-279.197146</td>\n",
       "      <td>-157.303603</td>\n",
       "      <td>62.956414</td>\n",
       "    </tr>\n",
       "    <tr>\n",
       "      <th>4</th>\n",
       "      <td>269.941616</td>\n",
       "      <td>-276.849653</td>\n",
       "      <td>-155.840848</td>\n",
       "      <td>61.983544</td>\n",
       "    </tr>\n",
       "    <tr>\n",
       "      <th>...</th>\n",
       "      <td>...</td>\n",
       "      <td>...</td>\n",
       "      <td>...</td>\n",
       "      <td>...</td>\n",
       "    </tr>\n",
       "    <tr>\n",
       "      <th>369</th>\n",
       "      <td>403.602719</td>\n",
       "      <td>-281.138185</td>\n",
       "      <td>-173.745839</td>\n",
       "      <td>72.350081</td>\n",
       "    </tr>\n",
       "    <tr>\n",
       "      <th>370</th>\n",
       "      <td>400.215273</td>\n",
       "      <td>-278.491697</td>\n",
       "      <td>-170.402576</td>\n",
       "      <td>73.209261</td>\n",
       "    </tr>\n",
       "    <tr>\n",
       "      <th>371</th>\n",
       "      <td>406.109939</td>\n",
       "      <td>-282.186304</td>\n",
       "      <td>-172.504371</td>\n",
       "      <td>74.543708</td>\n",
       "    </tr>\n",
       "    <tr>\n",
       "      <th>372</th>\n",
       "      <td>401.507529</td>\n",
       "      <td>-279.994357</td>\n",
       "      <td>-171.184345</td>\n",
       "      <td>76.546404</td>\n",
       "    </tr>\n",
       "    <tr>\n",
       "      <th>373</th>\n",
       "      <td>405.280598</td>\n",
       "      <td>-286.003577</td>\n",
       "      <td>-173.328158</td>\n",
       "      <td>77.132174</td>\n",
       "    </tr>\n",
       "  </tbody>\n",
       "</table>\n",
       "<p>374 rows × 4 columns</p>\n",
       "</div>"
      ],
      "text/plain": [
       "              0           1           2          3\n",
       "0    271.409336 -281.507040 -156.515694  60.746181\n",
       "1    269.464830 -279.991810 -156.979170  62.768746\n",
       "2    267.697300 -279.211359 -156.141757  63.070519\n",
       "3    269.711173 -279.197146 -157.303603  62.956414\n",
       "4    269.941616 -276.849653 -155.840848  61.983544\n",
       "..          ...         ...         ...        ...\n",
       "369  403.602719 -281.138185 -173.745839  72.350081\n",
       "370  400.215273 -278.491697 -170.402576  73.209261\n",
       "371  406.109939 -282.186304 -172.504371  74.543708\n",
       "372  401.507529 -279.994357 -171.184345  76.546404\n",
       "373  405.280598 -286.003577 -173.328158  77.132174\n",
       "\n",
       "[374 rows x 4 columns]"
      ]
     },
     "execution_count": 240,
     "metadata": {},
     "output_type": "execute_result"
    }
   ],
   "source": [
    "fitter"
   ]
  },
  {
   "cell_type": "code",
   "execution_count": 241,
   "id": "b01e2eaa",
   "metadata": {},
   "outputs": [
    {
     "data": {
      "text/plain": [
       "array([753.53936404, 290.82384392, 195.9132354 , 148.62951526])"
      ]
     },
     "execution_count": 241,
     "metadata": {},
     "output_type": "execute_result"
    }
   ],
   "source": [
    "pca.singular_values_"
   ]
  },
  {
   "cell_type": "code",
   "execution_count": 242,
   "id": "b2241f3d",
   "metadata": {},
   "outputs": [
    {
     "data": {
      "text/plain": [
       "array([ 1.61383840e-02,  1.20644923e-01, -5.16612711e-02,  5.04842369e-02,\n",
       "       -1.25859933e-01,  1.14089567e-01,  2.33906290e-01, -6.20513749e-03,\n",
       "        2.51227032e-01,  2.88996029e-01, -2.64998795e-01,  9.31320168e-02,\n",
       "        9.13948403e-02,  4.69879340e-02,  2.90549417e-02, -2.61068828e-02,\n",
       "        3.29615584e-01,  7.13897133e-02,  7.62295699e-02,  2.11888868e-01,\n",
       "        2.30922941e-02,  7.77316954e-02, -7.20594590e-03,  1.89479745e-01,\n",
       "        3.21564017e-01,  5.36834873e-02,  5.79683946e-01,  1.09122230e-04,\n",
       "        8.71614334e-02, -4.29421420e-02])"
      ]
     },
     "execution_count": 242,
     "metadata": {},
     "output_type": "execute_result"
    }
   ],
   "source": [
    "first_comp = pca.components_[0]\n",
    "first_comp"
   ]
  },
  {
   "cell_type": "code",
   "execution_count": 243,
   "id": "7a604b6d",
   "metadata": {},
   "outputs": [
    {
     "data": {
      "text/plain": [
       "26"
      ]
     },
     "execution_count": 243,
     "metadata": {},
     "output_type": "execute_result"
    }
   ],
   "source": [
    "pca.components_[0].argmax()"
   ]
  },
  {
   "cell_type": "code",
   "execution_count": 244,
   "id": "bc48e79d",
   "metadata": {},
   "outputs": [
    {
     "data": {
      "text/plain": [
       "'V'"
      ]
     },
     "execution_count": 244,
     "metadata": {},
     "output_type": "execute_result"
    }
   ],
   "source": [
    "train.columns[26]"
   ]
  },
  {
   "cell_type": "code",
   "execution_count": 245,
   "id": "81019f23",
   "metadata": {},
   "outputs": [
    {
     "data": {
      "text/plain": [
       "(374,)"
      ]
     },
     "execution_count": 245,
     "metadata": {},
     "output_type": "execute_result"
    }
   ],
   "source": [
    "djva.iloc[:, 1].shape"
   ]
  },
  {
   "cell_type": "code",
   "execution_count": 246,
   "id": "ee6a5214",
   "metadata": {},
   "outputs": [
    {
     "data": {
      "text/html": [
       "<div>\n",
       "<style scoped>\n",
       "    .dataframe tbody tr th:only-of-type {\n",
       "        vertical-align: middle;\n",
       "    }\n",
       "\n",
       "    .dataframe tbody tr th {\n",
       "        vertical-align: top;\n",
       "    }\n",
       "\n",
       "    .dataframe thead th {\n",
       "        text-align: right;\n",
       "    }\n",
       "</style>\n",
       "<table border=\"1\" class=\"dataframe\">\n",
       "  <thead>\n",
       "    <tr style=\"text-align: right;\">\n",
       "      <th></th>\n",
       "      <th>date</th>\n",
       "      <th>^DJI</th>\n",
       "    </tr>\n",
       "  </thead>\n",
       "  <tbody>\n",
       "    <tr>\n",
       "      <th>0</th>\n",
       "      <td>2013-09-23</td>\n",
       "      <td>15401.379883</td>\n",
       "    </tr>\n",
       "    <tr>\n",
       "      <th>1</th>\n",
       "      <td>2013-09-24</td>\n",
       "      <td>15334.589844</td>\n",
       "    </tr>\n",
       "    <tr>\n",
       "      <th>2</th>\n",
       "      <td>2013-09-25</td>\n",
       "      <td>15273.259766</td>\n",
       "    </tr>\n",
       "    <tr>\n",
       "      <th>3</th>\n",
       "      <td>2013-09-26</td>\n",
       "      <td>15328.299805</td>\n",
       "    </tr>\n",
       "    <tr>\n",
       "      <th>4</th>\n",
       "      <td>2013-09-27</td>\n",
       "      <td>15258.240234</td>\n",
       "    </tr>\n",
       "  </tbody>\n",
       "</table>\n",
       "</div>"
      ],
      "text/plain": [
       "         date          ^DJI\n",
       "0  2013-09-23  15401.379883\n",
       "1  2013-09-24  15334.589844\n",
       "2  2013-09-25  15273.259766\n",
       "3  2013-09-26  15328.299805\n",
       "4  2013-09-27  15258.240234"
      ]
     },
     "execution_count": 246,
     "metadata": {},
     "output_type": "execute_result"
    }
   ],
   "source": [
    "djva.head()"
   ]
  },
  {
   "cell_type": "code",
   "execution_count": 247,
   "id": "6cedbf97",
   "metadata": {},
   "outputs": [
    {
     "data": {
      "text/html": [
       "<div>\n",
       "<style scoped>\n",
       "    .dataframe tbody tr th:only-of-type {\n",
       "        vertical-align: middle;\n",
       "    }\n",
       "\n",
       "    .dataframe tbody tr th {\n",
       "        vertical-align: top;\n",
       "    }\n",
       "\n",
       "    .dataframe thead th {\n",
       "        text-align: right;\n",
       "    }\n",
       "</style>\n",
       "<table border=\"1\" class=\"dataframe\">\n",
       "  <thead>\n",
       "    <tr style=\"text-align: right;\">\n",
       "      <th></th>\n",
       "      <th>1</th>\n",
       "      <th>2</th>\n",
       "    </tr>\n",
       "  </thead>\n",
       "  <tbody>\n",
       "    <tr>\n",
       "      <th>1</th>\n",
       "      <td>1.000000</td>\n",
       "      <td>0.909652</td>\n",
       "    </tr>\n",
       "    <tr>\n",
       "      <th>2</th>\n",
       "      <td>0.909652</td>\n",
       "      <td>1.000000</td>\n",
       "    </tr>\n",
       "  </tbody>\n",
       "</table>\n",
       "</div>"
      ],
      "text/plain": [
       "          1         2\n",
       "1  1.000000  0.909652\n",
       "2  0.909652  1.000000"
      ]
     },
     "execution_count": 247,
     "metadata": {},
     "output_type": "execute_result"
    }
   ],
   "source": [
    "correaltion = pd.DataFrame({1:train @ pca.components_[0].T, 2:djva.iloc[:, 1]})\n",
    "correaltion.corr()"
   ]
  },
  {
   "cell_type": "code",
   "execution_count": null,
   "id": "eee9a8f9",
   "metadata": {},
   "outputs": [],
   "source": []
  }
 ],
 "metadata": {
  "kernelspec": {
   "display_name": "Python 3 (ipykernel)",
   "language": "python",
   "name": "python3"
  },
  "language_info": {
   "codemirror_mode": {
    "name": "ipython",
    "version": 3
   },
   "file_extension": ".py",
   "mimetype": "text/x-python",
   "name": "python",
   "nbconvert_exporter": "python",
   "pygments_lexer": "ipython3",
   "version": "3.8.8"
  }
 },
 "nbformat": 4,
 "nbformat_minor": 5
}
