{
 "cells": [
  {
   "cell_type": "code",
   "execution_count": 112,
   "id": "2ccd49ba",
   "metadata": {},
   "outputs": [],
   "source": [
    "import pandas as pd\n",
    "import numpy as np\n",
    "\n",
    "\n",
    "from sklearn.model_selection import GridSearchCV, KFold\n",
    "\n",
    "from sklearn.svm import SVC\n",
    "\n",
    "from sklearn import datasets\n",
    "from sklearn.feature_extraction.text import TfidfVectorizer"
   ]
  },
  {
   "cell_type": "code",
   "execution_count": 6,
   "id": "0198f04e",
   "metadata": {},
   "outputs": [],
   "source": [
    "newsgroups = datasets.fetch_20newsgroups(subset='all', categories=['alt.atheism', 'sci.space'])"
   ]
  },
  {
   "cell_type": "code",
   "execution_count": 7,
   "id": "d62b9545",
   "metadata": {},
   "outputs": [],
   "source": [
    "train = newsgroups.data\n",
    "y = newsgroups.target"
   ]
  },
  {
   "cell_type": "code",
   "execution_count": 113,
   "id": "dbf0ad1f",
   "metadata": {},
   "outputs": [
    {
     "name": "stderr",
     "output_type": "stream",
     "text": [
      "/Users/kremenevskiy/opt/anaconda3/envs/ML/lib/python3.8/site-packages/sklearn/utils/deprecation.py:87: FutureWarning: Function get_feature_names is deprecated; get_feature_names is deprecated in 1.0 and will be removed in 1.2. Please use get_feature_names_out instead.\n",
      "  warnings.warn(msg, category=FutureWarning)\n"
     ]
    }
   ],
   "source": [
    "tfidf = TfidfVectorizer()\n",
    "\n",
    "X_train = tfidf.fit_transform(train)\n",
    "features = tfidf.get_feature_names()"
   ]
  },
  {
   "cell_type": "code",
   "execution_count": 114,
   "id": "8d38fbce",
   "metadata": {},
   "outputs": [
    {
     "data": {
      "text/plain": [
       "28382"
      ]
     },
     "execution_count": 114,
     "metadata": {},
     "output_type": "execute_result"
    }
   ],
   "source": [
    "len(features)"
   ]
  },
  {
   "cell_type": "code",
   "execution_count": 115,
   "id": "4569ef47",
   "metadata": {},
   "outputs": [
    {
     "data": {
      "text/plain": [
       "(1786, 28382)"
      ]
     },
     "execution_count": 115,
     "metadata": {},
     "output_type": "execute_result"
    }
   ],
   "source": [
    "X_train.shape"
   ]
  },
  {
   "cell_type": "code",
   "execution_count": 116,
   "id": "f18dad8a",
   "metadata": {},
   "outputs": [],
   "source": [
    "svm_grid = {\n",
    "    'C': np.power(10.0, np.arange(-5, 6))\n",
    "}\n",
    "cv = KFold(n_splits=5, shuffle=True, random_state=241)"
   ]
  },
  {
   "cell_type": "code",
   "execution_count": 117,
   "id": "56cfeea6",
   "metadata": {},
   "outputs": [],
   "source": [
    "svm = SVC(random_state=241, kernel='linear')\n",
    "gs = GridSearchCV(svm, param_grid=svm_grid, cv=cv, scoring='accuracy', verbose=3)"
   ]
  },
  {
   "cell_type": "code",
   "execution_count": 118,
   "id": "ec1a4fc5",
   "metadata": {},
   "outputs": [
    {
     "name": "stdout",
     "output_type": "stream",
     "text": [
      "Fitting 5 folds for each of 11 candidates, totalling 55 fits\n",
      "[CV 1/5] END ...........................C=1e-05;, score=0.545 total time=   3.4s\n",
      "[CV 2/5] END ...........................C=1e-05;, score=0.580 total time=   3.5s\n",
      "[CV 3/5] END ...........................C=1e-05;, score=0.571 total time=   3.3s\n",
      "[CV 4/5] END ...........................C=1e-05;, score=0.501 total time=   3.1s\n",
      "[CV 5/5] END ...........................C=1e-05;, score=0.566 total time=   3.3s\n",
      "[CV 1/5] END ..........................C=0.0001;, score=0.545 total time=   3.3s\n",
      "[CV 2/5] END ..........................C=0.0001;, score=0.580 total time=   3.4s\n",
      "[CV 3/5] END ..........................C=0.0001;, score=0.571 total time=   3.3s\n",
      "[CV 4/5] END ..........................C=0.0001;, score=0.501 total time=   3.1s\n",
      "[CV 5/5] END ..........................C=0.0001;, score=0.566 total time=   3.2s\n",
      "[CV 1/5] END ...........................C=0.001;, score=0.545 total time=   3.3s\n",
      "[CV 2/5] END ...........................C=0.001;, score=0.580 total time=   3.4s\n",
      "[CV 3/5] END ...........................C=0.001;, score=0.571 total time=   3.3s\n",
      "[CV 4/5] END ...........................C=0.001;, score=0.501 total time=   3.4s\n",
      "[CV 5/5] END ...........................C=0.001;, score=0.566 total time=   3.3s\n",
      "[CV 1/5] END ............................C=0.01;, score=0.545 total time=   3.2s\n",
      "[CV 2/5] END ............................C=0.01;, score=0.580 total time=   3.3s\n",
      "[CV 3/5] END ............................C=0.01;, score=0.571 total time=   3.2s\n",
      "[CV 4/5] END ............................C=0.01;, score=0.501 total time=   3.1s\n",
      "[CV 5/5] END ............................C=0.01;, score=0.566 total time=   3.2s\n",
      "[CV 1/5] END .............................C=0.1;, score=0.958 total time=   2.7s\n",
      "[CV 2/5] END .............................C=0.1;, score=0.950 total time=   2.7s\n",
      "[CV 3/5] END .............................C=0.1;, score=0.958 total time=   2.7s\n",
      "[CV 4/5] END .............................C=0.1;, score=0.936 total time=   2.7s\n",
      "[CV 5/5] END .............................C=0.1;, score=0.950 total time=   2.7s\n",
      "[CV 1/5] END .............................C=1.0;, score=0.994 total time=   1.6s\n",
      "[CV 2/5] END .............................C=1.0;, score=0.986 total time=   1.6s\n",
      "[CV 3/5] END .............................C=1.0;, score=1.000 total time=   1.7s\n",
      "[CV 4/5] END .............................C=1.0;, score=0.992 total time=   1.8s\n",
      "[CV 5/5] END .............................C=1.0;, score=0.994 total time=   1.8s\n",
      "[CV 1/5] END ............................C=10.0;, score=0.994 total time=   1.7s\n",
      "[CV 2/5] END ............................C=10.0;, score=0.986 total time=   1.6s\n",
      "[CV 3/5] END ............................C=10.0;, score=1.000 total time=   1.7s\n",
      "[CV 4/5] END ............................C=10.0;, score=0.992 total time=   1.7s\n",
      "[CV 5/5] END ............................C=10.0;, score=0.994 total time=   1.7s\n",
      "[CV 1/5] END ...........................C=100.0;, score=0.994 total time=   1.7s\n",
      "[CV 2/5] END ...........................C=100.0;, score=0.986 total time=   1.7s\n",
      "[CV 3/5] END ...........................C=100.0;, score=1.000 total time=   1.7s\n",
      "[CV 4/5] END ...........................C=100.0;, score=0.992 total time=   1.8s\n",
      "[CV 5/5] END ...........................C=100.0;, score=0.994 total time=   1.7s\n",
      "[CV 1/5] END ..........................C=1000.0;, score=0.994 total time=   1.7s\n",
      "[CV 2/5] END ..........................C=1000.0;, score=0.986 total time=   1.7s\n",
      "[CV 3/5] END ..........................C=1000.0;, score=1.000 total time=   1.7s\n",
      "[CV 4/5] END ..........................C=1000.0;, score=0.992 total time=   1.7s\n",
      "[CV 5/5] END ..........................C=1000.0;, score=0.994 total time=   1.7s\n",
      "[CV 1/5] END .........................C=10000.0;, score=0.994 total time=   1.7s\n",
      "[CV 2/5] END .........................C=10000.0;, score=0.986 total time=   1.8s\n",
      "[CV 3/5] END .........................C=10000.0;, score=1.000 total time=   1.7s\n",
      "[CV 4/5] END .........................C=10000.0;, score=0.992 total time=   1.7s\n",
      "[CV 5/5] END .........................C=10000.0;, score=0.994 total time=   1.7s\n",
      "[CV 1/5] END ........................C=100000.0;, score=0.994 total time=   1.7s\n",
      "[CV 2/5] END ........................C=100000.0;, score=0.986 total time=   1.8s\n",
      "[CV 3/5] END ........................C=100000.0;, score=1.000 total time=   1.7s\n",
      "[CV 4/5] END ........................C=100000.0;, score=0.992 total time=   1.7s\n",
      "[CV 5/5] END ........................C=100000.0;, score=0.994 total time=   1.7s\n"
     ]
    },
    {
     "data": {
      "text/plain": [
       "GridSearchCV(cv=KFold(n_splits=5, random_state=241, shuffle=True),\n",
       "             estimator=SVC(kernel='linear', random_state=241),\n",
       "             param_grid={'C': array([1.e-05, 1.e-04, 1.e-03, 1.e-02, 1.e-01, 1.e+00, 1.e+01, 1.e+02,\n",
       "       1.e+03, 1.e+04, 1.e+05])},\n",
       "             scoring='accuracy', verbose=3)"
      ]
     },
     "execution_count": 118,
     "metadata": {},
     "output_type": "execute_result"
    }
   ],
   "source": [
    "gs.fit(X_train, y)"
   ]
  },
  {
   "cell_type": "code",
   "execution_count": 119,
   "id": "8f2a59ea",
   "metadata": {},
   "outputs": [
    {
     "data": {
      "text/plain": [
       "({'C': 1.0}, 0.9932804406678872)"
      ]
     },
     "execution_count": 119,
     "metadata": {},
     "output_type": "execute_result"
    }
   ],
   "source": [
    "gs.best_params_, gs.best_score_"
   ]
  },
  {
   "cell_type": "code",
   "execution_count": 120,
   "id": "de22477f",
   "metadata": {},
   "outputs": [],
   "source": [
    "best_svm = SVC(random_state=241, kernel='linear', C=gs.best_params_['C'])"
   ]
  },
  {
   "cell_type": "code",
   "execution_count": 156,
   "id": "0a03ae16",
   "metadata": {},
   "outputs": [
    {
     "name": "stdout",
     "output_type": "stream",
     "text": [
      "CPU times: user 1.87 s, sys: 23.5 ms, total: 1.89 s\n",
      "Wall time: 1.94 s\n"
     ]
    },
    {
     "data": {
      "text/plain": [
       "SVC(kernel='linear', random_state=241)"
      ]
     },
     "execution_count": 156,
     "metadata": {},
     "output_type": "execute_result"
    }
   ],
   "source": [
    "%%time\n",
    "best_svm.fit(X_train, y)"
   ]
  },
  {
   "cell_type": "code",
   "execution_count": 157,
   "id": "6c280be0",
   "metadata": {},
   "outputs": [],
   "source": [
    "best_words = pd.DataFrame(np.abs(best_svm.coef_.toarray().T), index=features, columns=['svm_coefs'])\\\n",
    "                .sort_values(by='svm_coefs', ascending=False)"
   ]
  },
  {
   "cell_type": "code",
   "execution_count": 158,
   "id": "9c508f5a",
   "metadata": {},
   "outputs": [
    {
     "data": {
      "text/html": [
       "<div>\n",
       "<style scoped>\n",
       "    .dataframe tbody tr th:only-of-type {\n",
       "        vertical-align: middle;\n",
       "    }\n",
       "\n",
       "    .dataframe tbody tr th {\n",
       "        vertical-align: top;\n",
       "    }\n",
       "\n",
       "    .dataframe thead th {\n",
       "        text-align: right;\n",
       "    }\n",
       "</style>\n",
       "<table border=\"1\" class=\"dataframe\">\n",
       "  <thead>\n",
       "    <tr style=\"text-align: right;\">\n",
       "      <th></th>\n",
       "      <th>svm_coefs</th>\n",
       "    </tr>\n",
       "  </thead>\n",
       "  <tbody>\n",
       "    <tr>\n",
       "      <th>space</th>\n",
       "      <td>2.663165</td>\n",
       "    </tr>\n",
       "    <tr>\n",
       "      <th>god</th>\n",
       "      <td>1.920379</td>\n",
       "    </tr>\n",
       "    <tr>\n",
       "      <th>atheism</th>\n",
       "      <td>1.254690</td>\n",
       "    </tr>\n",
       "    <tr>\n",
       "      <th>atheists</th>\n",
       "      <td>1.249180</td>\n",
       "    </tr>\n",
       "    <tr>\n",
       "      <th>moon</th>\n",
       "      <td>1.201611</td>\n",
       "    </tr>\n",
       "    <tr>\n",
       "      <th>sky</th>\n",
       "      <td>1.180132</td>\n",
       "    </tr>\n",
       "    <tr>\n",
       "      <th>religion</th>\n",
       "      <td>1.139081</td>\n",
       "    </tr>\n",
       "    <tr>\n",
       "      <th>bible</th>\n",
       "      <td>1.130612</td>\n",
       "    </tr>\n",
       "    <tr>\n",
       "      <th>keith</th>\n",
       "      <td>1.097094</td>\n",
       "    </tr>\n",
       "    <tr>\n",
       "      <th>sci</th>\n",
       "      <td>1.029307</td>\n",
       "    </tr>\n",
       "  </tbody>\n",
       "</table>\n",
       "</div>"
      ],
      "text/plain": [
       "          svm_coefs\n",
       "space      2.663165\n",
       "god        1.920379\n",
       "atheism    1.254690\n",
       "atheists   1.249180\n",
       "moon       1.201611\n",
       "sky        1.180132\n",
       "religion   1.139081\n",
       "bible      1.130612\n",
       "keith      1.097094\n",
       "sci        1.029307"
      ]
     },
     "execution_count": 158,
     "metadata": {},
     "output_type": "execute_result"
    }
   ],
   "source": [
    "best_words.head(10)"
   ]
  },
  {
   "cell_type": "code",
   "execution_count": 159,
   "id": "aeb5891a",
   "metadata": {},
   "outputs": [
    {
     "data": {
      "text/plain": [
       "['atheism',\n",
       " 'atheists',\n",
       " 'bible',\n",
       " 'god',\n",
       " 'keith',\n",
       " 'moon',\n",
       " 'religion',\n",
       " 'sci',\n",
       " 'sky',\n",
       " 'space']"
      ]
     },
     "execution_count": 159,
     "metadata": {},
     "output_type": "execute_result"
    }
   ],
   "source": [
    "names = list(best_words.head(10).index)\n",
    "names.sort()\n",
    "names"
   ]
  },
  {
   "cell_type": "code",
   "execution_count": 161,
   "id": "541aba29",
   "metadata": {},
   "outputs": [],
   "source": [
    "with open('2.answer-text-analysis.txt', 'w') as f:\n",
    "    for i in names:\n",
    "        f.write(i)\n",
    "        f.write(' ')"
   ]
  },
  {
   "cell_type": "code",
   "execution_count": null,
   "id": "d9988364",
   "metadata": {},
   "outputs": [],
   "source": []
  }
 ],
 "metadata": {
  "kernelspec": {
   "display_name": "Python 3 (ipykernel)",
   "language": "python",
   "name": "python3"
  },
  "language_info": {
   "codemirror_mode": {
    "name": "ipython",
    "version": 3
   },
   "file_extension": ".py",
   "mimetype": "text/x-python",
   "name": "python",
   "nbconvert_exporter": "python",
   "pygments_lexer": "ipython3",
   "version": "3.8.8"
  }
 },
 "nbformat": 4,
 "nbformat_minor": 5
}
