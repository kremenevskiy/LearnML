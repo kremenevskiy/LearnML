{
 "cells": [
  {
   "cell_type": "code",
   "execution_count": 1,
   "id": "5c35f3da",
   "metadata": {},
   "outputs": [],
   "source": [
    "import numpy as np\n",
    "import pandas as pd\n",
    "import random\n",
    "\n",
    "from sklearn.metrics import roc_auc_score"
   ]
  },
  {
   "cell_type": "code",
   "execution_count": 16,
   "id": "904c3998",
   "metadata": {},
   "outputs": [],
   "source": [
    "data = pd.read_csv('../../../data/data-logistic.csv', header=None)"
   ]
  },
  {
   "cell_type": "code",
   "execution_count": 147,
   "id": "b5219f11",
   "metadata": {},
   "outputs": [],
   "source": [
    "def sigmoid(z):\n",
    "    return 1.0 / (1 + np.exp(-z))\n",
    "\n",
    "\n",
    "class LogisticRegression:\n",
    "    def __init__(self, lmbda=0, eta=0.1):\n",
    "        self.lmbda = lmbda\n",
    "        self.tolerance = 1e-5\n",
    "        self.weights = None\n",
    "        self.eta = eta\n",
    "    \n",
    "    def fit(self, X_train, y_train, start_weights=None):\n",
    "        m_X = X_train.shape[1]\n",
    "        n_X = X_train.shape[0]\n",
    "        \n",
    "        if start_weights is not None:\n",
    "            n_weights = start_weights.shape[0]\n",
    "            self.weights = start_weights\n",
    "        else:\n",
    "            self.weights = np.random.rand(m_X)\n",
    "            n_weights = m_X\n",
    "        \n",
    "        if (m_X != n_weights):\n",
    "            raise Exception('Weights init size is not valid')\n",
    "        \n",
    "        tol = self.tolerance + 1\n",
    "        n_iters = 0\n",
    "        while tol > self.tolerance and n_iters < 1e4:\n",
    "            prev_weights = self.weights\n",
    "            self.weights = self.weights + self.eta * 1.0 / n_X * \\\n",
    "                        np.dot((y_train - sigmoid(np.dot(self.weights, X_train.T))), X_train) - self.eta * self.lmbda * self.weights\n",
    "            \n",
    "            tol = np.linalg.norm(self.weights - prev_weights)\n",
    "            n_iters += 1\n",
    "        return self.weights, n_iters\n",
    "    \n",
    "    def predict(self, X):\n",
    "        return sigmoid(np.dot(X, self.weights.T))"
   ]
  },
  {
   "cell_type": "markdown",
   "id": "d358b8c7",
   "metadata": {},
   "source": [
    "### with regularization"
   ]
  },
  {
   "cell_type": "code",
   "execution_count": 158,
   "id": "a43b78ae",
   "metadata": {},
   "outputs": [],
   "source": [
    "X_train, y_train = data.drop(0, axis=1), data[0]"
   ]
  },
  {
   "cell_type": "code",
   "execution_count": 159,
   "id": "887fe52b",
   "metadata": {},
   "outputs": [],
   "source": [
    "logit = LogisticRegression(lmbda=10, eta=0.1)"
   ]
  },
  {
   "cell_type": "code",
   "execution_count": 160,
   "id": "8bee71b5",
   "metadata": {},
   "outputs": [
    {
     "data": {
      "text/plain": [
       "(array([0.02917647, 0.02332934]), 8)"
      ]
     },
     "execution_count": 160,
     "metadata": {},
     "output_type": "execute_result"
    }
   ],
   "source": [
    "logit.fit(X_train, y_train, start_weights=np.array([0, 0]))"
   ]
  },
  {
   "cell_type": "code",
   "execution_count": 161,
   "id": "195cf196",
   "metadata": {},
   "outputs": [
    {
     "data": {
      "text/plain": [
       "0.937142857142857"
      ]
     },
     "execution_count": 161,
     "metadata": {},
     "output_type": "execute_result"
    }
   ],
   "source": [
    "predicted = logit.predict(X_train)\n",
    "roc_auc_score(y_train, predicted)"
   ]
  },
  {
   "cell_type": "markdown",
   "id": "57293c9c",
   "metadata": {},
   "source": [
    "### with out regularization"
   ]
  },
  {
   "cell_type": "code",
   "execution_count": 162,
   "id": "7f590e80",
   "metadata": {},
   "outputs": [
    {
     "data": {
      "text/plain": [
       "0.9108571428571428"
      ]
     },
     "execution_count": 162,
     "metadata": {},
     "output_type": "execute_result"
    }
   ],
   "source": [
    "logit = LogisticRegression(eta=0.1)\n",
    "logit.fit(X_train, y_train, start_weights=np.array([0, 0]))\n",
    "predicted = logit.predict(X_train)\n",
    "roc_auc_score(y_train, predicted)"
   ]
  },
  {
   "cell_type": "code",
   "execution_count": null,
   "id": "2c20aa2e",
   "metadata": {},
   "outputs": [],
   "source": []
  }
 ],
 "metadata": {
  "kernelspec": {
   "display_name": "Python 3 (ipykernel)",
   "language": "python",
   "name": "python3"
  },
  "language_info": {
   "codemirror_mode": {
    "name": "ipython",
    "version": 3
   },
   "file_extension": ".py",
   "mimetype": "text/x-python",
   "name": "python",
   "nbconvert_exporter": "python",
   "pygments_lexer": "ipython3",
   "version": "3.8.8"
  }
 },
 "nbformat": 4,
 "nbformat_minor": 5
}
