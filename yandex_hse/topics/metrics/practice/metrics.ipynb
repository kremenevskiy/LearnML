{
 "cells": [
  {
   "cell_type": "code",
   "execution_count": 25,
   "id": "8153a901",
   "metadata": {},
   "outputs": [],
   "source": [
    "import numpy as np\n",
    "import pandas as pd\n",
    "from sklearn.metrics import confusion_matrix, f1_score, recall_score, precision_score, accuracy_score, roc_auc_score\n",
    "from sklearn.metrics import precision_recall_curve"
   ]
  },
  {
   "cell_type": "code",
   "execution_count": 2,
   "id": "08491998",
   "metadata": {},
   "outputs": [],
   "source": [
    "data = pd.read_csv('../../../data/classification.csv')"
   ]
  },
  {
   "cell_type": "code",
   "execution_count": 17,
   "id": "3f5df9fe",
   "metadata": {},
   "outputs": [],
   "source": [
    "scores = pd.read_csv('../../../data/scores.csv')"
   ]
  },
  {
   "cell_type": "code",
   "execution_count": 4,
   "id": "004af1c1",
   "metadata": {},
   "outputs": [
    {
     "data": {
      "text/plain": [
       "array([[64, 34],\n",
       "       [59, 43]])"
      ]
     },
     "execution_count": 4,
     "metadata": {},
     "output_type": "execute_result"
    }
   ],
   "source": [
    "confusion_matrix(data.true, data.pred)"
   ]
  },
  {
   "cell_type": "code",
   "execution_count": 5,
   "id": "a53a8007",
   "metadata": {},
   "outputs": [],
   "source": [
    "def accuracy_score_(pred, real):\n",
    "    n_pred = len(pred)\n",
    "    n_real = len(real)\n",
    "    \n",
    "    acc = (pred == real).sum() / (n_pred)\n",
    "    return acc\n",
    "\n",
    "\n",
    "def recall_score_(pred, real):\n",
    "    n_pred = len(pred)\n",
    "    n_real = len(real)\n",
    "    \n",
    "    recall = ((pred == 1) & (real == 1)).sum() / (real == 1).sum()\n",
    "    return recall\n",
    "\n",
    "def precision_score_(pred, real):\n",
    "    n_pred = len(pred)\n",
    "    n_real = len(real)\n",
    "    \n",
    "    precision = ((pred == 1) & (real == 1)).sum() / (pred == 1).sum()\n",
    "    return precision"
   ]
  },
  {
   "cell_type": "code",
   "execution_count": 13,
   "id": "1fe293ff",
   "metadata": {},
   "outputs": [
    {
     "name": "stdout",
     "output_type": "stream",
     "text": [
      "0.535\n"
     ]
    },
    {
     "data": {
      "text/plain": [
       "0.535"
      ]
     },
     "execution_count": 13,
     "metadata": {},
     "output_type": "execute_result"
    }
   ],
   "source": [
    "accuracy = accuracy_score_(data.true, data.pred)\n",
    "print(accuracy_score(data.true, data.pred))\n",
    "accuracy"
   ]
  },
  {
   "cell_type": "code",
   "execution_count": 14,
   "id": "f8f64895",
   "metadata": {},
   "outputs": [
    {
     "name": "stdout",
     "output_type": "stream",
     "text": [
      "0.5584415584415584\n"
     ]
    },
    {
     "data": {
      "text/plain": [
       "0.5584415584415584"
      ]
     },
     "execution_count": 14,
     "metadata": {},
     "output_type": "execute_result"
    }
   ],
   "source": [
    "precision = precision_score(data.true, data.pred)\n",
    "print(precision_score(data.true, data.pred))\n",
    "precision"
   ]
  },
  {
   "cell_type": "code",
   "execution_count": 15,
   "id": "1eab62d6",
   "metadata": {},
   "outputs": [
    {
     "name": "stdout",
     "output_type": "stream",
     "text": [
      "0.4215686274509804\n"
     ]
    },
    {
     "data": {
      "text/plain": [
       "0.4215686274509804"
      ]
     },
     "execution_count": 15,
     "metadata": {},
     "output_type": "execute_result"
    }
   ],
   "source": [
    "recall = recall_score(data.true, data.pred)\n",
    "print(recall_score(data.true, data.pred))\n",
    "recall"
   ]
  },
  {
   "cell_type": "code",
   "execution_count": 16,
   "id": "ef3dc174",
   "metadata": {},
   "outputs": [
    {
     "data": {
      "text/plain": [
       "0.48044692737430167"
      ]
     },
     "execution_count": 16,
     "metadata": {},
     "output_type": "execute_result"
    }
   ],
   "source": [
    "f1_score(data.true, data.pred)"
   ]
  },
  {
   "cell_type": "code",
   "execution_count": null,
   "id": "1c3d38d2",
   "metadata": {},
   "outputs": [],
   "source": []
  },
  {
   "cell_type": "code",
   "execution_count": null,
   "id": "395f5366",
   "metadata": {},
   "outputs": [],
   "source": []
  },
  {
   "cell_type": "code",
   "execution_count": 18,
   "id": "b308ffa7",
   "metadata": {},
   "outputs": [
    {
     "data": {
      "text/html": [
       "<div>\n",
       "<style scoped>\n",
       "    .dataframe tbody tr th:only-of-type {\n",
       "        vertical-align: middle;\n",
       "    }\n",
       "\n",
       "    .dataframe tbody tr th {\n",
       "        vertical-align: top;\n",
       "    }\n",
       "\n",
       "    .dataframe thead th {\n",
       "        text-align: right;\n",
       "    }\n",
       "</style>\n",
       "<table border=\"1\" class=\"dataframe\">\n",
       "  <thead>\n",
       "    <tr style=\"text-align: right;\">\n",
       "      <th></th>\n",
       "      <th>true</th>\n",
       "      <th>score_logreg</th>\n",
       "      <th>score_svm</th>\n",
       "      <th>score_knn</th>\n",
       "      <th>score_tree</th>\n",
       "    </tr>\n",
       "  </thead>\n",
       "  <tbody>\n",
       "    <tr>\n",
       "      <th>0</th>\n",
       "      <td>0</td>\n",
       "      <td>0.683832</td>\n",
       "      <td>0.145976</td>\n",
       "      <td>0.787063</td>\n",
       "      <td>0.500000</td>\n",
       "    </tr>\n",
       "    <tr>\n",
       "      <th>1</th>\n",
       "      <td>1</td>\n",
       "      <td>0.801966</td>\n",
       "      <td>0.239511</td>\n",
       "      <td>1.000000</td>\n",
       "      <td>0.833333</td>\n",
       "    </tr>\n",
       "    <tr>\n",
       "      <th>2</th>\n",
       "      <td>0</td>\n",
       "      <td>0.382315</td>\n",
       "      <td>-0.245701</td>\n",
       "      <td>0.000000</td>\n",
       "      <td>0.000000</td>\n",
       "    </tr>\n",
       "    <tr>\n",
       "      <th>3</th>\n",
       "      <td>1</td>\n",
       "      <td>0.506797</td>\n",
       "      <td>-0.137058</td>\n",
       "      <td>0.000000</td>\n",
       "      <td>0.105263</td>\n",
       "    </tr>\n",
       "    <tr>\n",
       "      <th>4</th>\n",
       "      <td>1</td>\n",
       "      <td>0.488781</td>\n",
       "      <td>-0.154148</td>\n",
       "      <td>0.000000</td>\n",
       "      <td>0.105263</td>\n",
       "    </tr>\n",
       "    <tr>\n",
       "      <th>...</th>\n",
       "      <td>...</td>\n",
       "      <td>...</td>\n",
       "      <td>...</td>\n",
       "      <td>...</td>\n",
       "      <td>...</td>\n",
       "    </tr>\n",
       "    <tr>\n",
       "      <th>195</th>\n",
       "      <td>0</td>\n",
       "      <td>0.573801</td>\n",
       "      <td>-0.088203</td>\n",
       "      <td>0.284192</td>\n",
       "      <td>0.400000</td>\n",
       "    </tr>\n",
       "    <tr>\n",
       "      <th>196</th>\n",
       "      <td>0</td>\n",
       "      <td>0.624422</td>\n",
       "      <td>-0.012315</td>\n",
       "      <td>0.205437</td>\n",
       "      <td>0.400000</td>\n",
       "    </tr>\n",
       "    <tr>\n",
       "      <th>197</th>\n",
       "      <td>1</td>\n",
       "      <td>0.425538</td>\n",
       "      <td>-0.135673</td>\n",
       "      <td>0.382351</td>\n",
       "      <td>0.700000</td>\n",
       "    </tr>\n",
       "    <tr>\n",
       "      <th>198</th>\n",
       "      <td>0</td>\n",
       "      <td>0.905270</td>\n",
       "      <td>0.583806</td>\n",
       "      <td>1.000000</td>\n",
       "      <td>1.000000</td>\n",
       "    </tr>\n",
       "    <tr>\n",
       "      <th>199</th>\n",
       "      <td>0</td>\n",
       "      <td>0.275594</td>\n",
       "      <td>-0.422160</td>\n",
       "      <td>0.743567</td>\n",
       "      <td>0.642857</td>\n",
       "    </tr>\n",
       "  </tbody>\n",
       "</table>\n",
       "<p>200 rows × 5 columns</p>\n",
       "</div>"
      ],
      "text/plain": [
       "     true  score_logreg  score_svm  score_knn  score_tree\n",
       "0       0      0.683832   0.145976   0.787063    0.500000\n",
       "1       1      0.801966   0.239511   1.000000    0.833333\n",
       "2       0      0.382315  -0.245701   0.000000    0.000000\n",
       "3       1      0.506797  -0.137058   0.000000    0.105263\n",
       "4       1      0.488781  -0.154148   0.000000    0.105263\n",
       "..    ...           ...        ...        ...         ...\n",
       "195     0      0.573801  -0.088203   0.284192    0.400000\n",
       "196     0      0.624422  -0.012315   0.205437    0.400000\n",
       "197     1      0.425538  -0.135673   0.382351    0.700000\n",
       "198     0      0.905270   0.583806   1.000000    1.000000\n",
       "199     0      0.275594  -0.422160   0.743567    0.642857\n",
       "\n",
       "[200 rows x 5 columns]"
      ]
     },
     "execution_count": 18,
     "metadata": {},
     "output_type": "execute_result"
    }
   ],
   "source": [
    "scores"
   ]
  },
  {
   "cell_type": "code",
   "execution_count": null,
   "id": "bfa8fb85",
   "metadata": {},
   "outputs": [],
   "source": []
  },
  {
   "cell_type": "code",
   "execution_count": 20,
   "id": "51043a45",
   "metadata": {},
   "outputs": [
    {
     "data": {
      "text/plain": [
       "0.719187675070028"
      ]
     },
     "execution_count": 20,
     "metadata": {},
     "output_type": "execute_result"
    }
   ],
   "source": [
    "roc_auc_score(scores.true, scores.score_logreg)"
   ]
  },
  {
   "cell_type": "code",
   "execution_count": 21,
   "id": "13dd8ee8",
   "metadata": {},
   "outputs": [
    {
     "data": {
      "text/plain": [
       "0.7086834733893557"
      ]
     },
     "execution_count": 21,
     "metadata": {},
     "output_type": "execute_result"
    }
   ],
   "source": [
    "roc_auc_score(scores.true, scores.score_svm)"
   ]
  },
  {
   "cell_type": "code",
   "execution_count": 23,
   "id": "2d0ecc6c",
   "metadata": {},
   "outputs": [
    {
     "data": {
      "text/plain": [
       "0.6351540616246498"
      ]
     },
     "execution_count": 23,
     "metadata": {},
     "output_type": "execute_result"
    }
   ],
   "source": [
    "roc_auc_score(scores.true, scores.score_knn)"
   ]
  },
  {
   "cell_type": "code",
   "execution_count": 24,
   "id": "a83c11f5",
   "metadata": {},
   "outputs": [
    {
     "data": {
      "text/plain": [
       "0.6919267707082833"
      ]
     },
     "execution_count": 24,
     "metadata": {},
     "output_type": "execute_result"
    }
   ],
   "source": [
    "roc_auc_score(scores.true, scores.score_tree)"
   ]
  },
  {
   "cell_type": "code",
   "execution_count": null,
   "id": "92479a80",
   "metadata": {},
   "outputs": [],
   "source": []
  },
  {
   "cell_type": "code",
   "execution_count": 41,
   "id": "b4850feb",
   "metadata": {},
   "outputs": [
    {
     "data": {
      "text/plain": [
       "3"
      ]
     },
     "execution_count": 41,
     "metadata": {},
     "output_type": "execute_result"
    }
   ],
   "source": [
    "len(precision_recall_curve(scores.true, scores.score_logreg))"
   ]
  },
  {
   "cell_type": "code",
   "execution_count": 35,
   "id": "7e0a6c99",
   "metadata": {},
   "outputs": [],
   "source": [
    "labels = rec>0.7"
   ]
  },
  {
   "cell_type": "code",
   "execution_count": 42,
   "id": "600859f9",
   "metadata": {},
   "outputs": [],
   "source": [
    "def max_prec(metrics):\n",
    "    prec, rec, thres = metrics\n",
    "    big_recall = rec >= 0.7\n",
    "    big_prec = prec[big_recall]\n",
    "    return np.max(big_prec)"
   ]
  },
  {
   "cell_type": "code",
   "execution_count": 43,
   "id": "06491aca",
   "metadata": {},
   "outputs": [
    {
     "data": {
      "text/plain": [
       "0.6302521008403361"
      ]
     },
     "execution_count": 43,
     "metadata": {},
     "output_type": "execute_result"
    }
   ],
   "source": [
    "max_prec(precision_recall_curve(scores.true, scores.score_logreg))"
   ]
  },
  {
   "cell_type": "code",
   "execution_count": 44,
   "id": "5ea8e4b6",
   "metadata": {},
   "outputs": [
    {
     "data": {
      "text/plain": [
       "0.6228070175438597"
      ]
     },
     "execution_count": 44,
     "metadata": {},
     "output_type": "execute_result"
    }
   ],
   "source": [
    "max_prec(precision_recall_curve(scores.true, scores.score_svm))"
   ]
  },
  {
   "cell_type": "code",
   "execution_count": 45,
   "id": "91ac1e00",
   "metadata": {},
   "outputs": [
    {
     "data": {
      "text/plain": [
       "0.6065573770491803"
      ]
     },
     "execution_count": 45,
     "metadata": {},
     "output_type": "execute_result"
    }
   ],
   "source": [
    "max_prec(precision_recall_curve(scores.true, scores.score_knn))"
   ]
  },
  {
   "cell_type": "code",
   "execution_count": 46,
   "id": "36b2a33f",
   "metadata": {},
   "outputs": [
    {
     "data": {
      "text/plain": [
       "0.6517857142857143"
      ]
     },
     "execution_count": 46,
     "metadata": {},
     "output_type": "execute_result"
    }
   ],
   "source": [
    "max_prec(precision_recall_curve(scores.true, scores.score_tree))"
   ]
  },
  {
   "cell_type": "code",
   "execution_count": null,
   "id": "64369b50",
   "metadata": {},
   "outputs": [],
   "source": []
  }
 ],
 "metadata": {
  "kernelspec": {
   "display_name": "Python 3 (ipykernel)",
   "language": "python",
   "name": "python3"
  },
  "language_info": {
   "codemirror_mode": {
    "name": "ipython",
    "version": 3
   },
   "file_extension": ".py",
   "mimetype": "text/x-python",
   "name": "python",
   "nbconvert_exporter": "python",
   "pygments_lexer": "ipython3",
   "version": "3.8.8"
  }
 },
 "nbformat": 4,
 "nbformat_minor": 5
}
